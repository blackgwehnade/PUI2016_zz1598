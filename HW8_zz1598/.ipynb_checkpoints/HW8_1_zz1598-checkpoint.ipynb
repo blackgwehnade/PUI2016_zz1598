{
 "cells": [
  {
   "cell_type": "markdown",
   "metadata": {},
   "source": [
    "# Working with Data - Computer Lab for Guest Lecture Julia Lane\n",
    "\n",
    "The practice data work in this computer lab enhances the content of the lecture presented by Julia Lane on responsible data use. I will address a research question, think about data and measurement errors, and manipulate data. \n",
    "\n",
    "OUTLINE: \n",
    "1. Define a research question \n",
    "2. Think about what data are available \n",
    "3. Think about possible measurement errors \n",
    "4. Think about the interpretation of the results \n",
    "5. Inform results by linking datasets \n",
    "6. Future work"
   ]
  },
  {
   "cell_type": "markdown",
   "metadata": {
    "raw_mimetype": "text/markdown"
   },
   "source": [
    "# 1. Define a reserach question\n",
    "Which Community Districts in NYC show the highest/lowest number of complaints? <br/>\n",
    "What are the possible factors of the complaint numbers?\n",
    "\n",
    "# 2. Think about what data are available\n",
    "Find suitable data by searching the CUSP Data Catalog https://datahub.cusp.nyu.edu/catalog. You can use Urban Profiler to investigate the Metadata associated with each dataset. Using this tool will help you to decide which attributes of the data you need to answer your question so you don't have to load the entire dataset. "
   ]
  },
  {
   "cell_type": "code",
   "execution_count": 1,
   "metadata": {
    "collapsed": false
   },
   "outputs": [
    {
     "name": "stdout",
     "output_type": "stream",
     "text": [
      "Populating the interactive namespace from numpy and matplotlib\n"
     ]
    },
    {
     "name": "stderr",
     "output_type": "stream",
     "text": [
      "/opt/rh/anaconda/root/envs/PUI2016_Python2/lib/python2.7/site-packages/IPython/html.py:14: ShimWarning: The `IPython.html` package has been deprecated. You should import from `notebook` instead. `IPython.html.widgets` has moved to `ipywidgets`.\n",
      "  \"`IPython.html.widgets` has moved to `ipywidgets`.\", ShimWarning)\n"
     ]
    }
   ],
   "source": [
    "import os\n",
    "import pandas as pd\n",
    "import numpy as np\n",
    "import statsmodels.formula.api as smf\n",
    "import statsmodels.api as sm\n",
    "import re\n",
    "\n",
    "import seaborn\n",
    "import pylab as pl\n",
    "%pylab inline\n",
    "\n",
    "PUIdata = os.getenv('PUIDATA')"
   ]
  },
  {
   "cell_type": "code",
   "execution_count": 2,
   "metadata": {
    "collapsed": true
   },
   "outputs": [],
   "source": [
    "# http://cosmo.nyu.edu/~fb55/PUI2016/data/"
   ]
  },
  {
   "cell_type": "code",
   "execution_count": 3,
   "metadata": {
    "collapsed": false,
    "scrolled": true
   },
   "outputs": [
    {
     "name": "stderr",
     "output_type": "stream",
     "text": [
      "/opt/rh/anaconda/root/envs/PUI2016_Python2/lib/python2.7/site-packages/IPython/core/interactiveshell.py:2717: DtypeWarning: Columns (8,17,40,43,44,45,47,48,49) have mixed types. Specify dtype option on import or set low_memory=False.\n",
      "  interactivity=interactivity, compiler=compiler, result=result)\n"
     ]
    },
    {
     "data": {
      "text/plain": [
       "Index([u'Unique Key', u'Created Date', u'Closed Date', u'Agency',\n",
       "       u'Agency Name', u'Complaint Type', u'Descriptor', u'Location Type',\n",
       "       u'Incident Zip', u'Incident Address', u'Street Name', u'Cross Street 1',\n",
       "       u'Cross Street 2', u'Intersection Street 1', u'Intersection Street 2',\n",
       "       u'Address Type', u'City', u'Landmark', u'Facility Type', u'Status',\n",
       "       u'Due Date', u'Resolution Description',\n",
       "       u'Resolution Action Updated Date', u'Community Board', u'Borough',\n",
       "       u'X Coordinate (State Plane)', u'Y Coordinate (State Plane)',\n",
       "       u'Park Facility Name', u'Park Borough', u'School Name',\n",
       "       u'School Number', u'School Region', u'School Code',\n",
       "       u'School Phone Number', u'School Address', u'School City',\n",
       "       u'School State', u'School Zip', u'School Not Found',\n",
       "       u'School or Citywide Complaint', u'Vehicle Type',\n",
       "       u'Taxi Company Borough', u'Taxi Pick Up Location',\n",
       "       u'Bridge Highway Name', u'Bridge Highway Direction', u'Road Ramp',\n",
       "       u'Bridge Highway Segment', u'Garage Lot Name', u'Ferry Direction',\n",
       "       u'Ferry Terminal Name', u'Latitude', u'Longitude', u'Location'],\n",
       "      dtype='object')"
      ]
     },
     "execution_count": 3,
     "metadata": {},
     "output_type": "execute_result"
    }
   ],
   "source": [
    "# Load dataset and visualize the columns\n",
    "data = pd.read_csv('/projects/open/NYCOpenData/nycopendata/data/erm2-nwe9/1446832678/erm2-nwe9',\n",
    "                  nrows = 100000)   #  for specific columns: usecols=['Complaint Type',..]\n",
    "data.columns"
   ]
  },
  {
   "cell_type": "markdown",
   "metadata": {},
   "source": [
    "# 3. Think about possible measurement errors\n",
    "Do you see any problems regarding possible measurement error? Think about who is represented in the data, ommissions, duplications, content error, missing data, etc. "
   ]
  },
  {
   "cell_type": "code",
   "execution_count": 4,
   "metadata": {
    "collapsed": true
   },
   "outputs": [],
   "source": [
    "# I am going to check if all Boroughs and Community Districts are represented in the Data \n",
    "# --6 Boroughs\n",
    "# --77 unique community board  (with error ones that need to deal with)"
   ]
  },
  {
   "cell_type": "code",
   "execution_count": 5,
   "metadata": {
    "collapsed": true
   },
   "outputs": [],
   "source": [
    "data2 = data.ix[:,('Unique Key','Created Date','Incident Zip','City', 'Borough','Community Board','Complaint Type',\n",
    "                  'X Coordinate (State Plane)', 'Y Coordinate (State Plane)')]"
   ]
  },
  {
   "cell_type": "code",
   "execution_count": 8,
   "metadata": {
    "collapsed": false
   },
   "outputs": [
    {
     "data": {
      "text/plain": [
       "100000"
      ]
     },
     "execution_count": 8,
     "metadata": {},
     "output_type": "execute_result"
    }
   ],
   "source": [
    "data2['Community Board'].count() # The numbers of rows I pick"
   ]
  },
  {
   "cell_type": "code",
   "execution_count": 9,
   "metadata": {
    "collapsed": false
   },
   "outputs": [
    {
     "data": {
      "text/plain": [
       "array(['13 BROOKLYN', '0 Unspecified', '18 BROOKLYN', '12 BROOKLYN',\n",
       "       '02 STATEN ISLAND', '08 MANHATTAN', '06 BROOKLYN', '10 BRONX',\n",
       "       '06 MANHATTAN', '04 BROOKLYN', '04 QUEENS', '09 MANHATTAN',\n",
       "       '14 BROOKLYN', '05 MANHATTAN', '02 MANHATTAN', '10 QUEENS',\n",
       "       '07 QUEENS', '02 QUEENS', '11 BROOKLYN', '05 QUEENS', '05 BROOKLYN',\n",
       "       '09 QUEENS', '12 MANHATTAN', '01 BROOKLYN', '11 MANHATTAN',\n",
       "       '03 BRONX', '03 STATEN ISLAND', '08 BROOKLYN', '03 BROOKLYN',\n",
       "       '07 MANHATTAN', '10 MANHATTAN', '04 BRONX', '01 MANHATTAN',\n",
       "       '07 BRONX', '09 BRONX', '03 MANHATTAN', '13 QUEENS', '02 BRONX',\n",
       "       '12 QUEENS', '16 BROOKLYN', '08 QUEENS', '04 MANHATTAN',\n",
       "       '14 QUEENS', '10 BROOKLYN', '11 QUEENS', '06 BRONX', '08 BRONX',\n",
       "       '05 BRONX', '15 BROOKLYN', '02 BROOKLYN', '12 BRONX', '03 QUEENS',\n",
       "       '06 QUEENS', '01 STATEN ISLAND', '01 BRONX', '01 QUEENS',\n",
       "       '17 BROOKLYN', '11 BRONX', 'Unspecified QUEENS', '09 BROOKLYN',\n",
       "       'Unspecified MANHATTAN', 'Unspecified BROOKLYN', '07 BROOKLYN',\n",
       "       'Unspecified BRONX', '64 MANHATTAN', '81 QUEENS', '55 BROOKLYN',\n",
       "       '83 QUEENS', 'Unspecified STATEN ISLAND', '28 BRONX', '80 QUEENS',\n",
       "       '26 BRONX', '95 STATEN ISLAND', '82 QUEENS', '27 BRONX',\n",
       "       '56 BROOKLYN', '84 QUEENS'], dtype=object)"
      ]
     },
     "execution_count": 9,
     "metadata": {},
     "output_type": "execute_result"
    }
   ],
   "source": [
    "# How many unique values do we have? \n",
    "data2['Community Board'].unique()"
   ]
  },
  {
   "cell_type": "code",
   "execution_count": 10,
   "metadata": {
    "collapsed": false
   },
   "outputs": [
    {
     "data": {
      "text/plain": [
       "77"
      ]
     },
     "execution_count": 10,
     "metadata": {},
     "output_type": "execute_result"
    }
   ],
   "source": [
    "# By oberserving the columns, some of them are unspecified, missing. Some might be invalid entries. \n",
    "# We should have 59 Community Districts, so there are miss labeled ones within the 77 \n",
    "len(data2['Community Board'].unique()) "
   ]
  },
  {
   "cell_type": "code",
   "execution_count": 11,
   "metadata": {
    "collapsed": false
   },
   "outputs": [
    {
     "data": {
      "text/html": [
       "<div>\n",
       "<table border=\"1\" class=\"dataframe\">\n",
       "  <thead>\n",
       "    <tr style=\"text-align: right;\">\n",
       "      <th></th>\n",
       "      <th>Unique Key</th>\n",
       "      <th>Created Date</th>\n",
       "      <th>Incident Zip</th>\n",
       "      <th>City</th>\n",
       "      <th>Borough</th>\n",
       "      <th>Community Board</th>\n",
       "      <th>Complaint Type</th>\n",
       "      <th>X Coordinate (State Plane)</th>\n",
       "      <th>Y Coordinate (State Plane)</th>\n",
       "    </tr>\n",
       "  </thead>\n",
       "  <tbody>\n",
       "    <tr>\n",
       "      <th>80530</th>\n",
       "      <td>31837258</td>\n",
       "      <td>10/21/2015 10:55:21 AM</td>\n",
       "      <td>NaN</td>\n",
       "      <td>NaN</td>\n",
       "      <td>Unspecified</td>\n",
       "      <td>0 Unspecified</td>\n",
       "      <td>DOT Literature Request</td>\n",
       "      <td>NaN</td>\n",
       "      <td>NaN</td>\n",
       "    </tr>\n",
       "    <tr>\n",
       "      <th>3918</th>\n",
       "      <td>31908522</td>\n",
       "      <td>11/04/2015 11:30:46 AM</td>\n",
       "      <td>NaN</td>\n",
       "      <td>NaN</td>\n",
       "      <td>Unspecified</td>\n",
       "      <td>0 Unspecified</td>\n",
       "      <td>DOF Literature Request</td>\n",
       "      <td>NaN</td>\n",
       "      <td>NaN</td>\n",
       "    </tr>\n",
       "    <tr>\n",
       "      <th>3917</th>\n",
       "      <td>31909581</td>\n",
       "      <td>11/04/2015 11:30:57 AM</td>\n",
       "      <td>NaN</td>\n",
       "      <td>NaN</td>\n",
       "      <td>Unspecified</td>\n",
       "      <td>0 Unspecified</td>\n",
       "      <td>DOF Literature Request</td>\n",
       "      <td>NaN</td>\n",
       "      <td>NaN</td>\n",
       "    </tr>\n",
       "    <tr>\n",
       "      <th>96923</th>\n",
       "      <td>31796497</td>\n",
       "      <td>10/19/2015 07:58:52 AM</td>\n",
       "      <td>NaN</td>\n",
       "      <td>NaN</td>\n",
       "      <td>Unspecified</td>\n",
       "      <td>0 Unspecified</td>\n",
       "      <td>DCA / DOH New License Application Request</td>\n",
       "      <td>NaN</td>\n",
       "      <td>NaN</td>\n",
       "    </tr>\n",
       "    <tr>\n",
       "      <th>3910</th>\n",
       "      <td>31912746</td>\n",
       "      <td>11/04/2015 11:31:17 AM</td>\n",
       "      <td>NaN</td>\n",
       "      <td>NaN</td>\n",
       "      <td>Unspecified</td>\n",
       "      <td>0 Unspecified</td>\n",
       "      <td>HPD Literature Request</td>\n",
       "      <td>NaN</td>\n",
       "      <td>NaN</td>\n",
       "    </tr>\n",
       "  </tbody>\n",
       "</table>\n",
       "</div>"
      ],
      "text/plain": [
       "       Unique Key            Created Date Incident Zip City      Borough  \\\n",
       "80530    31837258  10/21/2015 10:55:21 AM          NaN  NaN  Unspecified   \n",
       "3918     31908522  11/04/2015 11:30:46 AM          NaN  NaN  Unspecified   \n",
       "3917     31909581  11/04/2015 11:30:57 AM          NaN  NaN  Unspecified   \n",
       "96923    31796497  10/19/2015 07:58:52 AM          NaN  NaN  Unspecified   \n",
       "3910     31912746  11/04/2015 11:31:17 AM          NaN  NaN  Unspecified   \n",
       "\n",
       "      Community Board                             Complaint Type  \\\n",
       "80530   0 Unspecified                     DOT Literature Request   \n",
       "3918    0 Unspecified                     DOF Literature Request   \n",
       "3917    0 Unspecified                     DOF Literature Request   \n",
       "96923   0 Unspecified  DCA / DOH New License Application Request   \n",
       "3910    0 Unspecified                     HPD Literature Request   \n",
       "\n",
       "       X Coordinate (State Plane)  Y Coordinate (State Plane)  \n",
       "80530                         NaN                         NaN  \n",
       "3918                          NaN                         NaN  \n",
       "3917                          NaN                         NaN  \n",
       "96923                         NaN                         NaN  \n",
       "3910                          NaN                         NaN  "
      ]
     },
     "execution_count": 11,
     "metadata": {},
     "output_type": "execute_result"
    }
   ],
   "source": [
    "data2 = data2.sort_values(by='Community Board')\n",
    "data2.head()"
   ]
  },
  {
   "cell_type": "code",
   "execution_count": 12,
   "metadata": {
    "collapsed": false
   },
   "outputs": [
    {
     "data": {
      "text/plain": [
       "100000"
      ]
     },
     "execution_count": 12,
     "metadata": {},
     "output_type": "execute_result"
    }
   ],
   "source": [
    "# Check for duplicates\n",
    "len(data2.drop_duplicates())   \n",
    "#data2.duplicated()\n",
    "# There are no rows that are exactly the same "
   ]
  },
  {
   "cell_type": "code",
   "execution_count": 14,
   "metadata": {
    "collapsed": false
   },
   "outputs": [
    {
     "data": {
      "text/plain": [
       "100000"
      ]
     },
     "execution_count": 14,
     "metadata": {},
     "output_type": "execute_result"
    }
   ],
   "source": [
    "# What about missing values? Can you detect any patterns? \n",
    "# Answers: There are unspecified entries\n",
    "len(pd.notnull(data2['Community Board']) == True)"
   ]
  },
  {
   "cell_type": "code",
   "execution_count": 15,
   "metadata": {
    "collapsed": true
   },
   "outputs": [],
   "source": [
    "# Data Editing: As the volume of data is large enough, I m going to drop the rows with invalid community district names"
   ]
  },
  {
   "cell_type": "code",
   "execution_count": 16,
   "metadata": {
    "collapsed": false,
    "scrolled": false
   },
   "outputs": [
    {
     "name": "stdout",
     "output_type": "stream",
     "text": [
      "0 Unspecified\n",
      "01 BRONX\n",
      "01 BROOKLYN\n",
      "01 MANHATTAN\n",
      "01 QUEENS\n",
      "01 STATEN ISLAND\n",
      "02 BRONX\n",
      "02 BROOKLYN\n",
      "02 MANHATTAN\n",
      "02 QUEENS\n",
      "02 STATEN ISLAND\n",
      "03 BRONX\n",
      "03 BROOKLYN\n",
      "03 MANHATTAN\n",
      "03 QUEENS\n",
      "03 STATEN ISLAND\n",
      "04 BRONX\n",
      "04 BROOKLYN\n",
      "04 MANHATTAN\n",
      "04 QUEENS\n",
      "05 BRONX\n",
      "05 BROOKLYN\n",
      "05 MANHATTAN\n",
      "05 QUEENS\n",
      "06 BRONX\n",
      "06 BROOKLYN\n",
      "06 MANHATTAN\n",
      "06 QUEENS\n",
      "07 BRONX\n",
      "07 BROOKLYN\n",
      "07 MANHATTAN\n",
      "07 QUEENS\n",
      "08 BRONX\n",
      "08 BROOKLYN\n",
      "08 MANHATTAN\n",
      "08 QUEENS\n",
      "09 BRONX\n",
      "09 BROOKLYN\n",
      "09 MANHATTAN\n",
      "09 QUEENS\n",
      "10 BRONX\n",
      "10 BROOKLYN\n",
      "10 MANHATTAN\n",
      "10 QUEENS\n",
      "11 BRONX\n",
      "11 BROOKLYN\n",
      "11 MANHATTAN\n",
      "11 QUEENS\n",
      "12 BRONX\n",
      "12 BROOKLYN\n",
      "12 MANHATTAN\n",
      "12 QUEENS\n",
      "13 BROOKLYN\n",
      "13 QUEENS\n",
      "14 BROOKLYN\n",
      "14 QUEENS\n",
      "15 BROOKLYN\n",
      "16 BROOKLYN\n",
      "17 BROOKLYN\n",
      "18 BROOKLYN\n",
      "26 BRONX\n",
      "27 BRONX\n",
      "28 BRONX\n",
      "55 BROOKLYN\n",
      "56 BROOKLYN\n",
      "64 MANHATTAN\n",
      "80 QUEENS\n",
      "81 QUEENS\n",
      "82 QUEENS\n",
      "83 QUEENS\n",
      "84 QUEENS\n",
      "95 STATEN ISLAND\n",
      "Unspecified BRONX\n",
      "Unspecified BROOKLYN\n",
      "Unspecified MANHATTAN\n",
      "Unspecified QUEENS\n",
      "Unspecified STATEN ISLAND\n"
     ]
    }
   ],
   "source": [
    "# Take a look at the community district names in data2\n",
    "for cd in data2['Community Board'].unique():\n",
    "    print cd"
   ]
  },
  {
   "cell_type": "code",
   "execution_count": 17,
   "metadata": {
    "collapsed": false
   },
   "outputs": [
    {
     "data": {
      "text/html": [
       "<div>\n",
       "<table border=\"1\" class=\"dataframe\">\n",
       "  <thead>\n",
       "    <tr style=\"text-align: right;\">\n",
       "      <th></th>\n",
       "      <th>Unique Key</th>\n",
       "      <th>Created Date</th>\n",
       "      <th>Incident Zip</th>\n",
       "      <th>City</th>\n",
       "      <th>Borough</th>\n",
       "      <th>Community Board</th>\n",
       "      <th>Complaint Type</th>\n",
       "      <th>X Coordinate (State Plane)</th>\n",
       "      <th>Y Coordinate (State Plane)</th>\n",
       "      <th>marked_bad_district</th>\n",
       "    </tr>\n",
       "  </thead>\n",
       "  <tbody>\n",
       "    <tr>\n",
       "      <th>80530</th>\n",
       "      <td>31837258</td>\n",
       "      <td>10/21/2015 10:55:21 AM</td>\n",
       "      <td>NaN</td>\n",
       "      <td>NaN</td>\n",
       "      <td>Unspecified</td>\n",
       "      <td>0 Unspecified</td>\n",
       "      <td>DOT Literature Request</td>\n",
       "      <td>NaN</td>\n",
       "      <td>NaN</td>\n",
       "      <td>1.0</td>\n",
       "    </tr>\n",
       "    <tr>\n",
       "      <th>3918</th>\n",
       "      <td>31908522</td>\n",
       "      <td>11/04/2015 11:30:46 AM</td>\n",
       "      <td>NaN</td>\n",
       "      <td>NaN</td>\n",
       "      <td>Unspecified</td>\n",
       "      <td>0 Unspecified</td>\n",
       "      <td>DOF Literature Request</td>\n",
       "      <td>NaN</td>\n",
       "      <td>NaN</td>\n",
       "      <td>1.0</td>\n",
       "    </tr>\n",
       "    <tr>\n",
       "      <th>3917</th>\n",
       "      <td>31909581</td>\n",
       "      <td>11/04/2015 11:30:57 AM</td>\n",
       "      <td>NaN</td>\n",
       "      <td>NaN</td>\n",
       "      <td>Unspecified</td>\n",
       "      <td>0 Unspecified</td>\n",
       "      <td>DOF Literature Request</td>\n",
       "      <td>NaN</td>\n",
       "      <td>NaN</td>\n",
       "      <td>1.0</td>\n",
       "    </tr>\n",
       "    <tr>\n",
       "      <th>96923</th>\n",
       "      <td>31796497</td>\n",
       "      <td>10/19/2015 07:58:52 AM</td>\n",
       "      <td>NaN</td>\n",
       "      <td>NaN</td>\n",
       "      <td>Unspecified</td>\n",
       "      <td>0 Unspecified</td>\n",
       "      <td>DCA / DOH New License Application Request</td>\n",
       "      <td>NaN</td>\n",
       "      <td>NaN</td>\n",
       "      <td>1.0</td>\n",
       "    </tr>\n",
       "    <tr>\n",
       "      <th>3910</th>\n",
       "      <td>31912746</td>\n",
       "      <td>11/04/2015 11:31:17 AM</td>\n",
       "      <td>NaN</td>\n",
       "      <td>NaN</td>\n",
       "      <td>Unspecified</td>\n",
       "      <td>0 Unspecified</td>\n",
       "      <td>HPD Literature Request</td>\n",
       "      <td>NaN</td>\n",
       "      <td>NaN</td>\n",
       "      <td>1.0</td>\n",
       "    </tr>\n",
       "  </tbody>\n",
       "</table>\n",
       "</div>"
      ],
      "text/plain": [
       "       Unique Key            Created Date Incident Zip City      Borough  \\\n",
       "80530    31837258  10/21/2015 10:55:21 AM          NaN  NaN  Unspecified   \n",
       "3918     31908522  11/04/2015 11:30:46 AM          NaN  NaN  Unspecified   \n",
       "3917     31909581  11/04/2015 11:30:57 AM          NaN  NaN  Unspecified   \n",
       "96923    31796497  10/19/2015 07:58:52 AM          NaN  NaN  Unspecified   \n",
       "3910     31912746  11/04/2015 11:31:17 AM          NaN  NaN  Unspecified   \n",
       "\n",
       "      Community Board                             Complaint Type  \\\n",
       "80530   0 Unspecified                     DOT Literature Request   \n",
       "3918    0 Unspecified                     DOF Literature Request   \n",
       "3917    0 Unspecified                     DOF Literature Request   \n",
       "96923   0 Unspecified  DCA / DOH New License Application Request   \n",
       "3910    0 Unspecified                     HPD Literature Request   \n",
       "\n",
       "       X Coordinate (State Plane)  Y Coordinate (State Plane)  \\\n",
       "80530                         NaN                         NaN   \n",
       "3918                          NaN                         NaN   \n",
       "3917                          NaN                         NaN   \n",
       "96923                         NaN                         NaN   \n",
       "3910                          NaN                         NaN   \n",
       "\n",
       "       marked_bad_district  \n",
       "80530                  1.0  \n",
       "3918                   1.0  \n",
       "3917                   1.0  \n",
       "96923                  1.0  \n",
       "3910                   1.0  "
      ]
     },
     "execution_count": 17,
     "metadata": {},
     "output_type": "execute_result"
    }
   ],
   "source": [
    "# Generate marker for unplausible Community Districts \n",
    "# bad patterns: starts with \"U\" or \"0\" or any number > 18 \n",
    "# Mark bad patterns as \"1\" and others as \"0\" -- later I will delete the rows marked as \"1\"\n",
    "\n",
    "for i in xrange(len(data2['Community Board'])):\n",
    "    if ((data2.ix[i,'Community Board'][0] == 'U') or\n",
    "        (int(data2.ix[i,'Community Board'][:2]) == 0) or\n",
    "        (int(data2.ix[i,'Community Board'][:2]) > 18)):\n",
    "        \n",
    "        data2.ix[i,'marked_bad_district'] = 1\n",
    "    else:\n",
    "        data2.ix[i,'marked_bad_district'] = 0\n",
    "\n",
    "data2.head()"
   ]
  },
  {
   "cell_type": "code",
   "execution_count": 23,
   "metadata": {
    "collapsed": false
   },
   "outputs": [
    {
     "data": {
      "text/plain": [
       "0"
      ]
     },
     "execution_count": 23,
     "metadata": {},
     "output_type": "execute_result"
    }
   ],
   "source": [
    "int((data2.ix[3917,'Community Board'])[:2])  # Check the values in a randomly picked row (with index 3917)"
   ]
  },
  {
   "cell_type": "code",
   "execution_count": 25,
   "metadata": {
    "collapsed": false
   },
   "outputs": [
    {
     "data": {
      "text/plain": [
       "array([ 1.,  0.])"
      ]
     },
     "execution_count": 25,
     "metadata": {},
     "output_type": "execute_result"
    }
   ],
   "source": [
    "data2['marked_bad_district'].unique() # Check the values in the column \"marked_bad_district\" "
   ]
  },
  {
   "cell_type": "code",
   "execution_count": 26,
   "metadata": {
    "collapsed": false
   },
   "outputs": [
    {
     "data": {
      "text/plain": [
       "(100000, 10)"
      ]
     },
     "execution_count": 26,
     "metadata": {},
     "output_type": "execute_result"
    }
   ],
   "source": [
    "data2.shape"
   ]
  },
  {
   "cell_type": "code",
   "execution_count": 27,
   "metadata": {
    "collapsed": false
   },
   "outputs": [
    {
     "data": {
      "text/html": [
       "<div>\n",
       "<table border=\"1\" class=\"dataframe\">\n",
       "  <thead>\n",
       "    <tr style=\"text-align: right;\">\n",
       "      <th></th>\n",
       "      <th>Unique Key</th>\n",
       "      <th>Created Date</th>\n",
       "      <th>Incident Zip</th>\n",
       "      <th>City</th>\n",
       "      <th>Borough</th>\n",
       "      <th>Community Board</th>\n",
       "      <th>Complaint Type</th>\n",
       "      <th>X Coordinate (State Plane)</th>\n",
       "      <th>Y Coordinate (State Plane)</th>\n",
       "      <th>marked_bad_district</th>\n",
       "    </tr>\n",
       "  </thead>\n",
       "  <tbody>\n",
       "    <tr>\n",
       "      <th>66596</th>\n",
       "      <td>31834962</td>\n",
       "      <td>10/23/2015 04:00:32 PM</td>\n",
       "      <td>10454</td>\n",
       "      <td>BRONX</td>\n",
       "      <td>BRONX</td>\n",
       "      <td>01 BRONX</td>\n",
       "      <td>Plumbing</td>\n",
       "      <td>1006860.0</td>\n",
       "      <td>233035.0</td>\n",
       "      <td>0.0</td>\n",
       "    </tr>\n",
       "    <tr>\n",
       "      <th>43168</th>\n",
       "      <td>31843188</td>\n",
       "      <td>10/27/2015 11:03:07 PM</td>\n",
       "      <td>10454</td>\n",
       "      <td>BRONX</td>\n",
       "      <td>BRONX</td>\n",
       "      <td>01 BRONX</td>\n",
       "      <td>HEAT/HOT WATER</td>\n",
       "      <td>1006769.0</td>\n",
       "      <td>233850.0</td>\n",
       "      <td>0.0</td>\n",
       "    </tr>\n",
       "    <tr>\n",
       "      <th>64424</th>\n",
       "      <td>31851254</td>\n",
       "      <td>10/24/2015 08:49:32 AM</td>\n",
       "      <td>10469</td>\n",
       "      <td>BRONX</td>\n",
       "      <td>BRONX</td>\n",
       "      <td>01 BRONX</td>\n",
       "      <td>Rodent</td>\n",
       "      <td>1027094.0</td>\n",
       "      <td>254646.0</td>\n",
       "      <td>0.0</td>\n",
       "    </tr>\n",
       "    <tr>\n",
       "      <th>40199</th>\n",
       "      <td>31862624</td>\n",
       "      <td>10/28/2015 12:57:59 PM</td>\n",
       "      <td>10455</td>\n",
       "      <td>BRONX</td>\n",
       "      <td>BRONX</td>\n",
       "      <td>01 BRONX</td>\n",
       "      <td>Noise - Vehicle</td>\n",
       "      <td>1008140.0</td>\n",
       "      <td>237795.0</td>\n",
       "      <td>0.0</td>\n",
       "    </tr>\n",
       "    <tr>\n",
       "      <th>85504</th>\n",
       "      <td>31803832</td>\n",
       "      <td>10/20/2015 01:34:04 PM</td>\n",
       "      <td>10454</td>\n",
       "      <td>BRONX</td>\n",
       "      <td>BRONX</td>\n",
       "      <td>01 BRONX</td>\n",
       "      <td>FLOORING/STAIRS</td>\n",
       "      <td>1006781.0</td>\n",
       "      <td>233878.0</td>\n",
       "      <td>0.0</td>\n",
       "    </tr>\n",
       "  </tbody>\n",
       "</table>\n",
       "</div>"
      ],
      "text/plain": [
       "       Unique Key            Created Date Incident Zip   City Borough  \\\n",
       "66596    31834962  10/23/2015 04:00:32 PM        10454  BRONX   BRONX   \n",
       "43168    31843188  10/27/2015 11:03:07 PM        10454  BRONX   BRONX   \n",
       "64424    31851254  10/24/2015 08:49:32 AM        10469  BRONX   BRONX   \n",
       "40199    31862624  10/28/2015 12:57:59 PM        10455  BRONX   BRONX   \n",
       "85504    31803832  10/20/2015 01:34:04 PM        10454  BRONX   BRONX   \n",
       "\n",
       "      Community Board   Complaint Type  X Coordinate (State Plane)  \\\n",
       "66596        01 BRONX         Plumbing                   1006860.0   \n",
       "43168        01 BRONX   HEAT/HOT WATER                   1006769.0   \n",
       "64424        01 BRONX           Rodent                   1027094.0   \n",
       "40199        01 BRONX  Noise - Vehicle                   1008140.0   \n",
       "85504        01 BRONX  FLOORING/STAIRS                   1006781.0   \n",
       "\n",
       "       Y Coordinate (State Plane)  marked_bad_district  \n",
       "66596                    233035.0                  0.0  \n",
       "43168                    233850.0                  0.0  \n",
       "64424                    254646.0                  0.0  \n",
       "40199                    237795.0                  0.0  \n",
       "85504                    233878.0                  0.0  "
      ]
     },
     "execution_count": 27,
     "metadata": {},
     "output_type": "execute_result"
    }
   ],
   "source": [
    "# Keep the rows marked as \"0\" (drop the marked rows)\n",
    "data2b = data2[data2['marked_bad_district'] == 0]\n",
    "data2b.head()        "
   ]
  },
  {
   "cell_type": "code",
   "execution_count": 29,
   "metadata": {
    "collapsed": false
   },
   "outputs": [
    {
     "data": {
      "text/plain": [
       "Community Board\n",
       "01 BRONX             876\n",
       "01 BROOKLYN         2261\n",
       "01 MANHATTAN        1028\n",
       "01 QUEENS           2048\n",
       "01 STATEN ISLAND    1733\n",
       "Name: Complaint Type, dtype: int64"
      ]
     },
     "execution_count": 29,
     "metadata": {},
     "output_type": "execute_result"
    }
   ],
   "source": [
    "# Produce the result: Generate an indicator which ranks the Community District by complaint numbers \n",
    "# on the Community district level\n",
    "data3 = data2b.groupby('Community Board')['Complaint Type'].count()\n",
    "#data3 = data2['Complaint Type'].groupby('Community Board').count() #***doesn't work!\n",
    "data3[:5]"
   ]
  },
  {
   "cell_type": "code",
   "execution_count": 30,
   "metadata": {
    "collapsed": false
   },
   "outputs": [
    {
     "data": {
      "text/plain": [
       "pandas.core.series.Series"
      ]
     },
     "execution_count": 30,
     "metadata": {},
     "output_type": "execute_result"
    }
   ],
   "source": [
    "type(data3)"
   ]
  },
  {
   "cell_type": "code",
   "execution_count": 31,
   "metadata": {
    "collapsed": true
   },
   "outputs": [],
   "source": [
    "# Safe reduced data frame (Community District level) if needed\n",
    "\n",
    "# data3.to_csv('CommunityDist_complaints.csv')"
   ]
  },
  {
   "cell_type": "markdown",
   "metadata": {},
   "source": [
    "# 4. Think about the interpretation of my results and select the data\n",
    "It might be good to explore in more detail the underlying dempgraphics/infrastructure of a Community District becasue this might influence 311 calls. You can do this by merging external data on the Community District level to your analysis data. "
   ]
  },
  {
   "cell_type": "code",
   "execution_count": 33,
   "metadata": {
    "collapsed": false,
    "scrolled": true
   },
   "outputs": [],
   "source": [
    "# Load the data Population by Community District\n",
    "#df_pop = pd.read_csv(PUIdata + \"/Final_Demographics.csv\")\n",
    "df_pop = pd.read_csv('http://cosmo.nyu.edu/~fb55/PUI2016/data/Final_Demographics.csv')"
   ]
  },
  {
   "cell_type": "code",
   "execution_count": 34,
   "metadata": {
    "collapsed": false
   },
   "outputs": [
    {
     "data": {
      "text/html": [
       "<div>\n",
       "<table border=\"1\" class=\"dataframe\">\n",
       "  <thead>\n",
       "    <tr style=\"text-align: right;\">\n",
       "      <th></th>\n",
       "      <th>FIPS</th>\n",
       "      <th>cd_id</th>\n",
       "      <th>Total Population</th>\n",
       "      <th>Population Density (per sq. mile)</th>\n",
       "      <th>% Total Population: Male</th>\n",
       "      <th>% Total Population: 18 to 24 Years</th>\n",
       "      <th>% Total Population: 25 to 34 Years</th>\n",
       "      <th>% Total Population: 35 to 44 Years</th>\n",
       "      <th>% Population 5 Years And Over: Speak Only English</th>\n",
       "      <th>% Population 5 Years And Over: Spanish or Spanish Creole</th>\n",
       "      <th>...</th>\n",
       "      <th>Employed Civilian Population 16 Years And Over: Production, transportation, and material moving  occupations: Production occupations</th>\n",
       "      <th>Employed Civilian Population 16 Years And Over: Production, transportation, and material moving  occupations: Transportation and material moving occupations</th>\n",
       "      <th>% Employed Civilian Population 16 Years And Over: Management, professional, and related occupations</th>\n",
       "      <th>% Employed Civilian Population 16 Years And Over: Service occupations</th>\n",
       "      <th>% Employed Civilian Population 16 Years And Over: Sales and office occupations</th>\n",
       "      <th>% Employed Civilian Population 16 Years And Over: Farming, fishing, and forestry occupations</th>\n",
       "      <th>% Employed Civilian Population 16 Years And Over: Construction, extraction, and maintenance  occupations</th>\n",
       "      <th>% Employed Civilian Population 16 Years And Over: Production, transportation, and material moving  occupations</th>\n",
       "      <th>% Employed Civilian Population 16 Years And Over: Production, transportation, and material moving  occupations: Production occupations</th>\n",
       "      <th>% Employed Civilian Population 16 Years And Over: Production, transportation, and material moving  occupations: Transportation and material moving occupations</th>\n",
       "    </tr>\n",
       "  </thead>\n",
       "  <tbody>\n",
       "    <tr>\n",
       "      <th>0</th>\n",
       "      <td>3603701</td>\n",
       "      <td>BX08</td>\n",
       "      <td>106737</td>\n",
       "      <td>31229.95006</td>\n",
       "      <td>46.65</td>\n",
       "      <td>10.73</td>\n",
       "      <td>15.04</td>\n",
       "      <td>11.32</td>\n",
       "      <td>46.80</td>\n",
       "      <td>39.24</td>\n",
       "      <td>...</td>\n",
       "      <td>665</td>\n",
       "      <td>1518</td>\n",
       "      <td>42.66</td>\n",
       "      <td>28.95</td>\n",
       "      <td>20.89</td>\n",
       "      <td>0.24</td>\n",
       "      <td>2.65</td>\n",
       "      <td>4.60</td>\n",
       "      <td>1.40</td>\n",
       "      <td>3.20</td>\n",
       "    </tr>\n",
       "    <tr>\n",
       "      <th>1</th>\n",
       "      <td>3603702</td>\n",
       "      <td>BX12</td>\n",
       "      <td>134644</td>\n",
       "      <td>19966.67839</td>\n",
       "      <td>46.35</td>\n",
       "      <td>11.35</td>\n",
       "      <td>14.29</td>\n",
       "      <td>12.57</td>\n",
       "      <td>73.09</td>\n",
       "      <td>18.19</td>\n",
       "      <td>...</td>\n",
       "      <td>1156</td>\n",
       "      <td>4174</td>\n",
       "      <td>29.57</td>\n",
       "      <td>33.98</td>\n",
       "      <td>20.40</td>\n",
       "      <td>0.00</td>\n",
       "      <td>7.08</td>\n",
       "      <td>8.97</td>\n",
       "      <td>1.95</td>\n",
       "      <td>7.02</td>\n",
       "    </tr>\n",
       "    <tr>\n",
       "      <th>2</th>\n",
       "      <td>3603703</td>\n",
       "      <td>BX10</td>\n",
       "      <td>121209</td>\n",
       "      <td>12913.81703</td>\n",
       "      <td>45.20</td>\n",
       "      <td>8.62</td>\n",
       "      <td>13.74</td>\n",
       "      <td>12.78</td>\n",
       "      <td>61.79</td>\n",
       "      <td>26.43</td>\n",
       "      <td>...</td>\n",
       "      <td>941</td>\n",
       "      <td>3433</td>\n",
       "      <td>36.20</td>\n",
       "      <td>22.85</td>\n",
       "      <td>25.09</td>\n",
       "      <td>0.00</td>\n",
       "      <td>7.68</td>\n",
       "      <td>8.18</td>\n",
       "      <td>1.76</td>\n",
       "      <td>6.42</td>\n",
       "    </tr>\n",
       "    <tr>\n",
       "      <th>3</th>\n",
       "      <td>3603704</td>\n",
       "      <td>BX11</td>\n",
       "      <td>135839</td>\n",
       "      <td>35677.95453</td>\n",
       "      <td>50.09</td>\n",
       "      <td>8.10</td>\n",
       "      <td>17.43</td>\n",
       "      <td>14.09</td>\n",
       "      <td>43.22</td>\n",
       "      <td>36.45</td>\n",
       "      <td>...</td>\n",
       "      <td>2189</td>\n",
       "      <td>5592</td>\n",
       "      <td>30.06</td>\n",
       "      <td>27.86</td>\n",
       "      <td>22.24</td>\n",
       "      <td>0.00</td>\n",
       "      <td>7.03</td>\n",
       "      <td>12.81</td>\n",
       "      <td>3.60</td>\n",
       "      <td>9.20</td>\n",
       "    </tr>\n",
       "    <tr>\n",
       "      <th>4</th>\n",
       "      <td>3603705</td>\n",
       "      <td>BX03</td>\n",
       "      <td>172247</td>\n",
       "      <td>39405.79222</td>\n",
       "      <td>44.72</td>\n",
       "      <td>14.24</td>\n",
       "      <td>14.89</td>\n",
       "      <td>12.38</td>\n",
       "      <td>36.82</td>\n",
       "      <td>54.24</td>\n",
       "      <td>...</td>\n",
       "      <td>1437</td>\n",
       "      <td>5436</td>\n",
       "      <td>16.80</td>\n",
       "      <td>41.00</td>\n",
       "      <td>22.29</td>\n",
       "      <td>0.03</td>\n",
       "      <td>8.45</td>\n",
       "      <td>11.43</td>\n",
       "      <td>2.39</td>\n",
       "      <td>9.04</td>\n",
       "    </tr>\n",
       "  </tbody>\n",
       "</table>\n",
       "<p>5 rows × 158 columns</p>\n",
       "</div>"
      ],
      "text/plain": [
       "      FIPS cd_id  Total Population  Population Density (per sq. mile)  \\\n",
       "0  3603701  BX08            106737                        31229.95006   \n",
       "1  3603702  BX12            134644                        19966.67839   \n",
       "2  3603703  BX10            121209                        12913.81703   \n",
       "3  3603704  BX11            135839                        35677.95453   \n",
       "4  3603705  BX03            172247                        39405.79222   \n",
       "\n",
       "   % Total Population: Male  % Total Population: 18 to 24 Years  \\\n",
       "0                     46.65                               10.73   \n",
       "1                     46.35                               11.35   \n",
       "2                     45.20                                8.62   \n",
       "3                     50.09                                8.10   \n",
       "4                     44.72                               14.24   \n",
       "\n",
       "   % Total Population: 25 to 34 Years  % Total Population: 35 to 44 Years  \\\n",
       "0                               15.04                               11.32   \n",
       "1                               14.29                               12.57   \n",
       "2                               13.74                               12.78   \n",
       "3                               17.43                               14.09   \n",
       "4                               14.89                               12.38   \n",
       "\n",
       "   % Population 5 Years And Over: Speak Only English  \\\n",
       "0                                              46.80   \n",
       "1                                              73.09   \n",
       "2                                              61.79   \n",
       "3                                              43.22   \n",
       "4                                              36.82   \n",
       "\n",
       "   % Population 5 Years And Over: Spanish or Spanish Creole  \\\n",
       "0                                              39.24          \n",
       "1                                              18.19          \n",
       "2                                              26.43          \n",
       "3                                              36.45          \n",
       "4                                              54.24          \n",
       "\n",
       "                                                                                ...                                                                                \\\n",
       "0                                                                               ...                                                                                 \n",
       "1                                                                               ...                                                                                 \n",
       "2                                                                               ...                                                                                 \n",
       "3                                                                               ...                                                                                 \n",
       "4                                                                               ...                                                                                 \n",
       "\n",
       "   Employed Civilian Population 16 Years And Over: Production, transportation, and material moving  occupations: Production occupations  \\\n",
       "0                                                665                                                                                      \n",
       "1                                               1156                                                                                      \n",
       "2                                                941                                                                                      \n",
       "3                                               2189                                                                                      \n",
       "4                                               1437                                                                                      \n",
       "\n",
       "   Employed Civilian Population 16 Years And Over: Production, transportation, and material moving  occupations: Transportation and material moving occupations  \\\n",
       "0                                               1518                                                                                                              \n",
       "1                                               4174                                                                                                              \n",
       "2                                               3433                                                                                                              \n",
       "3                                               5592                                                                                                              \n",
       "4                                               5436                                                                                                              \n",
       "\n",
       "   % Employed Civilian Population 16 Years And Over: Management, professional, and related occupations  \\\n",
       "0                                              42.66                                                     \n",
       "1                                              29.57                                                     \n",
       "2                                              36.20                                                     \n",
       "3                                              30.06                                                     \n",
       "4                                              16.80                                                     \n",
       "\n",
       "   % Employed Civilian Population 16 Years And Over: Service occupations  \\\n",
       "0                                              28.95                       \n",
       "1                                              33.98                       \n",
       "2                                              22.85                       \n",
       "3                                              27.86                       \n",
       "4                                              41.00                       \n",
       "\n",
       "   % Employed Civilian Population 16 Years And Over: Sales and office occupations  \\\n",
       "0                                              20.89                                \n",
       "1                                              20.40                                \n",
       "2                                              25.09                                \n",
       "3                                              22.24                                \n",
       "4                                              22.29                                \n",
       "\n",
       "   % Employed Civilian Population 16 Years And Over: Farming, fishing, and forestry occupations  \\\n",
       "0                                               0.24                                              \n",
       "1                                               0.00                                              \n",
       "2                                               0.00                                              \n",
       "3                                               0.00                                              \n",
       "4                                               0.03                                              \n",
       "\n",
       "   % Employed Civilian Population 16 Years And Over: Construction, extraction, and maintenance  occupations  \\\n",
       "0                                               2.65                                                          \n",
       "1                                               7.08                                                          \n",
       "2                                               7.68                                                          \n",
       "3                                               7.03                                                          \n",
       "4                                               8.45                                                          \n",
       "\n",
       "   % Employed Civilian Population 16 Years And Over: Production, transportation, and material moving  occupations  \\\n",
       "0                                               4.60                                                                \n",
       "1                                               8.97                                                                \n",
       "2                                               8.18                                                                \n",
       "3                                              12.81                                                                \n",
       "4                                              11.43                                                                \n",
       "\n",
       "   % Employed Civilian Population 16 Years And Over: Production, transportation, and material moving  occupations: Production occupations  \\\n",
       "0                                               1.40                                                                                        \n",
       "1                                               1.95                                                                                        \n",
       "2                                               1.76                                                                                        \n",
       "3                                               3.60                                                                                        \n",
       "4                                               2.39                                                                                        \n",
       "\n",
       "   % Employed Civilian Population 16 Years And Over: Production, transportation, and material moving  occupations: Transportation and material moving occupations  \n",
       "0                                               3.20                                                                                                               \n",
       "1                                               7.02                                                                                                               \n",
       "2                                               6.42                                                                                                               \n",
       "3                                               9.20                                                                                                               \n",
       "4                                               9.04                                                                                                               \n",
       "\n",
       "[5 rows x 158 columns]"
      ]
     },
     "execution_count": 34,
     "metadata": {},
     "output_type": "execute_result"
    }
   ],
   "source": [
    "# Check variables in file\n",
    "df_pop.head()"
   ]
  },
  {
   "cell_type": "code",
   "execution_count": 35,
   "metadata": {
    "collapsed": false
   },
   "outputs": [
    {
     "name": "stdout",
     "output_type": "stream",
     "text": [
      "59\n"
     ]
    },
    {
     "data": {
      "text/plain": [
       "array(['BX08', 'BX12', 'BX10', 'BX11', 'BX03', 'BX06', 'BX07', 'BX05',\n",
       "       'BX04', 'BX09', 'BX01', 'BX02', 'MN12', 'MN09', 'MN10', 'MN11111',\n",
       "       'MN08', 'MN07', 'MN05', 'MN04', 'MN06', 'MN03', 'MN01', 'MN02',\n",
       "       'SI03', 'SI02', 'SI01', 'BK01', 'BK04', 'BK03', 'BK02', 'BK06',\n",
       "       'BK08', 'BK16', 'BK05', 'BK18', 'BK17', 'BK09', 'BK07', 'BK10',\n",
       "       'BK12', 'BK14', 'BK15', 'BK11', 'BK13', 'QN01', 'QN03', 'QN07',\n",
       "       'QN11', 'QN13', 'QN08', 'QN04', 'QN06', 'QN02', 'QN05', 'QN09',\n",
       "       'QN12', 'QN10', 'QN14'], dtype=object)"
      ]
     },
     "execution_count": 35,
     "metadata": {},
     "output_type": "execute_result"
    }
   ],
   "source": [
    "# Check the number of community districts in file\n",
    "print (len(df_pop['cd_id'].unique()))\n",
    "df_pop['cd_id'].unique()"
   ]
  },
  {
   "cell_type": "code",
   "execution_count": 37,
   "metadata": {
    "collapsed": false
   },
   "outputs": [
    {
     "data": {
      "text/plain": [
       "Index([u'FIPS', u'cd_id', u'Total Population',\n",
       "       u'Population Density (per sq. mile)', u'% Total Population: Male',\n",
       "       u'% Total Population: 18 to 24 Years',\n",
       "       u'% Total Population: 25 to 34 Years',\n",
       "       u'% Total Population: 35 to 44 Years',\n",
       "       u'% Population 5 Years And Over: Speak Only English',\n",
       "       u'% Population 5 Years And Over: Spanish or Spanish Creole',\n",
       "       u'% Population 5 Years And Over: Spanish or Spanish Creole: Speak English \"very Well\"',\n",
       "       u'% Population 5 Years And Over: Spanish or Spanish Creole: Speak English Less Than \"very Well\"',\n",
       "       u'Population 25 Years and over:',\n",
       "       u'Population 25 Years and over: Less Than High School',\n",
       "       u'Population 25 Years and over: High School Graduate (includes equivalency)',\n",
       "       u'Population 25 Years and over: Some college',\n",
       "       u'Population 25 Years and over: Bachelor's degree',\n",
       "       u'Population 25 Years and over: Master's degree',\n",
       "       u'Population 25 Years and over: Professional school degree',\n",
       "       u'Population 25 Years and over: Doctorate degree',\n",
       "       u'% Population 25 Years and over: Less Than High School',\n",
       "       u'% Population 25 Years and over: High School Graduate (includes equivalency)',\n",
       "       u'% Population 25 Years and over: Some college',\n",
       "       u'% Population 25 Years and over: Bachelor's degree',\n",
       "       u'% Population 25 Years and over: Master's degree',\n",
       "       u'% Population 25 Years and over: Professional school degree',\n",
       "       u'% Population 25 Years and over: Doctorate degree',\n",
       "       u'Population 25 Years and over:.1',\n",
       "       u'Population 25 Years and over: Less Than High School.1',\n",
       "       u'Population 25 Years and over: High School Graduate or more (includes equivalency)'],\n",
       "      dtype='object')"
      ]
     },
     "execution_count": 37,
     "metadata": {},
     "output_type": "execute_result"
    }
   ],
   "source": [
    "df_pop.columns[:30]  # look for columns I am interested in"
   ]
  },
  {
   "cell_type": "code",
   "execution_count": 38,
   "metadata": {
    "collapsed": false
   },
   "outputs": [
    {
     "data": {
      "text/html": [
       "<div>\n",
       "<table border=\"1\" class=\"dataframe\">\n",
       "  <thead>\n",
       "    <tr style=\"text-align: right;\">\n",
       "      <th></th>\n",
       "      <th>FIPS</th>\n",
       "      <th>cd_id</th>\n",
       "      <th>Total Population</th>\n",
       "      <th>Population Density (per sq. mile)</th>\n",
       "      <th>Population 25 Years and over: Less Than High School</th>\n",
       "      <th>Population 25 Years and over: High School Graduate (includes equivalency)</th>\n",
       "      <th>Population 25 Years and over: Some college</th>\n",
       "      <th>Population 25 Years and over: Bachelor's degree</th>\n",
       "      <th>Population 25 Years and over: Master's degree</th>\n",
       "      <th>Population 25 Years and over: Professional school degree</th>\n",
       "      <th>Population 25 Years and over: Doctorate degree</th>\n",
       "    </tr>\n",
       "  </thead>\n",
       "  <tbody>\n",
       "    <tr>\n",
       "      <th>0</th>\n",
       "      <td>3603701</td>\n",
       "      <td>BX08</td>\n",
       "      <td>106737</td>\n",
       "      <td>31229.95006</td>\n",
       "      <td>12176</td>\n",
       "      <td>13847</td>\n",
       "      <td>17228</td>\n",
       "      <td>15256</td>\n",
       "      <td>8216</td>\n",
       "      <td>3320</td>\n",
       "      <td>1885</td>\n",
       "    </tr>\n",
       "    <tr>\n",
       "      <th>1</th>\n",
       "      <td>3603702</td>\n",
       "      <td>BX12</td>\n",
       "      <td>134644</td>\n",
       "      <td>19966.67839</td>\n",
       "      <td>17450</td>\n",
       "      <td>27572</td>\n",
       "      <td>22515</td>\n",
       "      <td>15216</td>\n",
       "      <td>5253</td>\n",
       "      <td>62</td>\n",
       "      <td>151</td>\n",
       "    </tr>\n",
       "    <tr>\n",
       "      <th>2</th>\n",
       "      <td>3603703</td>\n",
       "      <td>BX10</td>\n",
       "      <td>121209</td>\n",
       "      <td>12913.81703</td>\n",
       "      <td>14898</td>\n",
       "      <td>25702</td>\n",
       "      <td>21961</td>\n",
       "      <td>14382</td>\n",
       "      <td>7598</td>\n",
       "      <td>636</td>\n",
       "      <td>725</td>\n",
       "    </tr>\n",
       "    <tr>\n",
       "      <th>3</th>\n",
       "      <td>3603704</td>\n",
       "      <td>BX11</td>\n",
       "      <td>135839</td>\n",
       "      <td>35677.95453</td>\n",
       "      <td>21317</td>\n",
       "      <td>26208</td>\n",
       "      <td>23301</td>\n",
       "      <td>12326</td>\n",
       "      <td>7006</td>\n",
       "      <td>1922</td>\n",
       "      <td>1246</td>\n",
       "    </tr>\n",
       "    <tr>\n",
       "      <th>4</th>\n",
       "      <td>3603705</td>\n",
       "      <td>BX03</td>\n",
       "      <td>172247</td>\n",
       "      <td>39405.79222</td>\n",
       "      <td>37438</td>\n",
       "      <td>26090</td>\n",
       "      <td>23256</td>\n",
       "      <td>7913</td>\n",
       "      <td>2544</td>\n",
       "      <td>494</td>\n",
       "      <td>743</td>\n",
       "    </tr>\n",
       "  </tbody>\n",
       "</table>\n",
       "</div>"
      ],
      "text/plain": [
       "      FIPS cd_id  Total Population  Population Density (per sq. mile)  \\\n",
       "0  3603701  BX08            106737                        31229.95006   \n",
       "1  3603702  BX12            134644                        19966.67839   \n",
       "2  3603703  BX10            121209                        12913.81703   \n",
       "3  3603704  BX11            135839                        35677.95453   \n",
       "4  3603705  BX03            172247                        39405.79222   \n",
       "\n",
       "   Population 25 Years and over: Less Than High School  \\\n",
       "0                                              12176     \n",
       "1                                              17450     \n",
       "2                                              14898     \n",
       "3                                              21317     \n",
       "4                                              37438     \n",
       "\n",
       "   Population 25 Years and over: High School Graduate (includes equivalency)  \\\n",
       "0                                              13847                           \n",
       "1                                              27572                           \n",
       "2                                              25702                           \n",
       "3                                              26208                           \n",
       "4                                              26090                           \n",
       "\n",
       "   Population 25 Years and over: Some college  \\\n",
       "0                                       17228   \n",
       "1                                       22515   \n",
       "2                                       21961   \n",
       "3                                       23301   \n",
       "4                                       23256   \n",
       "\n",
       "   Population 25 Years and over: Bachelor's degree  \\\n",
       "0                                            15256   \n",
       "1                                            15216   \n",
       "2                                            14382   \n",
       "3                                            12326   \n",
       "4                                             7913   \n",
       "\n",
       "   Population 25 Years and over: Master's degree  \\\n",
       "0                                           8216   \n",
       "1                                           5253   \n",
       "2                                           7598   \n",
       "3                                           7006   \n",
       "4                                           2544   \n",
       "\n",
       "   Population 25 Years and over: Professional school degree  \\\n",
       "0                                               3320          \n",
       "1                                                 62          \n",
       "2                                                636          \n",
       "3                                               1922          \n",
       "4                                                494          \n",
       "\n",
       "   Population 25 Years and over: Doctorate degree  \n",
       "0                                            1885  \n",
       "1                                             151  \n",
       "2                                             725  \n",
       "3                                            1246  \n",
       "4                                             743  "
      ]
     },
     "execution_count": 38,
     "metadata": {},
     "output_type": "execute_result"
    }
   ],
   "source": [
    "# Manipulate data to get some information on demographics by Community District. \n",
    "# Thought: people with higher education level might be more likely to call 311\n",
    "df_pop_edu = df_pop.ix[:,('FIPS','cd_id', 'Total Population','Population Density (per sq. mile)',\n",
    "       'Population 25 Years and over: Less Than High School',\n",
    "       'Population 25 Years and over: High School Graduate (includes equivalency)',\n",
    "       'Population 25 Years and over: Some college',\n",
    "       'Population 25 Years and over: Bachelor\\'s degree',\n",
    "       'Population 25 Years and over: Master\\'s degree',\n",
    "       'Population 25 Years and over: Professional school degree',\n",
    "       'Population 25 Years and over: Doctorate degree')]\n",
    "df_pop_edu.head()"
   ]
  },
  {
   "cell_type": "code",
   "execution_count": null,
   "metadata": {
    "collapsed": true
   },
   "outputs": [],
   "source": [
    "# Save data frame if needed\n",
    "\n",
    "#df_pop_edu.to_csv('CommunityDistrict_eduLevel.csv')"
   ]
  },
  {
   "cell_type": "code",
   "execution_count": null,
   "metadata": {
    "collapsed": true
   },
   "outputs": [],
   "source": []
  },
  {
   "cell_type": "code",
   "execution_count": 39,
   "metadata": {
    "collapsed": false
   },
   "outputs": [],
   "source": [
    "# Infrastructure by Community District\n",
    "df_infr = pd.read_csv('http://cosmo.nyu.edu/~fb55/PUI2016/data/ACS_Computer_Use_and_Internet_2014_1Year_Estimate.csv')"
   ]
  },
  {
   "cell_type": "code",
   "execution_count": 41,
   "metadata": {
    "collapsed": false
   },
   "outputs": [
    {
     "data": {
      "text/html": [
       "<div>\n",
       "<table border=\"1\" class=\"dataframe\">\n",
       "  <thead>\n",
       "    <tr style=\"text-align: right;\">\n",
       "      <th></th>\n",
       "      <th>FIPS</th>\n",
       "      <th>Geographic Identifier</th>\n",
       "      <th>Qualifying Name</th>\n",
       "      <th>Households</th>\n",
       "      <th>Households: With An Internet Subscription</th>\n",
       "      <th>Households: Dial-Up Alone</th>\n",
       "      <th>Households: Dsl</th>\n",
       "      <th>Households: With Mobile Broadband</th>\n",
       "      <th>Households: Without Mobile Broadband</th>\n",
       "      <th>Households: Cable Modem</th>\n",
       "      <th>...</th>\n",
       "      <th>Households: Mobile Broadband Alone or With Dialup</th>\n",
       "      <th>Households: Internet Access Without A Subscription</th>\n",
       "      <th>Households: No Internet Access</th>\n",
       "      <th>% Households: With An Internet Subscription</th>\n",
       "      <th>Households.1</th>\n",
       "      <th>Households: Has A Computer</th>\n",
       "      <th>Households: With Dial-Up Internet Subscription Alone</th>\n",
       "      <th>Households: With A Broadband Internet Subscription</th>\n",
       "      <th>Households: Without An Internet Subscription</th>\n",
       "      <th>Households: No Computer</th>\n",
       "    </tr>\n",
       "  </thead>\n",
       "  <tbody>\n",
       "    <tr>\n",
       "      <th>0</th>\n",
       "      <td>3603701</td>\n",
       "      <td>79500US3603701</td>\n",
       "      <td>NYC-Bronx Community District 8--Riverdale, New...</td>\n",
       "      <td>42035</td>\n",
       "      <td>31795</td>\n",
       "      <td>444</td>\n",
       "      <td>2813</td>\n",
       "      <td>946</td>\n",
       "      <td>1867</td>\n",
       "      <td>19178</td>\n",
       "      <td>...</td>\n",
       "      <td>2168</td>\n",
       "      <td>2119</td>\n",
       "      <td>8121</td>\n",
       "      <td>75.64</td>\n",
       "      <td>42035</td>\n",
       "      <td>35048</td>\n",
       "      <td>404</td>\n",
       "      <td>30943</td>\n",
       "      <td>3701</td>\n",
       "      <td>6987</td>\n",
       "    </tr>\n",
       "    <tr>\n",
       "      <th>1</th>\n",
       "      <td>3603702</td>\n",
       "      <td>79500US3603702</td>\n",
       "      <td>NYC-Bronx Community District 12--Wakefield, Ne...</td>\n",
       "      <td>44830</td>\n",
       "      <td>32243</td>\n",
       "      <td>178</td>\n",
       "      <td>849</td>\n",
       "      <td>405</td>\n",
       "      <td>444</td>\n",
       "      <td>18653</td>\n",
       "      <td>...</td>\n",
       "      <td>928</td>\n",
       "      <td>1891</td>\n",
       "      <td>10696</td>\n",
       "      <td>71.92</td>\n",
       "      <td>44830</td>\n",
       "      <td>36700</td>\n",
       "      <td>178</td>\n",
       "      <td>31435</td>\n",
       "      <td>5087</td>\n",
       "      <td>8130</td>\n",
       "    </tr>\n",
       "    <tr>\n",
       "      <th>2</th>\n",
       "      <td>3603703</td>\n",
       "      <td>79500US3603703</td>\n",
       "      <td>NYC-Bronx Community District 10--Co-op City, N...</td>\n",
       "      <td>47050</td>\n",
       "      <td>32729</td>\n",
       "      <td>158</td>\n",
       "      <td>1863</td>\n",
       "      <td>398</td>\n",
       "      <td>1465</td>\n",
       "      <td>20044</td>\n",
       "      <td>...</td>\n",
       "      <td>639</td>\n",
       "      <td>2882</td>\n",
       "      <td>11439</td>\n",
       "      <td>69.56</td>\n",
       "      <td>47050</td>\n",
       "      <td>38700</td>\n",
       "      <td>158</td>\n",
       "      <td>32333</td>\n",
       "      <td>6209</td>\n",
       "      <td>8350</td>\n",
       "    </tr>\n",
       "  </tbody>\n",
       "</table>\n",
       "<p>3 rows × 31 columns</p>\n",
       "</div>"
      ],
      "text/plain": [
       "      FIPS Geographic Identifier  \\\n",
       "0  3603701        79500US3603701   \n",
       "1  3603702        79500US3603702   \n",
       "2  3603703        79500US3603703   \n",
       "\n",
       "                                     Qualifying Name  Households  \\\n",
       "0  NYC-Bronx Community District 8--Riverdale, New...       42035   \n",
       "1  NYC-Bronx Community District 12--Wakefield, Ne...       44830   \n",
       "2  NYC-Bronx Community District 10--Co-op City, N...       47050   \n",
       "\n",
       "   Households: With An Internet Subscription  Households: Dial-Up Alone  \\\n",
       "0                                      31795                        444   \n",
       "1                                      32243                        178   \n",
       "2                                      32729                        158   \n",
       "\n",
       "   Households: Dsl  Households: With Mobile Broadband  \\\n",
       "0             2813                                946   \n",
       "1              849                                405   \n",
       "2             1863                                398   \n",
       "\n",
       "   Households: Without Mobile Broadband  Households: Cable Modem  \\\n",
       "0                                  1867                    19178   \n",
       "1                                   444                    18653   \n",
       "2                                  1465                    20044   \n",
       "\n",
       "            ...             Households: Mobile Broadband Alone or With Dialup  \\\n",
       "0           ...                                                          2168   \n",
       "1           ...                                                           928   \n",
       "2           ...                                                           639   \n",
       "\n",
       "   Households: Internet Access Without A Subscription  \\\n",
       "0                                               2119    \n",
       "1                                               1891    \n",
       "2                                               2882    \n",
       "\n",
       "   Households: No Internet Access  \\\n",
       "0                            8121   \n",
       "1                           10696   \n",
       "2                           11439   \n",
       "\n",
       "   % Households: With An Internet Subscription  Households.1  \\\n",
       "0                                        75.64         42035   \n",
       "1                                        71.92         44830   \n",
       "2                                        69.56         47050   \n",
       "\n",
       "   Households: Has A Computer  \\\n",
       "0                       35048   \n",
       "1                       36700   \n",
       "2                       38700   \n",
       "\n",
       "   Households: With Dial-Up Internet Subscription Alone  \\\n",
       "0                                                404      \n",
       "1                                                178      \n",
       "2                                                158      \n",
       "\n",
       "   Households: With A Broadband Internet Subscription  \\\n",
       "0                                              30943    \n",
       "1                                              31435    \n",
       "2                                              32333    \n",
       "\n",
       "   Households: Without An Internet Subscription  Households: No Computer  \n",
       "0                                          3701                     6987  \n",
       "1                                          5087                     8130  \n",
       "2                                          6209                     8350  \n",
       "\n",
       "[3 rows x 31 columns]"
      ]
     },
     "execution_count": 41,
     "metadata": {},
     "output_type": "execute_result"
    }
   ],
   "source": [
    "# Check variables in file\n",
    "df_infr.head(3)"
   ]
  },
  {
   "cell_type": "code",
   "execution_count": 42,
   "metadata": {
    "collapsed": false
   },
   "outputs": [
    {
     "data": {
      "text/plain": [
       "FIPS                                                       59\n",
       "Geographic Identifier                                      59\n",
       "Qualifying Name                                            59\n",
       "Households                                                 59\n",
       "Households: With An Internet Subscription                  59\n",
       "Households: Dial-Up Alone                                  59\n",
       "Households: Dsl                                            59\n",
       "Households: With Mobile Broadband                          59\n",
       "Households: Without Mobile Broadband                       59\n",
       "Households: Cable Modem                                    59\n",
       "Households: With Mobile Broadband.1                        59\n",
       "Households: Without Mobile Broadband.1                     59\n",
       "Households: Fiber-Optic                                    59\n",
       "Households: With Mobile Broadband.2                        59\n",
       "Households: Without Mobile Broadband.2                     59\n",
       "Households: Satellite Internet Service                     59\n",
       "Households: With Mobile Broadband.3                        59\n",
       "Households: Without Mobile Broadband.3                     59\n",
       "Households: Two or More Fixed Broadband Types, or Other    59\n",
       "Households: With Mobile Broadband.4                        59\n",
       "Households: Without Mobile Broadband.4                     59\n",
       "Households: Mobile Broadband Alone or With Dialup          59\n",
       "Households: Internet Access Without A Subscription         59\n",
       "Households: No Internet Access                             59\n",
       "% Households: With An Internet Subscription                59\n",
       "Households.1                                               59\n",
       "Households: Has A Computer                                 59\n",
       "Households: With Dial-Up Internet Subscription Alone       59\n",
       "Households: With A Broadband Internet Subscription         59\n",
       "Households: Without An Internet Subscription               59\n",
       "Households: No Computer                                    59\n",
       "dtype: int64"
      ]
     },
     "execution_count": 42,
     "metadata": {},
     "output_type": "execute_result"
    }
   ],
   "source": [
    "df_infr.count()"
   ]
  },
  {
   "cell_type": "code",
   "execution_count": 43,
   "metadata": {
    "collapsed": false
   },
   "outputs": [
    {
     "data": {
      "text/plain": [
       "59"
      ]
     },
     "execution_count": 43,
     "metadata": {},
     "output_type": "execute_result"
    }
   ],
   "source": [
    "df_infr['Qualifying Name'].count()"
   ]
  },
  {
   "cell_type": "code",
   "execution_count": 44,
   "metadata": {
    "collapsed": false
   },
   "outputs": [
    {
     "name": "stdout",
     "output_type": "stream",
     "text": [
      "55\n"
     ]
    },
    {
     "data": {
      "text/plain": [
       "array(['NYC-Bronx Community District 8--Riverdale, New York',\n",
       "       'NYC-Bronx Community District 12--Wakefield, New York',\n",
       "       'NYC-Bronx Community District 10--Co-op City, New York',\n",
       "       'NYC-Bronx Community District 11--Pelham Parkway, New York',\n",
       "       'NYC-Bronx Community District 3 & 6--Belmont, New York',\n",
       "       'NYC-Bronx Community District 7--Bedford Park, New York',\n",
       "       'NYC-Bronx Community District 5--Morris Heights, New York',\n",
       "       'NYC-Bronx Community District 4--Concourse, New York',\n",
       "       'NYC-Bronx Community District 9--Castle Hill, New York',\n",
       "       'NYC-Bronx Community District 1 & 2--Hunts Point, New York',\n",
       "       'NYC-Manhattan Community District 12--Washington Heights, New York',\n",
       "       'NYC-Manhattan Community District 9--Hamilton Heights, New York',\n",
       "       'NYC-Manhattan Community District 10--Central Harlem PUMA, New York',\n",
       "       'NYC-Manhattan Community District 11--East Harlem PUMA, New York',\n",
       "       'NYC-Manhattan Community District 8--Upper East Side PUMA, New York',\n",
       "       'NYC-Manhattan Community District 7--Upper West Side & West Side PUMA, New York',\n",
       "       'NYC-Manhattan Community District 4 & 5--Chelsea, New York',\n",
       "       'NYC-Manhattan Community District 6--Murray Hill, New York',\n",
       "       'NYC-Manhattan Community District 3--Chinatown & Lower East Side PUMA, New York',\n",
       "       'NYC-Manhattan Community District 1 & 2--Battery Park City, New York',\n",
       "       'NYC-Staten Island Community District 3--Tottenville, New York',\n",
       "       'NYC-Staten Island Community District 2--New Springville & South Beach PUMA, New York',\n",
       "       'NYC-Staten Island Community District 1--Port Richmond, New York',\n",
       "       'NYC-Brooklyn Community District 1--Greenpoint & Williamsburg PUMA, New York',\n",
       "       'NYC-Brooklyn Community District 4--Bushwick PUMA, New York',\n",
       "       'NYC-Brooklyn Community District 3--Bedford-Stuyvesant PUMA, New York',\n",
       "       'NYC-Brooklyn Community District 2--Brooklyn Heights & Fort Greene PUMA, New York',\n",
       "       'NYC-Brooklyn Community District 6--Park Slope, New York',\n",
       "       'NYC-Brooklyn Community District 8--Crown Heights North & Prospect Heights PUMA, New York',\n",
       "       'NYC-Brooklyn Community District 16--Brownsville & Ocean Hill PUMA, New York',\n",
       "       'NYC-Brooklyn Community District 5--East New York & Starrett City PUMA, New York',\n",
       "       'NYC-Brooklyn Community District 18--Canarsie & Flatlands PUMA, New York',\n",
       "       'NYC-Brooklyn Community District 17--East Flatbush, New York',\n",
       "       'NYC-Brooklyn Community District 9--Crown Heights South, New York',\n",
       "       'NYC-Brooklyn Community District 7--Sunset Park & Windsor Terrace PUMA, New York',\n",
       "       'NYC-Brooklyn Community District 10--Bay Ridge & Dyker Heights PUMA, New York',\n",
       "       'NYC-Brooklyn Community District 12--Borough Park, New York',\n",
       "       'NYC-Brooklyn Community District 14--Flatbush & Midwood PUMA, New York',\n",
       "       'NYC-Brooklyn Community District 15--Sheepshead Bay, New York',\n",
       "       'NYC-Brooklyn Community District 11--Bensonhurst & Bath Beach PUMA, New York',\n",
       "       'NYC-Brooklyn Community District 13--Brighton Beach & Coney Island PUMA, New York',\n",
       "       'NYC-Queens Community District 1--Astoria & Long Island City PUMA, New York',\n",
       "       'NYC-Queens Community District 3--Jackson Heights & North Corona PUMA, New York',\n",
       "       'NYC-Queens Community District 7--Flushing, New York',\n",
       "       'NYC-Queens Community District 11--Bayside, New York',\n",
       "       'NYC-Queens Community District 13--Queens Village, New York',\n",
       "       'NYC-Queens Community District 8--Briarwood, New York',\n",
       "       'NYC-Queens Community District 4--Elmhurst & South Corona PUMA, New York',\n",
       "       'NYC-Queens Community District 6--Forest Hills & Rego Park PUMA, New York',\n",
       "       'NYC-Queens Community District 2--Sunnyside & Woodside PUMA, New York',\n",
       "       'NYC-Queens Community District 5--Ridgewood, New York',\n",
       "       'NYC-Queens Community District 9--Richmond Hill & Woodhaven PUMA, New York',\n",
       "       'NYC-Queens Community District 12--Jamaica, New York',\n",
       "       'NYC-Queens Community District 10--Howard Beach & Ozone Park PUMA, New York',\n",
       "       'NYC-Queens Community District 14--Far Rockaway, New York'], dtype=object)"
      ]
     },
     "execution_count": 44,
     "metadata": {},
     "output_type": "execute_result"
    }
   ],
   "source": [
    "# How many community districts are in file? \n",
    "print (len(df_infr['Qualifying Name'].unique()))\n",
    "df_infr['Qualifying Name'].unique()  # the list of unique community districts"
   ]
  },
  {
   "cell_type": "raw",
   "metadata": {},
   "source": [
    "Households -- Classification                                            \n",
    "\n",
    "hh_with_speed_internet:                \n",
    "Households: Dsl\n",
    "Households: Cable Modem\n",
    "Households: Fiber-Optic \n",
    "Households: Satellite Internet Service\n",
    "Households: With A Broadband Internet Subscription\n",
    "Households: Two or More Fixed Broadband Types, or Other\n",
    "-------\n",
    "hh_mobile                                  \n",
    "Households: With Mobile Broadband                          \n",
    "Households: With Mobile Broadband.1\n",
    "Households: With Mobile Broadband.2\n",
    "Households: With Mobile Broadband.3\n",
    "Households: With Mobile Broadband.4\n",
    "Households: Mobile Broadband Alone or With Dialup\n",
    "-----\n",
    "hh_no_mobile\n",
    "Households: Without Mobile Broadband                       \n",
    "Households: Without Mobile Broadband.1                     \n",
    "Households: Without Mobile Broadband.2                     \n",
    "Households: Without Mobile Broadband.3                                           \n",
    "Households: Without Mobile Broadband.4                          \n",
    "Households: Dial-Up Alone                                "
   ]
  },
  {
   "cell_type": "code",
   "execution_count": 45,
   "metadata": {
    "collapsed": false
   },
   "outputs": [],
   "source": [
    "# Manipulate data to get some information on internet/broadband useage by Community District\n",
    "# Aggregate the mobile subscription data\n",
    "\n",
    "## create column for households with moble phones\n",
    "df_infr['hh_mobile'] = df_infr.ix[:,('Households: With Mobile Broadband',                     \n",
    "                                     'Households: With Mobile Broadband.1',\n",
    "                                     'Households: With Mobile Broadband.2',\n",
    "                                     'Households: With Mobile Broadband.3',\n",
    "                                     'Households: With Mobile Broadband.4',\n",
    "                                     'Households: Mobile Broadband Alone or With Dialup')].sum(axis=1)\n",
    "\n",
    "## create column for households without moble servies\n",
    "df_infr['hh_no_mobile'] = df_infr.ix[:,('Households: Without Mobile Broadband'                    \n",
    "                                        'Households: Without Mobile Broadband.1',\n",
    "                                        'Households: Without Mobile Broadband.2',                     \n",
    "                                        'Households: Without Mobile Broadband.3',                                          \n",
    "                                        'Households: Without Mobile Broadband.4',                         \n",
    "                                        'Households: Dial-Up Alone')].sum(axis=1).astype(int)\n",
    "\n",
    "## create column for households with high speed internet\n",
    "df_infr['hh_speed_internet'] = df_infr.ix[:,('Households: Dsl',\n",
    "                                             'Households: Cable Modem',\n",
    "                                             'Households: Fiber-Optic',\n",
    "                                             'Households: Satellite Internet Service',\n",
    "                                             'Households: With A Broadband Internet Subscription',\n",
    "                                             'Households: Two or More Fixed Broadband Types, or Other')].sum(axis=1)"
   ]
  },
  {
   "cell_type": "code",
   "execution_count": 46,
   "metadata": {
    "collapsed": false
   },
   "outputs": [
    {
     "data": {
      "text/html": [
       "<div>\n",
       "<table border=\"1\" class=\"dataframe\">\n",
       "  <thead>\n",
       "    <tr style=\"text-align: right;\">\n",
       "      <th></th>\n",
       "      <th>FIPS</th>\n",
       "      <th>Geographic Identifier</th>\n",
       "      <th>Qualifying Name</th>\n",
       "      <th>Households</th>\n",
       "      <th>Households: With An Internet Subscription</th>\n",
       "      <th>Households: Dial-Up Alone</th>\n",
       "      <th>Households: Dsl</th>\n",
       "      <th>Households: With Mobile Broadband</th>\n",
       "      <th>Households: Without Mobile Broadband</th>\n",
       "      <th>Households: Cable Modem</th>\n",
       "      <th>...</th>\n",
       "      <th>% Households: With An Internet Subscription</th>\n",
       "      <th>Households.1</th>\n",
       "      <th>Households: Has A Computer</th>\n",
       "      <th>Households: With Dial-Up Internet Subscription Alone</th>\n",
       "      <th>Households: With A Broadband Internet Subscription</th>\n",
       "      <th>Households: Without An Internet Subscription</th>\n",
       "      <th>Households: No Computer</th>\n",
       "      <th>hh_mobile</th>\n",
       "      <th>hh_no_mobile</th>\n",
       "      <th>hh_speed_internet</th>\n",
       "    </tr>\n",
       "  </thead>\n",
       "  <tbody>\n",
       "    <tr>\n",
       "      <th>0</th>\n",
       "      <td>3603701</td>\n",
       "      <td>79500US3603701</td>\n",
       "      <td>NYC-Bronx Community District 8--Riverdale, New...</td>\n",
       "      <td>42035</td>\n",
       "      <td>31795</td>\n",
       "      <td>444</td>\n",
       "      <td>2813</td>\n",
       "      <td>946</td>\n",
       "      <td>1867</td>\n",
       "      <td>19178</td>\n",
       "      <td>...</td>\n",
       "      <td>75.64</td>\n",
       "      <td>42035</td>\n",
       "      <td>35048</td>\n",
       "      <td>404</td>\n",
       "      <td>30943</td>\n",
       "      <td>3701</td>\n",
       "      <td>6987</td>\n",
       "      <td>17527</td>\n",
       "      <td>3656</td>\n",
       "      <td>60126</td>\n",
       "    </tr>\n",
       "    <tr>\n",
       "      <th>1</th>\n",
       "      <td>3603702</td>\n",
       "      <td>79500US3603702</td>\n",
       "      <td>NYC-Bronx Community District 12--Wakefield, Ne...</td>\n",
       "      <td>44830</td>\n",
       "      <td>32243</td>\n",
       "      <td>178</td>\n",
       "      <td>849</td>\n",
       "      <td>405</td>\n",
       "      <td>444</td>\n",
       "      <td>18653</td>\n",
       "      <td>...</td>\n",
       "      <td>71.92</td>\n",
       "      <td>44830</td>\n",
       "      <td>36700</td>\n",
       "      <td>178</td>\n",
       "      <td>31435</td>\n",
       "      <td>5087</td>\n",
       "      <td>8130</td>\n",
       "      <td>11414</td>\n",
       "      <td>7309</td>\n",
       "      <td>62572</td>\n",
       "    </tr>\n",
       "    <tr>\n",
       "      <th>2</th>\n",
       "      <td>3603703</td>\n",
       "      <td>79500US3603703</td>\n",
       "      <td>NYC-Bronx Community District 10--Co-op City, N...</td>\n",
       "      <td>47050</td>\n",
       "      <td>32729</td>\n",
       "      <td>158</td>\n",
       "      <td>1863</td>\n",
       "      <td>398</td>\n",
       "      <td>1465</td>\n",
       "      <td>20044</td>\n",
       "      <td>...</td>\n",
       "      <td>69.56</td>\n",
       "      <td>47050</td>\n",
       "      <td>38700</td>\n",
       "      <td>158</td>\n",
       "      <td>32333</td>\n",
       "      <td>6209</td>\n",
       "      <td>8350</td>\n",
       "      <td>12064</td>\n",
       "      <td>5533</td>\n",
       "      <td>64265</td>\n",
       "    </tr>\n",
       "  </tbody>\n",
       "</table>\n",
       "<p>3 rows × 34 columns</p>\n",
       "</div>"
      ],
      "text/plain": [
       "      FIPS Geographic Identifier  \\\n",
       "0  3603701        79500US3603701   \n",
       "1  3603702        79500US3603702   \n",
       "2  3603703        79500US3603703   \n",
       "\n",
       "                                     Qualifying Name  Households  \\\n",
       "0  NYC-Bronx Community District 8--Riverdale, New...       42035   \n",
       "1  NYC-Bronx Community District 12--Wakefield, Ne...       44830   \n",
       "2  NYC-Bronx Community District 10--Co-op City, N...       47050   \n",
       "\n",
       "   Households: With An Internet Subscription  Households: Dial-Up Alone  \\\n",
       "0                                      31795                        444   \n",
       "1                                      32243                        178   \n",
       "2                                      32729                        158   \n",
       "\n",
       "   Households: Dsl  Households: With Mobile Broadband  \\\n",
       "0             2813                                946   \n",
       "1              849                                405   \n",
       "2             1863                                398   \n",
       "\n",
       "   Households: Without Mobile Broadband  Households: Cable Modem  \\\n",
       "0                                  1867                    19178   \n",
       "1                                   444                    18653   \n",
       "2                                  1465                    20044   \n",
       "\n",
       "         ...          % Households: With An Internet Subscription  \\\n",
       "0        ...                                                75.64   \n",
       "1        ...                                                71.92   \n",
       "2        ...                                                69.56   \n",
       "\n",
       "   Households.1  Households: Has A Computer  \\\n",
       "0         42035                       35048   \n",
       "1         44830                       36700   \n",
       "2         47050                       38700   \n",
       "\n",
       "   Households: With Dial-Up Internet Subscription Alone  \\\n",
       "0                                                404      \n",
       "1                                                178      \n",
       "2                                                158      \n",
       "\n",
       "   Households: With A Broadband Internet Subscription  \\\n",
       "0                                              30943    \n",
       "1                                              31435    \n",
       "2                                              32333    \n",
       "\n",
       "   Households: Without An Internet Subscription  Households: No Computer  \\\n",
       "0                                          3701                     6987   \n",
       "1                                          5087                     8130   \n",
       "2                                          6209                     8350   \n",
       "\n",
       "   hh_mobile  hh_no_mobile  hh_speed_internet  \n",
       "0      17527          3656              60126  \n",
       "1      11414          7309              62572  \n",
       "2      12064          5533              64265  \n",
       "\n",
       "[3 rows x 34 columns]"
      ]
     },
     "execution_count": 46,
     "metadata": {},
     "output_type": "execute_result"
    }
   ],
   "source": [
    "df_infr.head(3)"
   ]
  },
  {
   "cell_type": "code",
   "execution_count": 47,
   "metadata": {
    "collapsed": true
   },
   "outputs": [],
   "source": [
    "# Aggregate internet of low connections\n",
    "df_infr['hh_low_internet_conn'] = df_infr.ix[:,('Households: With An Internet Subscription',\n",
    "                                        'Households: Internet Access Without A Subscription',\n",
    "                                        'Households: With Dial-Up Internet Subscription Alone')].sum(axis=1).astype(int)\n",
    "                                        "
   ]
  },
  {
   "cell_type": "code",
   "execution_count": 48,
   "metadata": {
    "collapsed": false
   },
   "outputs": [
    {
     "data": {
      "text/html": [
       "<div>\n",
       "<table border=\"1\" class=\"dataframe\">\n",
       "  <thead>\n",
       "    <tr style=\"text-align: right;\">\n",
       "      <th></th>\n",
       "      <th>Qualifying Name</th>\n",
       "      <th>hh_mobile</th>\n",
       "      <th>hh_no_mobile</th>\n",
       "      <th>hh_speed_internet</th>\n",
       "      <th>hh_low_internet_conn</th>\n",
       "    </tr>\n",
       "  </thead>\n",
       "  <tbody>\n",
       "    <tr>\n",
       "      <th>0</th>\n",
       "      <td>NYC-Bronx Community District 8--Riverdale, New...</td>\n",
       "      <td>17527</td>\n",
       "      <td>3656</td>\n",
       "      <td>60126</td>\n",
       "      <td>34318</td>\n",
       "    </tr>\n",
       "    <tr>\n",
       "      <th>1</th>\n",
       "      <td>NYC-Bronx Community District 12--Wakefield, Ne...</td>\n",
       "      <td>11414</td>\n",
       "      <td>7309</td>\n",
       "      <td>62572</td>\n",
       "      <td>34312</td>\n",
       "    </tr>\n",
       "    <tr>\n",
       "      <th>2</th>\n",
       "      <td>NYC-Bronx Community District 10--Co-op City, N...</td>\n",
       "      <td>12064</td>\n",
       "      <td>5533</td>\n",
       "      <td>64265</td>\n",
       "      <td>35769</td>\n",
       "    </tr>\n",
       "    <tr>\n",
       "      <th>3</th>\n",
       "      <td>NYC-Bronx Community District 11--Pelham Parkwa...</td>\n",
       "      <td>11749</td>\n",
       "      <td>6957</td>\n",
       "      <td>62139</td>\n",
       "      <td>34847</td>\n",
       "    </tr>\n",
       "    <tr>\n",
       "      <th>4</th>\n",
       "      <td>NYC-Bronx Community District 3 &amp; 6--Belmont, N...</td>\n",
       "      <td>16292</td>\n",
       "      <td>9408</td>\n",
       "      <td>67438</td>\n",
       "      <td>38903</td>\n",
       "    </tr>\n",
       "  </tbody>\n",
       "</table>\n",
       "</div>"
      ],
      "text/plain": [
       "                                     Qualifying Name  hh_mobile  hh_no_mobile  \\\n",
       "0  NYC-Bronx Community District 8--Riverdale, New...      17527          3656   \n",
       "1  NYC-Bronx Community District 12--Wakefield, Ne...      11414          7309   \n",
       "2  NYC-Bronx Community District 10--Co-op City, N...      12064          5533   \n",
       "3  NYC-Bronx Community District 11--Pelham Parkwa...      11749          6957   \n",
       "4  NYC-Bronx Community District 3 & 6--Belmont, N...      16292          9408   \n",
       "\n",
       "   hh_speed_internet  hh_low_internet_conn  \n",
       "0              60126                 34318  \n",
       "1              62572                 34312  \n",
       "2              64265                 35769  \n",
       "3              62139                 34847  \n",
       "4              67438                 38903  "
      ]
     },
     "execution_count": 48,
     "metadata": {},
     "output_type": "execute_result"
    }
   ],
   "source": [
    "df_infr1 = df_infr.ix[:,('Qualifying Name','hh_mobile','hh_no_mobile', 'hh_speed_internet', 'hh_low_internet_conn')]\n",
    "df_infr1.head()"
   ]
  },
  {
   "cell_type": "code",
   "execution_count": 50,
   "metadata": {
    "collapsed": false
   },
   "outputs": [],
   "source": [
    "# Save data frame if needed\n",
    "\n",
    "#df_infr1.to_csv('df_network_infra.csv')"
   ]
  },
  {
   "cell_type": "markdown",
   "metadata": {},
   "source": [
    "# 5. Inform results by linking the 3 datasets\n",
    "Link the three data frames to produce summary statistics for Community Districts which show a high number of complaints vs. Community Districts which show a lower number of complaints. \n",
    "I use regular expressions to harmonize the identifiers. The identifiers are in the form of BK01, BK02, etc.\n",
    "https://docs.python.org/2/library/re.html"
   ]
  },
  {
   "cell_type": "code",
   "execution_count": 51,
   "metadata": {
    "collapsed": false,
    "scrolled": true
   },
   "outputs": [
    {
     "data": {
      "text/html": [
       "<div>\n",
       "<table border=\"1\" class=\"dataframe\">\n",
       "  <thead>\n",
       "    <tr style=\"text-align: right;\">\n",
       "      <th></th>\n",
       "      <th>Community Board</th>\n",
       "      <th>Complaint Type</th>\n",
       "    </tr>\n",
       "  </thead>\n",
       "  <tbody>\n",
       "    <tr>\n",
       "      <th>0</th>\n",
       "      <td>01 BRONX</td>\n",
       "      <td>876</td>\n",
       "    </tr>\n",
       "    <tr>\n",
       "      <th>1</th>\n",
       "      <td>01 BROOKLYN</td>\n",
       "      <td>2261</td>\n",
       "    </tr>\n",
       "    <tr>\n",
       "      <th>2</th>\n",
       "      <td>01 MANHATTAN</td>\n",
       "      <td>1028</td>\n",
       "    </tr>\n",
       "    <tr>\n",
       "      <th>3</th>\n",
       "      <td>01 QUEENS</td>\n",
       "      <td>2048</td>\n",
       "    </tr>\n",
       "    <tr>\n",
       "      <th>4</th>\n",
       "      <td>01 STATEN ISLAND</td>\n",
       "      <td>1733</td>\n",
       "    </tr>\n",
       "  </tbody>\n",
       "</table>\n",
       "</div>"
      ],
      "text/plain": [
       "    Community Board  Complaint Type\n",
       "0          01 BRONX             876\n",
       "1       01 BROOKLYN            2261\n",
       "2      01 MANHATTAN            1028\n",
       "3         01 QUEENS            2048\n",
       "4  01 STATEN ISLAND            1733"
      ]
     },
     "execution_count": 51,
     "metadata": {},
     "output_type": "execute_result"
    }
   ],
   "source": [
    "# Harmonize identifier of dataframe 1\n",
    "df_cb_compl = data3.to_frame()\n",
    "df_cb_compl.reset_index(level=0, inplace=True)\n",
    "df_cb_compl.head()"
   ]
  },
  {
   "cell_type": "code",
   "execution_count": 53,
   "metadata": {
    "collapsed": false
   },
   "outputs": [
    {
     "data": {
      "text/html": [
       "<div>\n",
       "<table border=\"1\" class=\"dataframe\">\n",
       "  <thead>\n",
       "    <tr style=\"text-align: right;\">\n",
       "      <th></th>\n",
       "      <th>Community Board</th>\n",
       "      <th>ComplaintCounts</th>\n",
       "    </tr>\n",
       "  </thead>\n",
       "  <tbody>\n",
       "    <tr>\n",
       "      <th>0</th>\n",
       "      <td>01 BRONX</td>\n",
       "      <td>876</td>\n",
       "    </tr>\n",
       "    <tr>\n",
       "      <th>1</th>\n",
       "      <td>01 BROOKLYN</td>\n",
       "      <td>2261</td>\n",
       "    </tr>\n",
       "    <tr>\n",
       "      <th>2</th>\n",
       "      <td>01 MANHATTAN</td>\n",
       "      <td>1028</td>\n",
       "    </tr>\n",
       "    <tr>\n",
       "      <th>3</th>\n",
       "      <td>01 QUEENS</td>\n",
       "      <td>2048</td>\n",
       "    </tr>\n",
       "    <tr>\n",
       "      <th>4</th>\n",
       "      <td>01 STATEN ISLAND</td>\n",
       "      <td>1733</td>\n",
       "    </tr>\n",
       "  </tbody>\n",
       "</table>\n",
       "</div>"
      ],
      "text/plain": [
       "    Community Board  ComplaintCounts\n",
       "0          01 BRONX              876\n",
       "1       01 BROOKLYN             2261\n",
       "2      01 MANHATTAN             1028\n",
       "3         01 QUEENS             2048\n",
       "4  01 STATEN ISLAND             1733"
      ]
     },
     "execution_count": 53,
     "metadata": {},
     "output_type": "execute_result"
    }
   ],
   "source": [
    "# Change the column names\n",
    "df_cb_compl.columns = ['Community Board','ComplaintCounts']\n",
    "df_cb_compl.head()"
   ]
  },
  {
   "cell_type": "code",
   "execution_count": 55,
   "metadata": {
    "collapsed": false
   },
   "outputs": [],
   "source": [
    "# A loop that replace long community district names with the ideal forms of short names\n",
    "borough_dict = {'MANHATTAN':'MN', 'BROOKLYN':'BK', 'QUEENS':'QN', 'BRONX':'BX', 'STATEN ISLAND':'SI' }\n",
    "\n",
    "df_cb_compl['cd_id']=  np.asarray([[borough_dict[n[3:]] + n[:2]] for n in data3.keys()])"
   ]
  },
  {
   "cell_type": "code",
   "execution_count": 56,
   "metadata": {
    "collapsed": false
   },
   "outputs": [
    {
     "data": {
      "text/html": [
       "<div>\n",
       "<table border=\"1\" class=\"dataframe\">\n",
       "  <thead>\n",
       "    <tr style=\"text-align: right;\">\n",
       "      <th></th>\n",
       "      <th>Community Board</th>\n",
       "      <th>ComplaintCounts</th>\n",
       "      <th>cd_id</th>\n",
       "    </tr>\n",
       "  </thead>\n",
       "  <tbody>\n",
       "    <tr>\n",
       "      <th>0</th>\n",
       "      <td>01 BRONX</td>\n",
       "      <td>876</td>\n",
       "      <td>BX01</td>\n",
       "    </tr>\n",
       "    <tr>\n",
       "      <th>1</th>\n",
       "      <td>01 BROOKLYN</td>\n",
       "      <td>2261</td>\n",
       "      <td>BK01</td>\n",
       "    </tr>\n",
       "    <tr>\n",
       "      <th>2</th>\n",
       "      <td>01 MANHATTAN</td>\n",
       "      <td>1028</td>\n",
       "      <td>MN01</td>\n",
       "    </tr>\n",
       "    <tr>\n",
       "      <th>3</th>\n",
       "      <td>01 QUEENS</td>\n",
       "      <td>2048</td>\n",
       "      <td>QN01</td>\n",
       "    </tr>\n",
       "    <tr>\n",
       "      <th>4</th>\n",
       "      <td>01 STATEN ISLAND</td>\n",
       "      <td>1733</td>\n",
       "      <td>SI01</td>\n",
       "    </tr>\n",
       "  </tbody>\n",
       "</table>\n",
       "</div>"
      ],
      "text/plain": [
       "    Community Board  ComplaintCounts cd_id\n",
       "0          01 BRONX              876  BX01\n",
       "1       01 BROOKLYN             2261  BK01\n",
       "2      01 MANHATTAN             1028  MN01\n",
       "3         01 QUEENS             2048  QN01\n",
       "4  01 STATEN ISLAND             1733  SI01"
      ]
     },
     "execution_count": 56,
     "metadata": {},
     "output_type": "execute_result"
    }
   ],
   "source": [
    "df_cb_compl.head()"
   ]
  },
  {
   "cell_type": "code",
   "execution_count": 60,
   "metadata": {
    "collapsed": false,
    "scrolled": true
   },
   "outputs": [
    {
     "name": "stderr",
     "output_type": "stream",
     "text": [
      "/opt/rh/anaconda/root/envs/PUI2016_Python2/lib/python2.7/site-packages/ipykernel/__main__.py:3: SettingWithCopyWarning: \n",
      "A value is trying to be set on a copy of a slice from a DataFrame\n",
      "\n",
      "See the caveats in the documentation: http://pandas.pydata.org/pandas-docs/stable/indexing.html#indexing-view-versus-copy\n",
      "  app.launch_new_instance()\n"
     ]
    }
   ],
   "source": [
    "########################################\n",
    "# Harmonize identifier of dataframe 2\n",
    "df_pop_edu['cd_id'][15] = 'MN11'  # MN11111 should be MN11 so make this minor change\n",
    "#df_pop_edu['cd_id'] "
   ]
  },
  {
   "cell_type": "code",
   "execution_count": 61,
   "metadata": {
    "collapsed": false,
    "scrolled": false
   },
   "outputs": [
    {
     "data": {
      "text/html": [
       "<div>\n",
       "<table border=\"1\" class=\"dataframe\">\n",
       "  <thead>\n",
       "    <tr style=\"text-align: right;\">\n",
       "      <th></th>\n",
       "      <th>FIPS</th>\n",
       "      <th>cd_id</th>\n",
       "      <th>Total Population</th>\n",
       "      <th>Population Density (per sq. mile)</th>\n",
       "      <th>Population 25 Years and over: Less Than High School</th>\n",
       "      <th>Population 25 Years and over: High School Graduate (includes equivalency)</th>\n",
       "      <th>Population 25 Years and over: Some college</th>\n",
       "      <th>Population 25 Years and over: Bachelor's degree</th>\n",
       "      <th>Population 25 Years and over: Master's degree</th>\n",
       "      <th>Population 25 Years and over: Professional school degree</th>\n",
       "      <th>Population 25 Years and over: Doctorate degree</th>\n",
       "    </tr>\n",
       "  </thead>\n",
       "  <tbody>\n",
       "    <tr>\n",
       "      <th>0</th>\n",
       "      <td>3603701</td>\n",
       "      <td>BX08</td>\n",
       "      <td>106737</td>\n",
       "      <td>31229.95006</td>\n",
       "      <td>12176</td>\n",
       "      <td>13847</td>\n",
       "      <td>17228</td>\n",
       "      <td>15256</td>\n",
       "      <td>8216</td>\n",
       "      <td>3320</td>\n",
       "      <td>1885</td>\n",
       "    </tr>\n",
       "    <tr>\n",
       "      <th>1</th>\n",
       "      <td>3603702</td>\n",
       "      <td>BX12</td>\n",
       "      <td>134644</td>\n",
       "      <td>19966.67839</td>\n",
       "      <td>17450</td>\n",
       "      <td>27572</td>\n",
       "      <td>22515</td>\n",
       "      <td>15216</td>\n",
       "      <td>5253</td>\n",
       "      <td>62</td>\n",
       "      <td>151</td>\n",
       "    </tr>\n",
       "    <tr>\n",
       "      <th>2</th>\n",
       "      <td>3603703</td>\n",
       "      <td>BX10</td>\n",
       "      <td>121209</td>\n",
       "      <td>12913.81703</td>\n",
       "      <td>14898</td>\n",
       "      <td>25702</td>\n",
       "      <td>21961</td>\n",
       "      <td>14382</td>\n",
       "      <td>7598</td>\n",
       "      <td>636</td>\n",
       "      <td>725</td>\n",
       "    </tr>\n",
       "    <tr>\n",
       "      <th>3</th>\n",
       "      <td>3603704</td>\n",
       "      <td>BX11</td>\n",
       "      <td>135839</td>\n",
       "      <td>35677.95453</td>\n",
       "      <td>21317</td>\n",
       "      <td>26208</td>\n",
       "      <td>23301</td>\n",
       "      <td>12326</td>\n",
       "      <td>7006</td>\n",
       "      <td>1922</td>\n",
       "      <td>1246</td>\n",
       "    </tr>\n",
       "    <tr>\n",
       "      <th>4</th>\n",
       "      <td>3603705</td>\n",
       "      <td>BX03</td>\n",
       "      <td>172247</td>\n",
       "      <td>39405.79222</td>\n",
       "      <td>37438</td>\n",
       "      <td>26090</td>\n",
       "      <td>23256</td>\n",
       "      <td>7913</td>\n",
       "      <td>2544</td>\n",
       "      <td>494</td>\n",
       "      <td>743</td>\n",
       "    </tr>\n",
       "  </tbody>\n",
       "</table>\n",
       "</div>"
      ],
      "text/plain": [
       "      FIPS cd_id  Total Population  Population Density (per sq. mile)  \\\n",
       "0  3603701  BX08            106737                        31229.95006   \n",
       "1  3603702  BX12            134644                        19966.67839   \n",
       "2  3603703  BX10            121209                        12913.81703   \n",
       "3  3603704  BX11            135839                        35677.95453   \n",
       "4  3603705  BX03            172247                        39405.79222   \n",
       "\n",
       "   Population 25 Years and over: Less Than High School  \\\n",
       "0                                              12176     \n",
       "1                                              17450     \n",
       "2                                              14898     \n",
       "3                                              21317     \n",
       "4                                              37438     \n",
       "\n",
       "   Population 25 Years and over: High School Graduate (includes equivalency)  \\\n",
       "0                                              13847                           \n",
       "1                                              27572                           \n",
       "2                                              25702                           \n",
       "3                                              26208                           \n",
       "4                                              26090                           \n",
       "\n",
       "   Population 25 Years and over: Some college  \\\n",
       "0                                       17228   \n",
       "1                                       22515   \n",
       "2                                       21961   \n",
       "3                                       23301   \n",
       "4                                       23256   \n",
       "\n",
       "   Population 25 Years and over: Bachelor's degree  \\\n",
       "0                                            15256   \n",
       "1                                            15216   \n",
       "2                                            14382   \n",
       "3                                            12326   \n",
       "4                                             7913   \n",
       "\n",
       "   Population 25 Years and over: Master's degree  \\\n",
       "0                                           8216   \n",
       "1                                           5253   \n",
       "2                                           7598   \n",
       "3                                           7006   \n",
       "4                                           2544   \n",
       "\n",
       "   Population 25 Years and over: Professional school degree  \\\n",
       "0                                               3320          \n",
       "1                                                 62          \n",
       "2                                                636          \n",
       "3                                               1922          \n",
       "4                                                494          \n",
       "\n",
       "   Population 25 Years and over: Doctorate degree  \n",
       "0                                            1885  \n",
       "1                                             151  \n",
       "2                                             725  \n",
       "3                                            1246  \n",
       "4                                             743  "
      ]
     },
     "execution_count": 61,
     "metadata": {},
     "output_type": "execute_result"
    }
   ],
   "source": [
    "df_pop_edu.head()"
   ]
  },
  {
   "cell_type": "code",
   "execution_count": 62,
   "metadata": {
    "collapsed": false
   },
   "outputs": [
    {
     "data": {
      "text/plain": [
       "59"
      ]
     },
     "execution_count": 62,
     "metadata": {},
     "output_type": "execute_result"
    }
   ],
   "source": [
    "#######################################\n",
    "# Harmonize identifier of dataframe 3\n",
    "\n",
    "#Create a converter to convert the district names\n",
    "converter = df_infr1['Qualifying Name']\n",
    "df_infr1['Qualifying Name'].count()\n",
    "len(converter)"
   ]
  },
  {
   "cell_type": "code",
   "execution_count": 63,
   "metadata": {
    "collapsed": false,
    "scrolled": true
   },
   "outputs": [
    {
     "data": {
      "text/plain": [
       "pandas.core.series.Series"
      ]
     },
     "execution_count": 63,
     "metadata": {},
     "output_type": "execute_result"
    }
   ],
   "source": [
    "type(converter)"
   ]
  },
  {
   "cell_type": "code",
   "execution_count": 64,
   "metadata": {
    "collapsed": true
   },
   "outputs": [],
   "source": [
    "# A dictionary that convert the long borough names into ideal short forms\n",
    "borough_dict2 = {'Manhattan':'MN', 'Brooklyn':'BK', 'Queens':'QN', 'Bronx':'BX', 'Staten Island':'SI' }"
   ]
  },
  {
   "cell_type": "code",
   "execution_count": 65,
   "metadata": {
    "collapsed": false,
    "scrolled": true
   },
   "outputs": [
    {
     "data": {
      "text/plain": [
       "[['Bronx', '08'],\n",
       " ['Bronx', '12'],\n",
       " ['Bronx', '10'],\n",
       " ['Bronx', '11'],\n",
       " ['Bronx', '03'],\n",
       " ['Bronx', '06'],\n",
       " ['Bronx', '07'],\n",
       " ['Bronx', '05'],\n",
       " ['Bronx', '04'],\n",
       " ['Bronx', '09'],\n",
       " ['Bronx', '01'],\n",
       " ['Bronx', '02'],\n",
       " ['Manhattan', '12'],\n",
       " ['Manhattan', '09'],\n",
       " ['Manhattan', '10'],\n",
       " ['Manhattan', '11'],\n",
       " ['Manhattan', '08'],\n",
       " ['Manhattan', '07'],\n",
       " ['Manhattan', '04'],\n",
       " ['Manhattan', '05'],\n",
       " ['Manhattan', '06'],\n",
       " ['Manhattan', '03'],\n",
       " ['Manhattan', '01'],\n",
       " ['Manhattan', '02'],\n",
       " ['Staten Island', '03'],\n",
       " ['Staten Island', '02'],\n",
       " ['Staten Island', '01'],\n",
       " ['Brooklyn', '01'],\n",
       " ['Brooklyn', '04'],\n",
       " ['Brooklyn', '03'],\n",
       " ['Brooklyn', '02'],\n",
       " ['Brooklyn', '06'],\n",
       " ['Brooklyn', '08'],\n",
       " ['Brooklyn', '16'],\n",
       " ['Brooklyn', '05'],\n",
       " ['Brooklyn', '18'],\n",
       " ['Brooklyn', '17'],\n",
       " ['Brooklyn', '09'],\n",
       " ['Brooklyn', '07'],\n",
       " ['Brooklyn', '10'],\n",
       " ['Brooklyn', '12'],\n",
       " ['Brooklyn', '14'],\n",
       " ['Brooklyn', '15'],\n",
       " ['Brooklyn', '11'],\n",
       " ['Brooklyn', '13'],\n",
       " ['Queens', '01'],\n",
       " ['Queens', '03'],\n",
       " ['Queens', '07'],\n",
       " ['Queens', '11'],\n",
       " ['Queens', '13'],\n",
       " ['Queens', '08'],\n",
       " ['Queens', '04'],\n",
       " ['Queens', '06'],\n",
       " ['Queens', '02'],\n",
       " ['Queens', '05'],\n",
       " ['Queens', '09'],\n",
       " ['Queens', '12'],\n",
       " ['Queens', '10'],\n",
       " ['Queens', '14']]"
      ]
     },
     "execution_count": 65,
     "metadata": {},
     "output_type": "execute_result"
    }
   ],
   "source": [
    "# There are district names and numbers in the form of:\n",
    "# 'NYC-Manhattan Community District 1 & 2--Battery Park City, New York'\n",
    "# It shows up twice, so each time my loop picked one community district number (1 and then 2)\n",
    "\n",
    "# I create a boolean variable that will pick the second number when its value is \"True\"\n",
    "# set false as defult so if the there is no \"&\" in the expression\n",
    "\n",
    "short_name_lst = []\n",
    "\n",
    "pick_second = False\n",
    "for name_long in converter:\n",
    "    if pick_second == False:\n",
    "        if re.match(r'.*(\\b\\d+\\b)\\s*\\&\\s*(\\b\\d+\\b).*', name_long):\n",
    "            name_short = re.findall(r'NYC\\-(\\w+.*)\\sCommunity District\\s(\\b\\d+\\b)', name_long)[0]\n",
    "            pick_second = True            \n",
    "        else:\n",
    "            name_short = re.findall(r'NYC\\-(\\w+.*)\\sCommunity District\\s(\\b\\d+\\b)', name_long)[0]\n",
    "    \n",
    "    else:\n",
    "        name_short = re.findall(r'NYC\\-(\\w+.*)\\sCommunity District\\s\\b\\d+\\b\\s\\&\\s(\\b\\d+\\b)', name_long)[0]\n",
    "        pick_second = False\n",
    "    \n",
    "    name_short = list(name_short)\n",
    "    if len(name_short[1]) == 1:\n",
    "        name_short[1] = '0' + name_short[1]\n",
    "    \n",
    "    #print (name_long, name_short)\n",
    "    short_name_lst.append(name_short)\n",
    "\n",
    "\n",
    "short_name_lst\n"
   ]
  },
  {
   "cell_type": "code",
   "execution_count": 66,
   "metadata": {
    "collapsed": false
   },
   "outputs": [
    {
     "data": {
      "text/html": [
       "<div>\n",
       "<table border=\"1\" class=\"dataframe\">\n",
       "  <thead>\n",
       "    <tr style=\"text-align: right;\">\n",
       "      <th></th>\n",
       "      <th>Qualifying Name</th>\n",
       "    </tr>\n",
       "  </thead>\n",
       "  <tbody>\n",
       "    <tr>\n",
       "      <th>0</th>\n",
       "      <td>NYC-Bronx Community District 8--Riverdale, New...</td>\n",
       "    </tr>\n",
       "    <tr>\n",
       "      <th>1</th>\n",
       "      <td>NYC-Bronx Community District 12--Wakefield, Ne...</td>\n",
       "    </tr>\n",
       "    <tr>\n",
       "      <th>2</th>\n",
       "      <td>NYC-Bronx Community District 10--Co-op City, N...</td>\n",
       "    </tr>\n",
       "    <tr>\n",
       "      <th>3</th>\n",
       "      <td>NYC-Bronx Community District 11--Pelham Parkwa...</td>\n",
       "    </tr>\n",
       "    <tr>\n",
       "      <th>4</th>\n",
       "      <td>NYC-Bronx Community District 3 &amp; 6--Belmont, N...</td>\n",
       "    </tr>\n",
       "  </tbody>\n",
       "</table>\n",
       "</div>"
      ],
      "text/plain": [
       "                                     Qualifying Name\n",
       "0  NYC-Bronx Community District 8--Riverdale, New...\n",
       "1  NYC-Bronx Community District 12--Wakefield, Ne...\n",
       "2  NYC-Bronx Community District 10--Co-op City, N...\n",
       "3  NYC-Bronx Community District 11--Pelham Parkwa...\n",
       "4  NYC-Bronx Community District 3 & 6--Belmont, N..."
      ]
     },
     "execution_count": 66,
     "metadata": {},
     "output_type": "execute_result"
    }
   ],
   "source": [
    "df_converter = converter.to_frame()  # turn the series \"converter\" into a data frame\n",
    "#df_converter.reset_index(level=0, inplace=True)\n",
    "df_converter.head()"
   ]
  },
  {
   "cell_type": "code",
   "execution_count": 67,
   "metadata": {
    "collapsed": false
   },
   "outputs": [
    {
     "data": {
      "text/plain": [
       "59"
      ]
     },
     "execution_count": 67,
     "metadata": {},
     "output_type": "execute_result"
    }
   ],
   "source": [
    "df_converter.shape\n",
    "len(short_name_lst)"
   ]
  },
  {
   "cell_type": "code",
   "execution_count": 69,
   "metadata": {
    "collapsed": false
   },
   "outputs": [
    {
     "data": {
      "text/html": [
       "<div>\n",
       "<table border=\"1\" class=\"dataframe\">\n",
       "  <thead>\n",
       "    <tr style=\"text-align: right;\">\n",
       "      <th></th>\n",
       "      <th>Qualifying Name</th>\n",
       "      <th>cd_short</th>\n",
       "    </tr>\n",
       "  </thead>\n",
       "  <tbody>\n",
       "    <tr>\n",
       "      <th>0</th>\n",
       "      <td>NYC-Bronx Community District 8--Riverdale, New...</td>\n",
       "      <td>[Bronx, 08]</td>\n",
       "    </tr>\n",
       "    <tr>\n",
       "      <th>1</th>\n",
       "      <td>NYC-Bronx Community District 12--Wakefield, Ne...</td>\n",
       "      <td>[Bronx, 12]</td>\n",
       "    </tr>\n",
       "    <tr>\n",
       "      <th>2</th>\n",
       "      <td>NYC-Bronx Community District 10--Co-op City, N...</td>\n",
       "      <td>[Bronx, 10]</td>\n",
       "    </tr>\n",
       "    <tr>\n",
       "      <th>3</th>\n",
       "      <td>NYC-Bronx Community District 11--Pelham Parkwa...</td>\n",
       "      <td>[Bronx, 11]</td>\n",
       "    </tr>\n",
       "    <tr>\n",
       "      <th>4</th>\n",
       "      <td>NYC-Bronx Community District 3 &amp; 6--Belmont, N...</td>\n",
       "      <td>[Bronx, 03]</td>\n",
       "    </tr>\n",
       "  </tbody>\n",
       "</table>\n",
       "</div>"
      ],
      "text/plain": [
       "                                     Qualifying Name     cd_short\n",
       "0  NYC-Bronx Community District 8--Riverdale, New...  [Bronx, 08]\n",
       "1  NYC-Bronx Community District 12--Wakefield, Ne...  [Bronx, 12]\n",
       "2  NYC-Bronx Community District 10--Co-op City, N...  [Bronx, 10]\n",
       "3  NYC-Bronx Community District 11--Pelham Parkwa...  [Bronx, 11]\n",
       "4  NYC-Bronx Community District 3 & 6--Belmont, N...  [Bronx, 03]"
      ]
     },
     "execution_count": 69,
     "metadata": {},
     "output_type": "execute_result"
    }
   ],
   "source": [
    "# add a column of community district names in shorted intermediate form\n",
    "df_converter['cd_short'] = short_name_lst\n",
    "df_converter.head()"
   ]
  },
  {
   "cell_type": "code",
   "execution_count": 70,
   "metadata": {
    "collapsed": false
   },
   "outputs": [],
   "source": [
    "# reapply the method earlier to get the ideal form\n",
    "df_converter['cd_id']=  np.asarray([[borough_dict2[n[0]] + n[1]] for n in df_converter.cd_short])"
   ]
  },
  {
   "cell_type": "code",
   "execution_count": 71,
   "metadata": {
    "collapsed": false
   },
   "outputs": [
    {
     "data": {
      "text/html": [
       "<div>\n",
       "<table border=\"1\" class=\"dataframe\">\n",
       "  <thead>\n",
       "    <tr style=\"text-align: right;\">\n",
       "      <th></th>\n",
       "      <th>Qualifying Name</th>\n",
       "      <th>cd_short</th>\n",
       "      <th>cd_id</th>\n",
       "    </tr>\n",
       "  </thead>\n",
       "  <tbody>\n",
       "    <tr>\n",
       "      <th>0</th>\n",
       "      <td>NYC-Bronx Community District 8--Riverdale, New...</td>\n",
       "      <td>[Bronx, 08]</td>\n",
       "      <td>BX08</td>\n",
       "    </tr>\n",
       "    <tr>\n",
       "      <th>1</th>\n",
       "      <td>NYC-Bronx Community District 12--Wakefield, Ne...</td>\n",
       "      <td>[Bronx, 12]</td>\n",
       "      <td>BX12</td>\n",
       "    </tr>\n",
       "    <tr>\n",
       "      <th>2</th>\n",
       "      <td>NYC-Bronx Community District 10--Co-op City, N...</td>\n",
       "      <td>[Bronx, 10]</td>\n",
       "      <td>BX10</td>\n",
       "    </tr>\n",
       "    <tr>\n",
       "      <th>3</th>\n",
       "      <td>NYC-Bronx Community District 11--Pelham Parkwa...</td>\n",
       "      <td>[Bronx, 11]</td>\n",
       "      <td>BX11</td>\n",
       "    </tr>\n",
       "    <tr>\n",
       "      <th>4</th>\n",
       "      <td>NYC-Bronx Community District 3 &amp; 6--Belmont, N...</td>\n",
       "      <td>[Bronx, 03]</td>\n",
       "      <td>BX03</td>\n",
       "    </tr>\n",
       "    <tr>\n",
       "      <th>5</th>\n",
       "      <td>NYC-Bronx Community District 3 &amp; 6--Belmont, N...</td>\n",
       "      <td>[Bronx, 06]</td>\n",
       "      <td>BX06</td>\n",
       "    </tr>\n",
       "  </tbody>\n",
       "</table>\n",
       "</div>"
      ],
      "text/plain": [
       "                                     Qualifying Name     cd_short cd_id\n",
       "0  NYC-Bronx Community District 8--Riverdale, New...  [Bronx, 08]  BX08\n",
       "1  NYC-Bronx Community District 12--Wakefield, Ne...  [Bronx, 12]  BX12\n",
       "2  NYC-Bronx Community District 10--Co-op City, N...  [Bronx, 10]  BX10\n",
       "3  NYC-Bronx Community District 11--Pelham Parkwa...  [Bronx, 11]  BX11\n",
       "4  NYC-Bronx Community District 3 & 6--Belmont, N...  [Bronx, 03]  BX03\n",
       "5  NYC-Bronx Community District 3 & 6--Belmont, N...  [Bronx, 06]  BX06"
      ]
     },
     "execution_count": 71,
     "metadata": {},
     "output_type": "execute_result"
    }
   ],
   "source": [
    "df_converter.head(6)"
   ]
  },
  {
   "cell_type": "code",
   "execution_count": 72,
   "metadata": {
    "collapsed": false
   },
   "outputs": [
    {
     "data": {
      "text/html": [
       "<div>\n",
       "<table border=\"1\" class=\"dataframe\">\n",
       "  <thead>\n",
       "    <tr style=\"text-align: right;\">\n",
       "      <th></th>\n",
       "      <th>cd_id</th>\n",
       "      <th>Qualifying Name</th>\n",
       "      <th>hh_mobile</th>\n",
       "      <th>hh_no_mobile</th>\n",
       "      <th>hh_speed_internet</th>\n",
       "      <th>hh_low_internet_conn</th>\n",
       "    </tr>\n",
       "  </thead>\n",
       "  <tbody>\n",
       "    <tr>\n",
       "      <th>0</th>\n",
       "      <td>BX08</td>\n",
       "      <td>NYC-Bronx Community District 8--Riverdale, New...</td>\n",
       "      <td>17527</td>\n",
       "      <td>3656</td>\n",
       "      <td>60126</td>\n",
       "      <td>34318</td>\n",
       "    </tr>\n",
       "    <tr>\n",
       "      <th>1</th>\n",
       "      <td>BX12</td>\n",
       "      <td>NYC-Bronx Community District 12--Wakefield, Ne...</td>\n",
       "      <td>11414</td>\n",
       "      <td>7309</td>\n",
       "      <td>62572</td>\n",
       "      <td>34312</td>\n",
       "    </tr>\n",
       "    <tr>\n",
       "      <th>2</th>\n",
       "      <td>BX10</td>\n",
       "      <td>NYC-Bronx Community District 10--Co-op City, N...</td>\n",
       "      <td>12064</td>\n",
       "      <td>5533</td>\n",
       "      <td>64265</td>\n",
       "      <td>35769</td>\n",
       "    </tr>\n",
       "  </tbody>\n",
       "</table>\n",
       "</div>"
      ],
      "text/plain": [
       "  cd_id                                    Qualifying Name  hh_mobile  \\\n",
       "0  BX08  NYC-Bronx Community District 8--Riverdale, New...      17527   \n",
       "1  BX12  NYC-Bronx Community District 12--Wakefield, Ne...      11414   \n",
       "2  BX10  NYC-Bronx Community District 10--Co-op City, N...      12064   \n",
       "\n",
       "   hh_no_mobile  hh_speed_internet  hh_low_internet_conn  \n",
       "0          3656              60126                 34318  \n",
       "1          7309              62572                 34312  \n",
       "2          5533              64265                 35769  "
      ]
     },
     "execution_count": 72,
     "metadata": {},
     "output_type": "execute_result"
    }
   ],
   "source": [
    "# Add this ID column into the original data frame\n",
    "df_infr2 = pd.concat([df_converter.cd_id, df_infr1], axis=1)\n",
    "df_infr2.head(3)"
   ]
  },
  {
   "cell_type": "code",
   "execution_count": 73,
   "metadata": {
    "collapsed": false
   },
   "outputs": [
    {
     "data": {
      "text/plain": [
       "(59, 6)"
      ]
     },
     "execution_count": 73,
     "metadata": {},
     "output_type": "execute_result"
    }
   ],
   "source": [
    "df_infr2.shape"
   ]
  },
  {
   "cell_type": "code",
   "execution_count": 74,
   "metadata": {
    "collapsed": false
   },
   "outputs": [],
   "source": [
    "########################\n",
    "# Link the 3 dataframes\n",
    "dfs = [df_cb_compl, df_pop_edu, df_infr2]\n",
    "\n",
    "df_merge = reduce(lambda left,right: pd.merge(left,right,on='cd_id'), dfs)\n",
    "\n",
    "#alternaive way:\n",
    "#df_merge = pd.merge(df_cb_compl, df_pop_edu, df_infr2... )"
   ]
  },
  {
   "cell_type": "code",
   "execution_count": 76,
   "metadata": {
    "collapsed": false
   },
   "outputs": [],
   "source": [
    "# Rename some columns\n",
    "df_merge.columns = ['CommunityBoard','ComplaintCounts','cd_id', 'FIPS',\n",
    "                    'TotalPopulation','PopulationDensity_perSqMile',\n",
    "                    'Pop25over_LessThanHighSch','Pop25over_HighSchool','Pop25over_SomeCollege',\n",
    "                    'Pop25over_Bachelor','Pop25over_Master','Pop25over_Professional','Pop25over_Doctorate',\n",
    "                    'QualifyingName','hh_mobile','hh_no_mobile','hh_speed_internet','hh_low_internet_conn']"
   ]
  },
  {
   "cell_type": "code",
   "execution_count": 77,
   "metadata": {
    "collapsed": false,
    "scrolled": true
   },
   "outputs": [
    {
     "data": {
      "text/html": [
       "<div>\n",
       "<table border=\"1\" class=\"dataframe\">\n",
       "  <thead>\n",
       "    <tr style=\"text-align: right;\">\n",
       "      <th></th>\n",
       "      <th>CommunityBoard</th>\n",
       "      <th>ComplaintCounts</th>\n",
       "      <th>cd_id</th>\n",
       "      <th>FIPS</th>\n",
       "      <th>TotalPopulation</th>\n",
       "      <th>PopulationDensity_perSqMile</th>\n",
       "      <th>Pop25over_LessThanHighSch</th>\n",
       "      <th>Pop25over_HighSchool</th>\n",
       "      <th>Pop25over_SomeCollege</th>\n",
       "      <th>Pop25over_Bachelor</th>\n",
       "      <th>Pop25over_Master</th>\n",
       "      <th>Pop25over_Professional</th>\n",
       "      <th>Pop25over_Doctorate</th>\n",
       "      <th>QualifyingName</th>\n",
       "      <th>hh_mobile</th>\n",
       "      <th>hh_no_mobile</th>\n",
       "      <th>hh_speed_internet</th>\n",
       "      <th>hh_low_internet_conn</th>\n",
       "    </tr>\n",
       "  </thead>\n",
       "  <tbody>\n",
       "    <tr>\n",
       "      <th>0</th>\n",
       "      <td>01 BRONX</td>\n",
       "      <td>876</td>\n",
       "      <td>BX01</td>\n",
       "      <td>3603710</td>\n",
       "      <td>167147</td>\n",
       "      <td>34412.07524</td>\n",
       "      <td>39200</td>\n",
       "      <td>26951</td>\n",
       "      <td>22004</td>\n",
       "      <td>6395</td>\n",
       "      <td>1733</td>\n",
       "      <td>71</td>\n",
       "      <td>599</td>\n",
       "      <td>NYC-Bronx Community District 1 &amp; 2--Hunts Poin...</td>\n",
       "      <td>15981</td>\n",
       "      <td>5314</td>\n",
       "      <td>62669</td>\n",
       "      <td>35125</td>\n",
       "    </tr>\n",
       "    <tr>\n",
       "      <th>1</th>\n",
       "      <td>01 BROOKLYN</td>\n",
       "      <td>2261</td>\n",
       "      <td>BK01</td>\n",
       "      <td>3604001</td>\n",
       "      <td>154713</td>\n",
       "      <td>37671.51058</td>\n",
       "      <td>18483</td>\n",
       "      <td>18437</td>\n",
       "      <td>18226</td>\n",
       "      <td>37203</td>\n",
       "      <td>13072</td>\n",
       "      <td>3199</td>\n",
       "      <td>757</td>\n",
       "      <td>NYC-Brooklyn Community District 1--Greenpoint ...</td>\n",
       "      <td>21459</td>\n",
       "      <td>4701</td>\n",
       "      <td>90769</td>\n",
       "      <td>49913</td>\n",
       "    </tr>\n",
       "    <tr>\n",
       "      <th>2</th>\n",
       "      <td>01 MANHATTAN</td>\n",
       "      <td>1028</td>\n",
       "      <td>MN01</td>\n",
       "      <td>3603810</td>\n",
       "      <td>159903</td>\n",
       "      <td>53928.05360</td>\n",
       "      <td>5118</td>\n",
       "      <td>6525</td>\n",
       "      <td>12408</td>\n",
       "      <td>58384</td>\n",
       "      <td>28388</td>\n",
       "      <td>10723</td>\n",
       "      <td>5801</td>\n",
       "      <td>NYC-Manhattan Community District 1 &amp; 2--Batter...</td>\n",
       "      <td>41450</td>\n",
       "      <td>6394</td>\n",
       "      <td>147106</td>\n",
       "      <td>77915</td>\n",
       "    </tr>\n",
       "  </tbody>\n",
       "</table>\n",
       "</div>"
      ],
      "text/plain": [
       "  CommunityBoard  ComplaintCounts cd_id     FIPS  TotalPopulation  \\\n",
       "0       01 BRONX              876  BX01  3603710           167147   \n",
       "1    01 BROOKLYN             2261  BK01  3604001           154713   \n",
       "2   01 MANHATTAN             1028  MN01  3603810           159903   \n",
       "\n",
       "   PopulationDensity_perSqMile  Pop25over_LessThanHighSch  \\\n",
       "0                  34412.07524                      39200   \n",
       "1                  37671.51058                      18483   \n",
       "2                  53928.05360                       5118   \n",
       "\n",
       "   Pop25over_HighSchool  Pop25over_SomeCollege  Pop25over_Bachelor  \\\n",
       "0                 26951                  22004                6395   \n",
       "1                 18437                  18226               37203   \n",
       "2                  6525                  12408               58384   \n",
       "\n",
       "   Pop25over_Master  Pop25over_Professional  Pop25over_Doctorate  \\\n",
       "0              1733                      71                  599   \n",
       "1             13072                    3199                  757   \n",
       "2             28388                   10723                 5801   \n",
       "\n",
       "                                      QualifyingName  hh_mobile  hh_no_mobile  \\\n",
       "0  NYC-Bronx Community District 1 & 2--Hunts Poin...      15981          5314   \n",
       "1  NYC-Brooklyn Community District 1--Greenpoint ...      21459          4701   \n",
       "2  NYC-Manhattan Community District 1 & 2--Batter...      41450          6394   \n",
       "\n",
       "   hh_speed_internet  hh_low_internet_conn  \n",
       "0              62669                 35125  \n",
       "1              90769                 49913  \n",
       "2             147106                 77915  "
      ]
     },
     "execution_count": 77,
     "metadata": {},
     "output_type": "execute_result"
    }
   ],
   "source": [
    "df_merge.head(3)"
   ]
  },
  {
   "cell_type": "markdown",
   "metadata": {
    "collapsed": true
   },
   "source": [
    "## Question: Are the demographics and infrastructure different in Community Districts that show more complaints than others?\n",
    "## Approach: Examine possible relationships between the number of complaints and demographics / infrastruction condictions"
   ]
  },
  {
   "cell_type": "code",
   "execution_count": 79,
   "metadata": {
    "collapsed": false
   },
   "outputs": [
    {
     "data": {
      "text/html": [
       "<div>\n",
       "<table border=\"1\" class=\"dataframe\">\n",
       "  <thead>\n",
       "    <tr style=\"text-align: right;\">\n",
       "      <th></th>\n",
       "      <th>CommunityBoard</th>\n",
       "      <th>ComplaintCounts</th>\n",
       "      <th>cd_id</th>\n",
       "      <th>FIPS</th>\n",
       "      <th>TotalPopulation</th>\n",
       "      <th>PopulationDensity_perSqMile</th>\n",
       "      <th>Pop25over_LessThanHighSch</th>\n",
       "      <th>Pop25over_HighSchool</th>\n",
       "      <th>Pop25over_SomeCollege</th>\n",
       "      <th>Pop25over_Bachelor</th>\n",
       "      <th>Pop25over_Master</th>\n",
       "      <th>Pop25over_Professional</th>\n",
       "      <th>Pop25over_Doctorate</th>\n",
       "      <th>QualifyingName</th>\n",
       "      <th>hh_mobile</th>\n",
       "      <th>hh_no_mobile</th>\n",
       "      <th>hh_speed_internet</th>\n",
       "      <th>hh_low_internet_conn</th>\n",
       "    </tr>\n",
       "  </thead>\n",
       "  <tbody>\n",
       "    <tr>\n",
       "      <th>51</th>\n",
       "      <td>13 BROOKLYN</td>\n",
       "      <td>736</td>\n",
       "      <td>BK13</td>\n",
       "      <td>3604018</td>\n",
       "      <td>110727</td>\n",
       "      <td>32537.40922</td>\n",
       "      <td>16840</td>\n",
       "      <td>20783</td>\n",
       "      <td>15977</td>\n",
       "      <td>16795</td>\n",
       "      <td>5975</td>\n",
       "      <td>2224</td>\n",
       "      <td>376</td>\n",
       "      <td>NYC-Brooklyn Community District 13--Brighton B...</td>\n",
       "      <td>7779</td>\n",
       "      <td>3461</td>\n",
       "      <td>55226</td>\n",
       "      <td>29709</td>\n",
       "    </tr>\n",
       "    <tr>\n",
       "      <th>5</th>\n",
       "      <td>02 BRONX</td>\n",
       "      <td>743</td>\n",
       "      <td>BX02</td>\n",
       "      <td>3603710</td>\n",
       "      <td>167147</td>\n",
       "      <td>34412.07524</td>\n",
       "      <td>39200</td>\n",
       "      <td>26951</td>\n",
       "      <td>22004</td>\n",
       "      <td>6395</td>\n",
       "      <td>1733</td>\n",
       "      <td>71</td>\n",
       "      <td>599</td>\n",
       "      <td>NYC-Bronx Community District 1 &amp; 2--Hunts Poin...</td>\n",
       "      <td>15981</td>\n",
       "      <td>5314</td>\n",
       "      <td>62669</td>\n",
       "      <td>35125</td>\n",
       "    </tr>\n",
       "    <tr>\n",
       "      <th>56</th>\n",
       "      <td>16 BROOKLYN</td>\n",
       "      <td>850</td>\n",
       "      <td>BK16</td>\n",
       "      <td>3604007</td>\n",
       "      <td>123772</td>\n",
       "      <td>47796.01183</td>\n",
       "      <td>18231</td>\n",
       "      <td>28885</td>\n",
       "      <td>18956</td>\n",
       "      <td>6401</td>\n",
       "      <td>2225</td>\n",
       "      <td>381</td>\n",
       "      <td>182</td>\n",
       "      <td>NYC-Brooklyn Community District 16--Brownsvill...</td>\n",
       "      <td>5927</td>\n",
       "      <td>2316</td>\n",
       "      <td>49042</td>\n",
       "      <td>27488</td>\n",
       "    </tr>\n",
       "    <tr>\n",
       "      <th>46</th>\n",
       "      <td>11 QUEENS</td>\n",
       "      <td>855</td>\n",
       "      <td>QN11</td>\n",
       "      <td>3604104</td>\n",
       "      <td>120996</td>\n",
       "      <td>12991.16954</td>\n",
       "      <td>7857</td>\n",
       "      <td>19140</td>\n",
       "      <td>23320</td>\n",
       "      <td>22668</td>\n",
       "      <td>12326</td>\n",
       "      <td>2042</td>\n",
       "      <td>1716</td>\n",
       "      <td>NYC-Queens Community District 11--Bayside, New...</td>\n",
       "      <td>16201</td>\n",
       "      <td>8388</td>\n",
       "      <td>73842</td>\n",
       "      <td>38061</td>\n",
       "    </tr>\n",
       "  </tbody>\n",
       "</table>\n",
       "</div>"
      ],
      "text/plain": [
       "   CommunityBoard  ComplaintCounts cd_id     FIPS  TotalPopulation  \\\n",
       "51    13 BROOKLYN              736  BK13  3604018           110727   \n",
       "5        02 BRONX              743  BX02  3603710           167147   \n",
       "56    16 BROOKLYN              850  BK16  3604007           123772   \n",
       "46      11 QUEENS              855  QN11  3604104           120996   \n",
       "\n",
       "    PopulationDensity_perSqMile  Pop25over_LessThanHighSch  \\\n",
       "51                  32537.40922                      16840   \n",
       "5                   34412.07524                      39200   \n",
       "56                  47796.01183                      18231   \n",
       "46                  12991.16954                       7857   \n",
       "\n",
       "    Pop25over_HighSchool  Pop25over_SomeCollege  Pop25over_Bachelor  \\\n",
       "51                 20783                  15977               16795   \n",
       "5                  26951                  22004                6395   \n",
       "56                 28885                  18956                6401   \n",
       "46                 19140                  23320               22668   \n",
       "\n",
       "    Pop25over_Master  Pop25over_Professional  Pop25over_Doctorate  \\\n",
       "51              5975                    2224                  376   \n",
       "5               1733                      71                  599   \n",
       "56              2225                     381                  182   \n",
       "46             12326                    2042                 1716   \n",
       "\n",
       "                                       QualifyingName  hh_mobile  \\\n",
       "51  NYC-Brooklyn Community District 13--Brighton B...       7779   \n",
       "5   NYC-Bronx Community District 1 & 2--Hunts Poin...      15981   \n",
       "56  NYC-Brooklyn Community District 16--Brownsvill...       5927   \n",
       "46  NYC-Queens Community District 11--Bayside, New...      16201   \n",
       "\n",
       "    hh_no_mobile  hh_speed_internet  hh_low_internet_conn  \n",
       "51          3461              55226                 29709  \n",
       "5           5314              62669                 35125  \n",
       "56          2316              49042                 27488  \n",
       "46          8388              73842                 38061  "
      ]
     },
     "execution_count": 79,
     "metadata": {},
     "output_type": "execute_result"
    }
   ],
   "source": [
    "# Order by number of complaints\n",
    "\n",
    "df_merge.sort_values(by='ComplaintCounts', inplace=True, ascending=False) # high to low\n",
    "#df_merge.sort_values(by='ComplaintCounts', inplace=True, ascending=True)    #low to hight\n",
    "\n",
    "df_merge.head(4)"
   ]
  },
  {
   "cell_type": "markdown",
   "metadata": {},
   "source": [
    "### As can be seen, \"Manhattan 12\", \"Brooklyn 05\", and \"Queens 12\" are the community districts that have the top three largest number of complaints\n",
    "\n",
    "### \"Brooklyn 13\", \"Bronx 02\", and \"Brooklyn 16\" are the community districts that have the lowest number of complaints"
   ]
  },
  {
   "cell_type": "code",
   "execution_count": null,
   "metadata": {
    "collapsed": true
   },
   "outputs": [],
   "source": []
  },
  {
   "cell_type": "markdown",
   "metadata": {},
   "source": [
    "## Analysis 1. Complaint Counts v.s. Education Level\n",
    "#### Refined Question: \n",
    "#### Does Educational Level of the community district population affect the number of complaints?\n",
    "#### Null Hypothesis: Education Level does not affect the number of complaints\n",
    "H0: The coefficients of all the education level factors are non significant: <br\\>\n",
    "w1 = w2 = w3 = .. = 0\n",
    "\n",
    "H1 : At least one of the coefficients of Education level factors is significant:<br\\>\n",
    "w1, w2... or wn is not 0"
   ]
  },
  {
   "cell_type": "code",
   "execution_count": 80,
   "metadata": {
    "collapsed": false
   },
   "outputs": [
    {
     "data": {
      "text/html": [
       "<div>\n",
       "<table border=\"1\" class=\"dataframe\">\n",
       "  <thead>\n",
       "    <tr style=\"text-align: right;\">\n",
       "      <th></th>\n",
       "      <th>CommunityBoard</th>\n",
       "      <th>ComplaintCounts</th>\n",
       "      <th>cd_id</th>\n",
       "      <th>FIPS</th>\n",
       "      <th>TotalPopulation</th>\n",
       "      <th>PopulationDensity_perSqMile</th>\n",
       "      <th>Pop25over_LessThanHighSch</th>\n",
       "      <th>Pop25over_HighSchool</th>\n",
       "      <th>Pop25over_SomeCollege</th>\n",
       "      <th>Pop25over_Bachelor</th>\n",
       "      <th>Pop25over_Master</th>\n",
       "      <th>Pop25over_Professional</th>\n",
       "      <th>Pop25over_Doctorate</th>\n",
       "      <th>QualifyingName</th>\n",
       "      <th>hh_mobile</th>\n",
       "      <th>hh_no_mobile</th>\n",
       "      <th>hh_speed_internet</th>\n",
       "      <th>hh_low_internet_conn</th>\n",
       "      <th>PopOver25</th>\n",
       "    </tr>\n",
       "  </thead>\n",
       "  <tbody>\n",
       "    <tr>\n",
       "      <th>51</th>\n",
       "      <td>13 BROOKLYN</td>\n",
       "      <td>736</td>\n",
       "      <td>BK13</td>\n",
       "      <td>3604018</td>\n",
       "      <td>110727</td>\n",
       "      <td>32537.40922</td>\n",
       "      <td>16840</td>\n",
       "      <td>20783</td>\n",
       "      <td>15977</td>\n",
       "      <td>16795</td>\n",
       "      <td>5975</td>\n",
       "      <td>2224</td>\n",
       "      <td>376</td>\n",
       "      <td>NYC-Brooklyn Community District 13--Brighton B...</td>\n",
       "      <td>7779</td>\n",
       "      <td>3461</td>\n",
       "      <td>55226</td>\n",
       "      <td>29709</td>\n",
       "      <td>78970</td>\n",
       "    </tr>\n",
       "    <tr>\n",
       "      <th>5</th>\n",
       "      <td>02 BRONX</td>\n",
       "      <td>743</td>\n",
       "      <td>BX02</td>\n",
       "      <td>3603710</td>\n",
       "      <td>167147</td>\n",
       "      <td>34412.07524</td>\n",
       "      <td>39200</td>\n",
       "      <td>26951</td>\n",
       "      <td>22004</td>\n",
       "      <td>6395</td>\n",
       "      <td>1733</td>\n",
       "      <td>71</td>\n",
       "      <td>599</td>\n",
       "      <td>NYC-Bronx Community District 1 &amp; 2--Hunts Poin...</td>\n",
       "      <td>15981</td>\n",
       "      <td>5314</td>\n",
       "      <td>62669</td>\n",
       "      <td>35125</td>\n",
       "      <td>96953</td>\n",
       "    </tr>\n",
       "  </tbody>\n",
       "</table>\n",
       "</div>"
      ],
      "text/plain": [
       "   CommunityBoard  ComplaintCounts cd_id     FIPS  TotalPopulation  \\\n",
       "51    13 BROOKLYN              736  BK13  3604018           110727   \n",
       "5        02 BRONX              743  BX02  3603710           167147   \n",
       "\n",
       "    PopulationDensity_perSqMile  Pop25over_LessThanHighSch  \\\n",
       "51                  32537.40922                      16840   \n",
       "5                   34412.07524                      39200   \n",
       "\n",
       "    Pop25over_HighSchool  Pop25over_SomeCollege  Pop25over_Bachelor  \\\n",
       "51                 20783                  15977               16795   \n",
       "5                  26951                  22004                6395   \n",
       "\n",
       "    Pop25over_Master  Pop25over_Professional  Pop25over_Doctorate  \\\n",
       "51              5975                    2224                  376   \n",
       "5               1733                      71                  599   \n",
       "\n",
       "                                       QualifyingName  hh_mobile  \\\n",
       "51  NYC-Brooklyn Community District 13--Brighton B...       7779   \n",
       "5   NYC-Bronx Community District 1 & 2--Hunts Poin...      15981   \n",
       "\n",
       "    hh_no_mobile  hh_speed_internet  hh_low_internet_conn  PopOver25  \n",
       "51          3461              55226                 29709      78970  \n",
       "5           5314              62669                 35125      96953  "
      ]
     },
     "execution_count": 80,
     "metadata": {},
     "output_type": "execute_result"
    }
   ],
   "source": [
    "df_merge['PopOver25'] = df_merge.iloc[:,6:13].sum(axis=1)\n",
    "df_merge.head(2)"
   ]
  },
  {
   "cell_type": "code",
   "execution_count": 81,
   "metadata": {
    "collapsed": false
   },
   "outputs": [
    {
     "name": "stdout",
     "output_type": "stream",
     "text": [
      "                            OLS Regression Results                            \n",
      "==============================================================================\n",
      "Dep. Variable:        ComplaintCounts   R-squared:                       0.270\n",
      "Model:                            OLS   Adj. R-squared:                  0.186\n",
      "Method:                 Least Squares   F-statistic:                     3.207\n",
      "Date:                Mon, 07 Nov 2016   Prob (F-statistic):            0.00938\n",
      "Time:                        11:17:11   Log-Likelihood:                -442.69\n",
      "No. Observations:                  59   AIC:                             899.4\n",
      "Df Residuals:                      52   BIC:                             913.9\n",
      "Df Model:                           6                                         \n",
      "Covariance Type:            nonrobust                                         \n",
      "=============================================================================================\n",
      "                                coef    std err          t      P>|t|      [95.0% Conf. Int.]\n",
      "---------------------------------------------------------------------------------------------\n",
      "Intercept                   455.9218    272.351      1.674      0.100       -90.591  1002.435\n",
      "Pop25over_LessThanHighSch     0.0171      0.007      2.290      0.026         0.002     0.032\n",
      "Pop25over_HighSchool          0.0045      0.013      0.345      0.731        -0.022     0.031\n",
      "Pop25over_SomeCollege         0.0105      0.016      0.646      0.521        -0.022     0.043\n",
      "Pop25over_Bachelor            0.0068      0.014      0.497      0.621        -0.021     0.034\n",
      "Pop25over_Master              0.0342      0.030      1.156      0.253        -0.025     0.094\n",
      "Pop25over_Doctorate          -0.0889      0.105     -0.848      0.400        -0.299     0.121\n",
      "==============================================================================\n",
      "Omnibus:                       11.881   Durbin-Watson:                   0.593\n",
      "Prob(Omnibus):                  0.003   Jarque-Bera (JB):               12.551\n",
      "Skew:                           0.917   Prob(JB):                      0.00188\n",
      "Kurtosis:                       4.321   Cond. No.                     2.16e+05\n",
      "==============================================================================\n",
      "\n",
      "Warnings:\n",
      "[1] Standard Errors assume that the covariance matrix of the errors is correctly specified.\n",
      "[2] The condition number is large, 2.16e+05. This might indicate that there are\n",
      "strong multicollinearity or other numerical problems.\n"
     ]
    }
   ],
   "source": [
    "#########################################\n",
    "## 1. Using numbers from df_merge directly   \n",
    "# leave out \"Pop25over_Professional\" to avoid multicoliearity\n",
    "lm_ce0 = smf.ols(formula='ComplaintCounts ~ \\\n",
    "                 Pop25over_LessThanHighSch + Pop25over_HighSchool \\\n",
    "                + Pop25over_SomeCollege + Pop25over_Bachelor \\\n",
    "                + Pop25over_Master + Pop25over_Doctorate', data=df_merge).fit()\n",
    "print(lm_ce0.summary())"
   ]
  },
  {
   "cell_type": "markdown",
   "metadata": {},
   "source": [
    "### F-statistic:  3.207, Prob (F-statistic):  0.00938\n",
    "### only the P-value for the coefficient of Pop25over_LessThanHighSch is less than 0.05;\n",
    "### The R squared and adjusted R squared values are small.\n",
    "### According to the model, the examined group of factors--education level of a community district-- might have statistically significant influence on the number of complaints. However, a more conconcrete conclusion can be made when a larger R-squared value could be received.\n",
    "### There might also be non-linear relationship which needs further analysis to prove.\n",
    "### The result might also be not accurate due to inaccurate data I used or processed. Therefore further investigation is necessary to ensure a better selection of data."
   ]
  },
  {
   "cell_type": "code",
   "execution_count": 82,
   "metadata": {
    "collapsed": true
   },
   "outputs": [],
   "source": [
    "#########################################\n",
    "## 2. Using normalized data (normalized by total polulation)"
   ]
  },
  {
   "cell_type": "code",
   "execution_count": 83,
   "metadata": {
    "collapsed": false
   },
   "outputs": [
    {
     "data": {
      "text/plain": [
       "1"
      ]
     },
     "execution_count": 83,
     "metadata": {},
     "output_type": "execute_result"
    }
   ],
   "source": [
    "# Check: if two things are equal, then Boolean operation (a == b) would return True\n",
    "# so if the product is 1, then all entries must be 1 (one False would cause the multiplication to yield 0)\n",
    "prod(df_merge.iloc[:,6:13].sum(axis = 1) == df_merge.PopOver25)\n"
   ]
  },
  {
   "cell_type": "code",
   "execution_count": 85,
   "metadata": {
    "collapsed": false
   },
   "outputs": [],
   "source": [
    "# Analyze\n",
    "df_ce = pd.concat([df_merge.ix[:,('cd_id','ComplaintCounts')],      \n",
    "        100*df_merge.iloc[:,6:13].div(df_merge['TotalPopulation'], axis = 0)],  # Compute the percentage, column-wise\n",
    "        axis = 1)  # Concatenate the Counts column with percentages, row-wise\n",
    "# I am NOT using PopOver25 to normalize because I want to use the percentage over total population"
   ]
  },
  {
   "cell_type": "code",
   "execution_count": 86,
   "metadata": {
    "collapsed": false
   },
   "outputs": [
    {
     "data": {
      "text/html": [
       "<div>\n",
       "<table border=\"1\" class=\"dataframe\">\n",
       "  <thead>\n",
       "    <tr style=\"text-align: right;\">\n",
       "      <th></th>\n",
       "      <th>cd_id</th>\n",
       "      <th>ComplaintCounts</th>\n",
       "      <th>Pop25over_LessThanHighSch</th>\n",
       "      <th>Pop25over_HighSchool</th>\n",
       "      <th>Pop25over_SomeCollege</th>\n",
       "      <th>Pop25over_Bachelor</th>\n",
       "      <th>Pop25over_Master</th>\n",
       "      <th>Pop25over_Professional</th>\n",
       "      <th>Pop25over_Doctorate</th>\n",
       "    </tr>\n",
       "  </thead>\n",
       "  <tbody>\n",
       "    <tr>\n",
       "      <th>51</th>\n",
       "      <td>BK13</td>\n",
       "      <td>736</td>\n",
       "      <td>15.208576</td>\n",
       "      <td>18.769586</td>\n",
       "      <td>14.429182</td>\n",
       "      <td>15.167936</td>\n",
       "      <td>5.396155</td>\n",
       "      <td>2.008544</td>\n",
       "      <td>0.339574</td>\n",
       "    </tr>\n",
       "    <tr>\n",
       "      <th>5</th>\n",
       "      <td>BX02</td>\n",
       "      <td>743</td>\n",
       "      <td>23.452410</td>\n",
       "      <td>16.124130</td>\n",
       "      <td>13.164460</td>\n",
       "      <td>3.825974</td>\n",
       "      <td>1.036812</td>\n",
       "      <td>0.042478</td>\n",
       "      <td>0.358367</td>\n",
       "    </tr>\n",
       "    <tr>\n",
       "      <th>56</th>\n",
       "      <td>BK16</td>\n",
       "      <td>850</td>\n",
       "      <td>14.729503</td>\n",
       "      <td>23.337265</td>\n",
       "      <td>15.315257</td>\n",
       "      <td>5.171606</td>\n",
       "      <td>1.797660</td>\n",
       "      <td>0.307824</td>\n",
       "      <td>0.147045</td>\n",
       "    </tr>\n",
       "    <tr>\n",
       "      <th>46</th>\n",
       "      <td>QN11</td>\n",
       "      <td>855</td>\n",
       "      <td>6.493603</td>\n",
       "      <td>15.818705</td>\n",
       "      <td>19.273364</td>\n",
       "      <td>18.734504</td>\n",
       "      <td>10.187114</td>\n",
       "      <td>1.687659</td>\n",
       "      <td>1.418229</td>\n",
       "    </tr>\n",
       "    <tr>\n",
       "      <th>0</th>\n",
       "      <td>BX01</td>\n",
       "      <td>876</td>\n",
       "      <td>23.452410</td>\n",
       "      <td>16.124130</td>\n",
       "      <td>13.164460</td>\n",
       "      <td>3.825974</td>\n",
       "      <td>1.036812</td>\n",
       "      <td>0.042478</td>\n",
       "      <td>0.358367</td>\n",
       "    </tr>\n",
       "  </tbody>\n",
       "</table>\n",
       "</div>"
      ],
      "text/plain": [
       "   cd_id  ComplaintCounts  Pop25over_LessThanHighSch  Pop25over_HighSchool  \\\n",
       "51  BK13              736                  15.208576             18.769586   \n",
       "5   BX02              743                  23.452410             16.124130   \n",
       "56  BK16              850                  14.729503             23.337265   \n",
       "46  QN11              855                   6.493603             15.818705   \n",
       "0   BX01              876                  23.452410             16.124130   \n",
       "\n",
       "    Pop25over_SomeCollege  Pop25over_Bachelor  Pop25over_Master  \\\n",
       "51              14.429182           15.167936          5.396155   \n",
       "5               13.164460            3.825974          1.036812   \n",
       "56              15.315257            5.171606          1.797660   \n",
       "46              19.273364           18.734504         10.187114   \n",
       "0               13.164460            3.825974          1.036812   \n",
       "\n",
       "    Pop25over_Professional  Pop25over_Doctorate  \n",
       "51                2.008544             0.339574  \n",
       "5                 0.042478             0.358367  \n",
       "56                0.307824             0.147045  \n",
       "46                1.687659             1.418229  \n",
       "0                 0.042478             0.358367  "
      ]
     },
     "execution_count": 86,
     "metadata": {},
     "output_type": "execute_result"
    }
   ],
   "source": [
    "df_ce.head()  # 59 rows"
   ]
  },
  {
   "cell_type": "code",
   "execution_count": 88,
   "metadata": {
    "collapsed": false
   },
   "outputs": [
    {
     "data": {
      "text/html": [
       "<div>\n",
       "<table border=\"1\" class=\"dataframe\">\n",
       "  <thead>\n",
       "    <tr style=\"text-align: right;\">\n",
       "      <th></th>\n",
       "      <th>cd_id</th>\n",
       "      <th>ComplaintCounts</th>\n",
       "      <th>Pop25over_LessThanHighSch</th>\n",
       "      <th>Pop25over_HighSchool</th>\n",
       "      <th>Pop25over_SomeCollege</th>\n",
       "      <th>Pop25over_Bachelor</th>\n",
       "      <th>Pop25over_Master</th>\n",
       "      <th>Pop25over_Professional</th>\n",
       "      <th>Pop25over_Doctorate</th>\n",
       "      <th>Undergrad</th>\n",
       "      <th>Graduate</th>\n",
       "      <th>UpToHS</th>\n",
       "    </tr>\n",
       "  </thead>\n",
       "  <tbody>\n",
       "    <tr>\n",
       "      <th>51</th>\n",
       "      <td>BK13</td>\n",
       "      <td>736</td>\n",
       "      <td>15.208576</td>\n",
       "      <td>18.769586</td>\n",
       "      <td>14.429182</td>\n",
       "      <td>15.167936</td>\n",
       "      <td>5.396155</td>\n",
       "      <td>2.008544</td>\n",
       "      <td>0.339574</td>\n",
       "      <td>29.597117</td>\n",
       "      <td>5.735728</td>\n",
       "      <td>33.978163</td>\n",
       "    </tr>\n",
       "    <tr>\n",
       "      <th>5</th>\n",
       "      <td>BX02</td>\n",
       "      <td>743</td>\n",
       "      <td>23.452410</td>\n",
       "      <td>16.124130</td>\n",
       "      <td>13.164460</td>\n",
       "      <td>3.825974</td>\n",
       "      <td>1.036812</td>\n",
       "      <td>0.042478</td>\n",
       "      <td>0.358367</td>\n",
       "      <td>16.990434</td>\n",
       "      <td>1.395179</td>\n",
       "      <td>39.576540</td>\n",
       "    </tr>\n",
       "    <tr>\n",
       "      <th>56</th>\n",
       "      <td>BK16</td>\n",
       "      <td>850</td>\n",
       "      <td>14.729503</td>\n",
       "      <td>23.337265</td>\n",
       "      <td>15.315257</td>\n",
       "      <td>5.171606</td>\n",
       "      <td>1.797660</td>\n",
       "      <td>0.307824</td>\n",
       "      <td>0.147045</td>\n",
       "      <td>20.486863</td>\n",
       "      <td>1.944705</td>\n",
       "      <td>38.066768</td>\n",
       "    </tr>\n",
       "    <tr>\n",
       "      <th>46</th>\n",
       "      <td>QN11</td>\n",
       "      <td>855</td>\n",
       "      <td>6.493603</td>\n",
       "      <td>15.818705</td>\n",
       "      <td>19.273364</td>\n",
       "      <td>18.734504</td>\n",
       "      <td>10.187114</td>\n",
       "      <td>1.687659</td>\n",
       "      <td>1.418229</td>\n",
       "      <td>38.007868</td>\n",
       "      <td>11.605342</td>\n",
       "      <td>22.312308</td>\n",
       "    </tr>\n",
       "    <tr>\n",
       "      <th>0</th>\n",
       "      <td>BX01</td>\n",
       "      <td>876</td>\n",
       "      <td>23.452410</td>\n",
       "      <td>16.124130</td>\n",
       "      <td>13.164460</td>\n",
       "      <td>3.825974</td>\n",
       "      <td>1.036812</td>\n",
       "      <td>0.042478</td>\n",
       "      <td>0.358367</td>\n",
       "      <td>16.990434</td>\n",
       "      <td>1.395179</td>\n",
       "      <td>39.576540</td>\n",
       "    </tr>\n",
       "  </tbody>\n",
       "</table>\n",
       "</div>"
      ],
      "text/plain": [
       "   cd_id  ComplaintCounts  Pop25over_LessThanHighSch  Pop25over_HighSchool  \\\n",
       "51  BK13              736                  15.208576             18.769586   \n",
       "5   BX02              743                  23.452410             16.124130   \n",
       "56  BK16              850                  14.729503             23.337265   \n",
       "46  QN11              855                   6.493603             15.818705   \n",
       "0   BX01              876                  23.452410             16.124130   \n",
       "\n",
       "    Pop25over_SomeCollege  Pop25over_Bachelor  Pop25over_Master  \\\n",
       "51              14.429182           15.167936          5.396155   \n",
       "5               13.164460            3.825974          1.036812   \n",
       "56              15.315257            5.171606          1.797660   \n",
       "46              19.273364           18.734504         10.187114   \n",
       "0               13.164460            3.825974          1.036812   \n",
       "\n",
       "    Pop25over_Professional  Pop25over_Doctorate  Undergrad   Graduate  \\\n",
       "51                2.008544             0.339574  29.597117   5.735728   \n",
       "5                 0.042478             0.358367  16.990434   1.395179   \n",
       "56                0.307824             0.147045  20.486863   1.944705   \n",
       "46                1.687659             1.418229  38.007868  11.605342   \n",
       "0                 0.042478             0.358367  16.990434   1.395179   \n",
       "\n",
       "       UpToHS  \n",
       "51  33.978163  \n",
       "5   39.576540  \n",
       "56  38.066768  \n",
       "46  22.312308  \n",
       "0   39.576540  "
      ]
     },
     "execution_count": 88,
     "metadata": {},
     "output_type": "execute_result"
    }
   ],
   "source": [
    "# Let's group a few categories together for model simplification and better demonstration.\n",
    "df_ce['Undergrad'] = df_ce['Pop25over_Bachelor'] + df_ce['Pop25over_SomeCollege']\n",
    "df_ce['Graduate'] = df_ce['Pop25over_Master'] + df_ce['Pop25over_Doctorate']\n",
    "df_ce['UpToHS'] = df_ce['Pop25over_LessThanHighSch'] + df_ce['Pop25over_HighSchool']\n",
    "# \"Professional School Degree category remains unchanged\n",
    "df_ce.head()"
   ]
  },
  {
   "cell_type": "code",
   "execution_count": 94,
   "metadata": {
    "collapsed": false
   },
   "outputs": [
    {
     "name": "stdout",
     "output_type": "stream",
     "text": [
      "                            OLS Regression Results                            \n",
      "==============================================================================\n",
      "Dep. Variable:        ComplaintCounts   R-squared:                       0.010\n",
      "Model:                            OLS   Adj. R-squared:                 -0.044\n",
      "Method:                 Least Squares   F-statistic:                    0.1854\n",
      "Date:                Mon, 07 Nov 2016   Prob (F-statistic):              0.906\n",
      "Time:                        11:22:11   Log-Likelihood:                -451.68\n",
      "No. Observations:                  59   AIC:                             911.4\n",
      "Df Residuals:                      55   BIC:                             919.7\n",
      "Df Model:                           3                                         \n",
      "Covariance Type:            nonrobust                                         \n",
      "==============================================================================\n",
      "                 coef    std err          t      P>|t|      [95.0% Conf. Int.]\n",
      "------------------------------------------------------------------------------\n",
      "Intercept    888.7515   1172.809      0.758      0.452     -1461.611  3239.114\n",
      "Undergrad      2.9839     18.654      0.160      0.873       -34.399    40.367\n",
      "Graduate      21.9143     34.870      0.628      0.532       -47.966    91.795\n",
      "UpToHS        13.7145     23.646      0.580      0.564       -33.673    61.102\n",
      "==============================================================================\n",
      "Omnibus:                       21.423   Durbin-Watson:                   0.113\n",
      "Prob(Omnibus):                  0.000   Jarque-Bera (JB):               39.425\n",
      "Skew:                           1.158   Prob(JB):                     2.75e-09\n",
      "Kurtosis:                       6.268   Cond. No.                         723.\n",
      "==============================================================================\n",
      "\n",
      "Warnings:\n",
      "[1] Standard Errors assume that the covariance matrix of the errors is correctly specified.\n"
     ]
    }
   ],
   "source": [
    "# run regression model\n",
    "# leave \"Population 25 Years and over: Professional school degree\" to avoid multicolinearity\n",
    "lm_ce = smf.ols(formula = 'ComplaintCounts ~ Undergrad + Graduate + UpToHS', data = df_ce).fit() \n",
    "print(lm_ce.summary())"
   ]
  },
  {
   "cell_type": "markdown",
   "metadata": {},
   "source": [
    "### F-statistic: 0.1854 and Prob (F-statistic): 0.906 \n",
    "### the P-value for each feature is not as small as 0.05;\n",
    "### and both R squared and adjusted R squared values are small,\n",
    "### The model summary indicates that the examined group of factors--education level of a community district-- might have no statistically significant influence on the number of complaints.\n",
    "### However, there might be non-linear relationship which needs further analysis to prove.\n",
    "### The result might also be not accurate due to inaccurate data I used or processed. Therefore further investigation is necessary to ensure a better selection of data."
   ]
  },
  {
   "cell_type": "code",
   "execution_count": 95,
   "metadata": {
    "collapsed": false
   },
   "outputs": [
    {
     "data": {
      "text/plain": [
       "<matplotlib.text.Text at 0x7fba09137c10>"
      ]
     },
     "execution_count": 95,
     "metadata": {},
     "output_type": "execute_result"
    },
    {
     "data": {
      "image/png": "[encoded data removed]",
      "text/plain": [
       "<matplotlib.figure.Figure at 0x7fba09155a50>"
      ]
     },
     "metadata": {},
     "output_type": "display_data"
    }
   ],
   "source": [
    "# Visualize the model predictions and the observations\n",
    "y_fit = lm_ce.predict(df_ce)   # Calculate the predicted value\n",
    "plt.figure(figsize = (6,4))\n",
    "plt.plot(y_fit,df_ce.ComplaintCounts,'or', markersize = 8) # Plot the observed value, linestyle = 'or', red dots\n",
    "plt.plot(y_fit,y_fit,'--b', linewidth = 1)                 # Plot the predicted value, blue dashed line\n",
    "\n",
    "# Plot setting\n",
    "plt.xlim(1400,1800)\n",
    "plt.ylim(500,2500)\n",
    "plt.xlabel('Prediction', fontsize = 16)\n",
    "plt.ylabel('Observation', fontsize = 16)"
   ]
  },
  {
   "cell_type": "markdown",
   "metadata": {},
   "source": [
    "### The plot above also shows that the relationship between number of complaints and the demographic factor(education level of population over age 25) is not obvious."
   ]
  },
  {
   "cell_type": "markdown",
   "metadata": {},
   "source": [
    "## Analysis 2. Complaint Counts v.s Network Infrastructure \n",
    "#### Refined Question: \n",
    "#### Does network and mobile accessibility of the community district households affect the number of complaints?\n",
    "#### Null Hypothesis: network and mobile accessibility does not affect the number of complaints\n",
    "H0: The coefficients of factors representing mobile, high internet and low internet accessibility is not significant:<br\\>\n",
    "w1 = w2 = w3 = .. = 0 \n",
    "\n",
    "H1 : At least one of the coefficients of the factors is significant: <br\\>\n",
    "w1, w2... or wn is not 0"
   ]
  },
  {
   "cell_type": "code",
   "execution_count": 96,
   "metadata": {
    "collapsed": false
   },
   "outputs": [
    {
     "data": {
      "text/html": [
       "<div>\n",
       "<table border=\"1\" class=\"dataframe\">\n",
       "  <thead>\n",
       "    <tr style=\"text-align: right;\">\n",
       "      <th></th>\n",
       "      <th>CommunityBoard</th>\n",
       "      <th>ComplaintCounts</th>\n",
       "      <th>cd_id</th>\n",
       "      <th>FIPS</th>\n",
       "      <th>TotalPopulation</th>\n",
       "      <th>PopulationDensity_perSqMile</th>\n",
       "      <th>Pop25over_LessThanHighSch</th>\n",
       "      <th>Pop25over_HighSchool</th>\n",
       "      <th>Pop25over_SomeCollege</th>\n",
       "      <th>Pop25over_Bachelor</th>\n",
       "      <th>Pop25over_Master</th>\n",
       "      <th>Pop25over_Professional</th>\n",
       "      <th>Pop25over_Doctorate</th>\n",
       "      <th>QualifyingName</th>\n",
       "      <th>hh_mobile</th>\n",
       "      <th>hh_no_mobile</th>\n",
       "      <th>hh_speed_internet</th>\n",
       "      <th>hh_low_internet_conn</th>\n",
       "      <th>PopOver25</th>\n",
       "    </tr>\n",
       "  </thead>\n",
       "  <tbody>\n",
       "    <tr>\n",
       "      <th>51</th>\n",
       "      <td>13 BROOKLYN</td>\n",
       "      <td>736</td>\n",
       "      <td>BK13</td>\n",
       "      <td>3604018</td>\n",
       "      <td>110727</td>\n",
       "      <td>32537.40922</td>\n",
       "      <td>16840</td>\n",
       "      <td>20783</td>\n",
       "      <td>15977</td>\n",
       "      <td>16795</td>\n",
       "      <td>5975</td>\n",
       "      <td>2224</td>\n",
       "      <td>376</td>\n",
       "      <td>NYC-Brooklyn Community District 13--Brighton B...</td>\n",
       "      <td>7779</td>\n",
       "      <td>3461</td>\n",
       "      <td>55226</td>\n",
       "      <td>29709</td>\n",
       "      <td>78970</td>\n",
       "    </tr>\n",
       "    <tr>\n",
       "      <th>5</th>\n",
       "      <td>02 BRONX</td>\n",
       "      <td>743</td>\n",
       "      <td>BX02</td>\n",
       "      <td>3603710</td>\n",
       "      <td>167147</td>\n",
       "      <td>34412.07524</td>\n",
       "      <td>39200</td>\n",
       "      <td>26951</td>\n",
       "      <td>22004</td>\n",
       "      <td>6395</td>\n",
       "      <td>1733</td>\n",
       "      <td>71</td>\n",
       "      <td>599</td>\n",
       "      <td>NYC-Bronx Community District 1 &amp; 2--Hunts Poin...</td>\n",
       "      <td>15981</td>\n",
       "      <td>5314</td>\n",
       "      <td>62669</td>\n",
       "      <td>35125</td>\n",
       "      <td>96953</td>\n",
       "    </tr>\n",
       "  </tbody>\n",
       "</table>\n",
       "</div>"
      ],
      "text/plain": [
       "   CommunityBoard  ComplaintCounts cd_id     FIPS  TotalPopulation  \\\n",
       "51    13 BROOKLYN              736  BK13  3604018           110727   \n",
       "5        02 BRONX              743  BX02  3603710           167147   \n",
       "\n",
       "    PopulationDensity_perSqMile  Pop25over_LessThanHighSch  \\\n",
       "51                  32537.40922                      16840   \n",
       "5                   34412.07524                      39200   \n",
       "\n",
       "    Pop25over_HighSchool  Pop25over_SomeCollege  Pop25over_Bachelor  \\\n",
       "51                 20783                  15977               16795   \n",
       "5                  26951                  22004                6395   \n",
       "\n",
       "    Pop25over_Master  Pop25over_Professional  Pop25over_Doctorate  \\\n",
       "51              5975                    2224                  376   \n",
       "5               1733                      71                  599   \n",
       "\n",
       "                                       QualifyingName  hh_mobile  \\\n",
       "51  NYC-Brooklyn Community District 13--Brighton B...       7779   \n",
       "5   NYC-Bronx Community District 1 & 2--Hunts Poin...      15981   \n",
       "\n",
       "    hh_no_mobile  hh_speed_internet  hh_low_internet_conn  PopOver25  \n",
       "51          3461              55226                 29709      78970  \n",
       "5           5314              62669                 35125      96953  "
      ]
     },
     "execution_count": 96,
     "metadata": {},
     "output_type": "execute_result"
    }
   ],
   "source": [
    "df_merge.head(2)"
   ]
  },
  {
   "cell_type": "code",
   "execution_count": 97,
   "metadata": {
    "collapsed": false
   },
   "outputs": [
    {
     "name": "stdout",
     "output_type": "stream",
     "text": [
      "                            OLS Regression Results                            \n",
      "==============================================================================\n",
      "Dep. Variable:        ComplaintCounts   R-squared:                       0.270\n",
      "Model:                            OLS   Adj. R-squared:                  0.231\n",
      "Method:                 Least Squares   F-statistic:                     6.795\n",
      "Date:                Mon, 07 Nov 2016   Prob (F-statistic):           0.000560\n",
      "Time:                        11:30:14   Log-Likelihood:                -442.67\n",
      "No. Observations:                  59   AIC:                             893.3\n",
      "Df Residuals:                      55   BIC:                             901.7\n",
      "Df Model:                           3                                         \n",
      "Covariance Type:            nonrobust                                         \n",
      "========================================================================================\n",
      "                           coef    std err          t      P>|t|      [95.0% Conf. Int.]\n",
      "----------------------------------------------------------------------------------------\n",
      "Intercept              325.9473    291.003      1.120      0.268      -257.235   909.130\n",
      "hh_mobile               -0.0301      0.014     -2.121      0.038        -0.059    -0.002\n",
      "hh_speed_internet       -0.0882      0.028     -3.180      0.002        -0.144    -0.033\n",
      "hh_low_internet_conn     0.2015      0.058      3.482      0.001         0.086     0.317\n",
      "==============================================================================\n",
      "Omnibus:                       20.526   Durbin-Watson:                   0.669\n",
      "Prob(Omnibus):                  0.000   Jarque-Bera (JB):               35.795\n",
      "Skew:                           1.135   Prob(JB):                     1.69e-08\n",
      "Kurtosis:                       6.067   Cond. No.                     5.17e+05\n",
      "==============================================================================\n",
      "\n",
      "Warnings:\n",
      "[1] Standard Errors assume that the covariance matrix of the errors is correctly specified.\n",
      "[2] The condition number is large, 5.17e+05. This might indicate that there are\n",
      "strong multicollinearity or other numerical problems.\n"
     ]
    }
   ],
   "source": [
    "#########################################\n",
    "## 1. Using numbers from df_merge directly\n",
    "\n",
    "lm_ci0 = smf.ols(formula='ComplaintCounts ~ hh_mobile + hh_speed_internet + hh_low_internet_conn', data=df_merge).fit()\n",
    "print(lm_ci0.summary())"
   ]
  },
  {
   "cell_type": "markdown",
   "metadata": {},
   "source": [
    "### F-statistic: 6.795 and Prob (F-statistic):  0.000560\n",
    "### the P-value for the coefficients of hh_mobile, hh_speed_internet and hh_low_internet_conn is less than 0.05;\n",
    "### However, the R squared and adjusted R squared values are small.\n",
    "### According to the model, the examined group of factors--household's mobile and internet network connectvity of the community district-- might have statistically significant influence on the number of complaints. However, a more conconcrete conclusion can be made when a larger R-squared value could be received.\n",
    "### There might also be non-linear relationship which needs further analysis to prove.\n",
    "### The result might also be not accurate due to inaccurate data I used or processed. Therefore further investigation is necessary to ensure a better selection of data."
   ]
  },
  {
   "cell_type": "code",
   "execution_count": 98,
   "metadata": {
    "collapsed": false
   },
   "outputs": [
    {
     "data": {
      "text/plain": [
       "<matplotlib.text.Text at 0x7fba07b789d0>"
      ]
     },
     "execution_count": 98,
     "metadata": {},
     "output_type": "execute_result"
    },
    {
     "data": {
      "image/png": "[encoded data removed]",
      "text/plain": [
       "<matplotlib.figure.Figure at 0x7fba091557d0>"
      ]
     },
     "metadata": {},
     "output_type": "display_data"
    }
   ],
   "source": [
    "y_fit = lm_ci0.predict(df_merge)   # Calculate the predicted value\n",
    "plt.figure(figsize = (6,6))\n",
    "plt.plot(y_fit,df_merge.ComplaintCounts,'or', markersize = 8) # Plot the observed value, linestyle = 'or', red dots\n",
    "plt.plot(y_fit,y_fit,'--b', linewidth = 1)                 # Plot the predicted value, blue dashed line\n",
    "\n",
    "# Plot setting\n",
    "#plt.xlim(1000,2000)\n",
    "#plt.ylim(500,2500)\n",
    "plt.xlabel('Prediction', fontsize = 16)\n",
    "plt.ylabel('Observation', fontsize = 16)"
   ]
  },
  {
   "cell_type": "markdown",
   "metadata": {},
   "source": [
    "###  The plot shows a possible trend of the actual observation. The model needs to be adjusted to better fit the data."
   ]
  },
  {
   "cell_type": "code",
   "execution_count": 99,
   "metadata": {
    "collapsed": true
   },
   "outputs": [],
   "source": [
    "#########################################\n",
    "## 2. Using normalized numbers of the factors (normalized over total population of the community district)"
   ]
  },
  {
   "cell_type": "code",
   "execution_count": 104,
   "metadata": {
    "collapsed": false
   },
   "outputs": [],
   "source": [
    "# Create a new data frame to normalize the owning of mobile and high speed internet (also the low internet connection)\n",
    "# Using Total Population to get the owning per capita\n",
    "df_ci = pd.concat([df_merge.ix[:,('cd_id','ComplaintCounts')],      \n",
    "        100*df_merge.iloc[:,-5:].div(df_merge['TotalPopulation'], axis = 0)],  # Compute the percentage, column-wise\n",
    "        axis = 1)"
   ]
  },
  {
   "cell_type": "code",
   "execution_count": 105,
   "metadata": {
    "collapsed": false
   },
   "outputs": [
    {
     "data": {
      "text/html": [
       "<div>\n",
       "<table border=\"1\" class=\"dataframe\">\n",
       "  <thead>\n",
       "    <tr style=\"text-align: right;\">\n",
       "      <th></th>\n",
       "      <th>cd_id</th>\n",
       "      <th>ComplaintCounts</th>\n",
       "      <th>hh_mobile</th>\n",
       "      <th>hh_no_mobile</th>\n",
       "      <th>hh_speed_internet</th>\n",
       "      <th>hh_low_internet_conn</th>\n",
       "      <th>PopOver25</th>\n",
       "    </tr>\n",
       "  </thead>\n",
       "  <tbody>\n",
       "    <tr>\n",
       "      <th>51</th>\n",
       "      <td>BK13</td>\n",
       "      <td>736</td>\n",
       "      <td>7.025387</td>\n",
       "      <td>3.125706</td>\n",
       "      <td>49.875821</td>\n",
       "      <td>26.830854</td>\n",
       "      <td>71.319552</td>\n",
       "    </tr>\n",
       "    <tr>\n",
       "      <th>5</th>\n",
       "      <td>BX02</td>\n",
       "      <td>743</td>\n",
       "      <td>9.561045</td>\n",
       "      <td>3.179237</td>\n",
       "      <td>37.493344</td>\n",
       "      <td>21.014436</td>\n",
       "      <td>58.004631</td>\n",
       "    </tr>\n",
       "    <tr>\n",
       "      <th>56</th>\n",
       "      <td>BK16</td>\n",
       "      <td>850</td>\n",
       "      <td>4.788644</td>\n",
       "      <td>1.871182</td>\n",
       "      <td>39.622855</td>\n",
       "      <td>22.208577</td>\n",
       "      <td>60.806160</td>\n",
       "    </tr>\n",
       "    <tr>\n",
       "      <th>46</th>\n",
       "      <td>QN11</td>\n",
       "      <td>855</td>\n",
       "      <td>13.389699</td>\n",
       "      <td>6.932461</td>\n",
       "      <td>61.028464</td>\n",
       "      <td>31.456412</td>\n",
       "      <td>73.613177</td>\n",
       "    </tr>\n",
       "  </tbody>\n",
       "</table>\n",
       "</div>"
      ],
      "text/plain": [
       "   cd_id  ComplaintCounts  hh_mobile  hh_no_mobile  hh_speed_internet  \\\n",
       "51  BK13              736   7.025387      3.125706          49.875821   \n",
       "5   BX02              743   9.561045      3.179237          37.493344   \n",
       "56  BK16              850   4.788644      1.871182          39.622855   \n",
       "46  QN11              855  13.389699      6.932461          61.028464   \n",
       "\n",
       "    hh_low_internet_conn  PopOver25  \n",
       "51             26.830854  71.319552  \n",
       "5              21.014436  58.004631  \n",
       "56             22.208577  60.806160  \n",
       "46             31.456412  73.613177  "
      ]
     },
     "execution_count": 105,
     "metadata": {},
     "output_type": "execute_result"
    }
   ],
   "source": [
    "df_ci.head(4)"
   ]
  },
  {
   "cell_type": "code",
   "execution_count": 106,
   "metadata": {
    "collapsed": false
   },
   "outputs": [
    {
     "name": "stdout",
     "output_type": "stream",
     "text": [
      "                            OLS Regression Results                            \n",
      "==============================================================================\n",
      "Dep. Variable:        ComplaintCounts   R-squared:                       0.024\n",
      "Model:                            OLS   Adj. R-squared:                 -0.030\n",
      "Method:                 Least Squares   F-statistic:                    0.4446\n",
      "Date:                Mon, 07 Nov 2016   Prob (F-statistic):              0.722\n",
      "Time:                        11:33:54   Log-Likelihood:                -451.27\n",
      "No. Observations:                  59   AIC:                             910.5\n",
      "Df Residuals:                      55   BIC:                             918.8\n",
      "Df Model:                           3                                         \n",
      "Covariance Type:            nonrobust                                         \n",
      "========================================================================================\n",
      "                           coef    std err          t      P>|t|      [95.0% Conf. Int.]\n",
      "----------------------------------------------------------------------------------------\n",
      "Intercept             1582.1515    435.032      3.637      0.001       710.328  2453.975\n",
      "hh_mobile               21.6652     28.797      0.752      0.455       -36.045    79.376\n",
      "hh_speed_internet      -20.6768     47.473     -0.436      0.665      -115.814    74.461\n",
      "hh_low_internet_conn    29.0482    102.608      0.283      0.778      -176.583   234.680\n",
      "==============================================================================\n",
      "Omnibus:                       21.324   Durbin-Watson:                   0.136\n",
      "Prob(Omnibus):                  0.000   Jarque-Bera (JB):               41.439\n",
      "Skew:                           1.119   Prob(JB):                     1.00e-09\n",
      "Kurtosis:                       6.442   Cond. No.                         429.\n",
      "==============================================================================\n",
      "\n",
      "Warnings:\n",
      "[1] Standard Errors assume that the covariance matrix of the errors is correctly specified.\n"
     ]
    }
   ],
   "source": [
    "# run regression model\n",
    "lm_ci = smf.ols(formula = 'ComplaintCounts ~ hh_mobile + hh_speed_internet + hh_low_internet_conn', data = df_ci).fit() \n",
    "print(lm_ci.summary())"
   ]
  },
  {
   "cell_type": "markdown",
   "metadata": {},
   "source": [
    "### F-statistic: 0.4446, Prob (F-statistic): 0.722 ;\n",
    "### the P-value for each feature is not as small as 0.05;\n",
    "### and both R squared and adjusted R squared values are small,\n",
    "### The model indicates that the examined group of factors--mobile and internet accessibility of the community district-- have no statistically significant influence on the number of complaints.\n",
    "### However, there might be non-linear relationship which needs further analysis to prove.\n",
    "### The result might also be not accurate due to inaccurate data I used or processed. Therefore further investigation is necessary to ensure a better selection of data."
   ]
  },
  {
   "cell_type": "code",
   "execution_count": 107,
   "metadata": {
    "collapsed": false
   },
   "outputs": [
    {
     "data": {
      "text/plain": [
       "<matplotlib.text.Text at 0x7fba07a13050>"
      ]
     },
     "execution_count": 107,
     "metadata": {},
     "output_type": "execute_result"
    },
    {
     "data": {
      "image/png": "[encoded data removed]",
      "text/plain": [
       "<matplotlib.figure.Figure at 0x7fba07a0b4d0>"
      ]
     },
     "metadata": {},
     "output_type": "display_data"
    }
   ],
   "source": [
    "y_fit = lm_ci.predict(df_ci)   # Calculate the predicted value\n",
    "plt.figure(figsize = (6,6))\n",
    "plt.plot(y_fit,df_ci.ComplaintCounts,'or', markersize = 8) # Plot the observed value, linestyle = 'or', red dots\n",
    "plt.plot(y_fit,y_fit,'--b', linewidth = 1)                 # Plot the predicted value, blue dashed line\n",
    "\n",
    "# Plot setting\n",
    "plt.xlim(1000,2000)\n",
    "plt.ylim(500,2500)\n",
    "plt.xlabel('Prediction', fontsize = 16)\n",
    "plt.ylabel('Observation', fontsize = 16)"
   ]
  },
  {
   "cell_type": "markdown",
   "metadata": {},
   "source": [
    "### The plot above also shows that the relationship between number of complaints and the factor--mobile and internet accessibility per capita of a community district--is not obvious."
   ]
  },
  {
   "cell_type": "markdown",
   "metadata": {
    "collapsed": true
   },
   "source": [
    "# 6. Future work\n",
    "\n",
    "### 1. Re-examine the data to make sure all the processes were accurate and find more statistically meaningful way to group the study attributes.\n",
    "### 2. Group the communities with the highest number of complaints; group those with the lowest number of compalints.\n",
    "### 3. Compare the demographic and infrastructure difference of these two groups using statistical tests such as KS test."
   ]
  },
  {
   "cell_type": "code",
   "execution_count": null,
   "metadata": {
    "collapsed": true
   },
   "outputs": [],
   "source": []
  }
 ],
 "metadata": {
  "celltoolbar": "Raw Cell Format",
  "kernelspec": {
   "display_name": "PUI2016_Python2",
   "language": "python",
   "name": "pui2016_python2"
  },
  "language_info": {
   "codemirror_mode": {
    "name": "ipython",
    "version": 2
   },
   "file_extension": ".py",
   "mimetype": "text/x-python",
   "name": "python",
   "nbconvert_exporter": "python",
   "pygments_lexer": "ipython2",
   "version": "2.7.12"
  }
 },
 "nbformat": 4,
 "nbformat_minor": 0
}
