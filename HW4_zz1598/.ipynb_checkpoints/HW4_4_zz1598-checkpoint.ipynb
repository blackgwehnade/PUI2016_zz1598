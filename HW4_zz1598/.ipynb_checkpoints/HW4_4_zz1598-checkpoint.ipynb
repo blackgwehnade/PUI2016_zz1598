{
 "cells": [
  {
   "cell_type": "markdown",
   "metadata": {
    "collapsed": true
   },
   "source": [
    "## HW4_zz1598\n",
    "# Assignment 4:\n",
    "    test if the distribution of ages is the same for \n",
    "    \n",
    "    1) male and female riders\n",
    "    \n",
    "    2) day and night riders\n",
    "    \n",
    "    use 3 tests: KS, Pearson's, Spearman's. \n",
    "    \n",
    "    For the KS do the test with the entire dataset and with a subset 200 times smaller\n",
    "    \n",
    "    Choose a significant threshold for the whole exrcise. \n",
    "    \n",
    "    For each test phrase the Null Hypothesis in words.\n",
    "    \n",
    "    Describe the return of the scipy function you use in each case.\n",
    "    \n",
    "    State the result in terms of rejection of the Null."
   ]
  },
  {
   "cell_type": "code",
   "execution_count": 226,
   "metadata": {
    "collapsed": false,
    "scrolled": true
   },
   "outputs": [
    {
     "name": "stdout",
     "output_type": "stream",
     "text": [
      "Populating the interactive namespace from numpy and matplotlib\n"
     ]
    },
    {
     "name": "stderr",
     "output_type": "stream",
     "text": [
      "/opt/rh/anaconda/root/envs/PUI2016_Python2/lib/python2.7/site-packages/IPython/core/magics/pylab.py:161: UserWarning: pylab import has clobbered these variables: ['test']\n",
      "`%matplotlib` prevents importing * from pylab and numpy\n",
      "  \"\\n`%matplotlib` prevents importing * from pylab and numpy\"\n"
     ]
    }
   ],
   "source": [
    "# my usual imports and setups\n",
    "import pylab as pl\n",
    "import pandas as pd\n",
    "import numpy as np\n",
    "import scipy.stats\n",
    "#from getCitiBikeCSV import getCitiBikeCSV  \n",
    "\n",
    "%pylab inline\n",
    "\n",
    "import os\n",
    "#this makes my plots pretty! but it is totally not mandatory to do it"
   ]
  },
  {
   "cell_type": "code",
   "execution_count": 227,
   "metadata": {
    "collapsed": true
   },
   "outputs": [],
   "source": [
    "def getCitiBikeCSV(datestring):\n",
    "    print(\"Try downloading...\", datestring)\n",
    "\n",
    "    #check if it is in the folder already\n",
    "    if not os.path.isfile(os.getenv('PUIDATA') + \"/\" + datestring + '-citibike-tripdata.csv'):\n",
    "        if not os.path.isfile(os.getenv('PUIDATA') + '/' + datestring + '-citibike-tripdata.zip'):\n",
    "            #if not exists, then download the zip file from website\n",
    "            os.system('curl -O https://s3.amazonaws.com/tripdata/'+ datestring + \"-citibike-tripdata.zip\")\n",
    "        # Move the file into PUIDATA directory\n",
    "        os.system('mv ' + datestring + '-citibike-tripdata.zip ' + os.getenv('PUIDATA'))\n",
    "        #unzip the file, and move from current dir to PUIDATA\n",
    "        os.system('unzip ' + os.getenv('PUIDATA') + '/' + datestring + '-citibike-tripdata.zip')\n",
    "        os.system('mv ' + datestring + '-citibike-tripdata.csv ' + os.getenv('PUIDATA'))\n",
    "    \n",
    "    if 201307 <= int(datestring) < 201409:\n",
    "        os.system(\"mv \" + datestring[:4] + '-' +  datestring[4:] + \n",
    "                \"\\ -\\ Citi\\ Bike\\ trip\\ data.csv \" + datestring + \"-citibike-tripdata.csv\")\n",
    "        os.system(\"mv \" + datestring + \"-citibike-tripdata.csv \" + os.getenv(\"PUIDATA\"))\n",
    "    elif int(datestring) < 201307:\n",
    "        print ('No data earlier than 201307')\n",
    "        \n",
    "    print (\"file in place, you can continue\")"
   ]
  },
  {
   "cell_type": "code",
   "execution_count": 228,
   "metadata": {
    "collapsed": false
   },
   "outputs": [
    {
     "name": "stdout",
     "output_type": "stream",
     "text": [
      "Enter datestring(i.e.201308): 201502\n",
      "('Try downloading...', '201502')\n",
      "file in place, you can continue\n"
     ]
    }
   ],
   "source": [
    "datestring = raw_input(\"Enter datestring(i.e.201308): \")\n",
    "getCitiBikeCSV(datestring)\n",
    "# We use 201512 data"
   ]
  },
  {
   "cell_type": "code",
   "execution_count": 229,
   "metadata": {
    "collapsed": false,
    "scrolled": true
   },
   "outputs": [
    {
     "data": {
      "text/html": [
       "<div>\n",
       "<table border=\"1\" class=\"dataframe\">\n",
       "  <thead>\n",
       "    <tr style=\"text-align: right;\">\n",
       "      <th></th>\n",
       "      <th>tripduration</th>\n",
       "      <th>starttime</th>\n",
       "      <th>stoptime</th>\n",
       "      <th>start station id</th>\n",
       "      <th>start station name</th>\n",
       "      <th>start station latitude</th>\n",
       "      <th>start station longitude</th>\n",
       "      <th>end station id</th>\n",
       "      <th>end station name</th>\n",
       "      <th>end station latitude</th>\n",
       "      <th>end station longitude</th>\n",
       "      <th>bikeid</th>\n",
       "      <th>usertype</th>\n",
       "      <th>birth year</th>\n",
       "      <th>gender</th>\n",
       "    </tr>\n",
       "  </thead>\n",
       "  <tbody>\n",
       "    <tr>\n",
       "      <th>0</th>\n",
       "      <td>801</td>\n",
       "      <td>2/1/2015 0:00</td>\n",
       "      <td>2/1/2015 0:14</td>\n",
       "      <td>521</td>\n",
       "      <td>8 Ave &amp; W 31 St</td>\n",
       "      <td>40.750450</td>\n",
       "      <td>-73.994811</td>\n",
       "      <td>423</td>\n",
       "      <td>W 54 St &amp; 9 Ave</td>\n",
       "      <td>40.765849</td>\n",
       "      <td>-73.986905</td>\n",
       "      <td>17131</td>\n",
       "      <td>Subscriber</td>\n",
       "      <td>1978.0</td>\n",
       "      <td>2</td>\n",
       "    </tr>\n",
       "    <tr>\n",
       "      <th>1</th>\n",
       "      <td>379</td>\n",
       "      <td>2/1/2015 0:00</td>\n",
       "      <td>2/1/2015 0:07</td>\n",
       "      <td>497</td>\n",
       "      <td>E 17 St &amp; Broadway</td>\n",
       "      <td>40.737050</td>\n",
       "      <td>-73.990093</td>\n",
       "      <td>504</td>\n",
       "      <td>1 Ave &amp; E 15 St</td>\n",
       "      <td>40.732219</td>\n",
       "      <td>-73.981656</td>\n",
       "      <td>21289</td>\n",
       "      <td>Subscriber</td>\n",
       "      <td>1993.0</td>\n",
       "      <td>1</td>\n",
       "    </tr>\n",
       "    <tr>\n",
       "      <th>2</th>\n",
       "      <td>2474</td>\n",
       "      <td>2/1/2015 0:01</td>\n",
       "      <td>2/1/2015 0:42</td>\n",
       "      <td>281</td>\n",
       "      <td>Grand Army Plaza &amp; Central Park S</td>\n",
       "      <td>40.764397</td>\n",
       "      <td>-73.973715</td>\n",
       "      <td>127</td>\n",
       "      <td>Barrow St &amp; Hudson St</td>\n",
       "      <td>40.731724</td>\n",
       "      <td>-74.006744</td>\n",
       "      <td>18903</td>\n",
       "      <td>Subscriber</td>\n",
       "      <td>1969.0</td>\n",
       "      <td>2</td>\n",
       "    </tr>\n",
       "    <tr>\n",
       "      <th>3</th>\n",
       "      <td>818</td>\n",
       "      <td>2/1/2015 0:01</td>\n",
       "      <td>2/1/2015 0:15</td>\n",
       "      <td>2004</td>\n",
       "      <td>6 Ave &amp; Broome St</td>\n",
       "      <td>40.724399</td>\n",
       "      <td>-74.004704</td>\n",
       "      <td>505</td>\n",
       "      <td>6 Ave &amp; W 33 St</td>\n",
       "      <td>40.749013</td>\n",
       "      <td>-73.988484</td>\n",
       "      <td>21044</td>\n",
       "      <td>Subscriber</td>\n",
       "      <td>1985.0</td>\n",
       "      <td>2</td>\n",
       "    </tr>\n",
       "    <tr>\n",
       "      <th>4</th>\n",
       "      <td>544</td>\n",
       "      <td>2/1/2015 0:01</td>\n",
       "      <td>2/1/2015 0:10</td>\n",
       "      <td>323</td>\n",
       "      <td>Lawrence St &amp; Willoughby St</td>\n",
       "      <td>40.692362</td>\n",
       "      <td>-73.986317</td>\n",
       "      <td>83</td>\n",
       "      <td>Atlantic Ave &amp; Fort Greene Pl</td>\n",
       "      <td>40.683826</td>\n",
       "      <td>-73.976323</td>\n",
       "      <td>19868</td>\n",
       "      <td>Subscriber</td>\n",
       "      <td>1957.0</td>\n",
       "      <td>1</td>\n",
       "    </tr>\n",
       "  </tbody>\n",
       "</table>\n",
       "</div>"
      ],
      "text/plain": [
       "   tripduration      starttime       stoptime  start station id  \\\n",
       "0           801  2/1/2015 0:00  2/1/2015 0:14               521   \n",
       "1           379  2/1/2015 0:00  2/1/2015 0:07               497   \n",
       "2          2474  2/1/2015 0:01  2/1/2015 0:42               281   \n",
       "3           818  2/1/2015 0:01  2/1/2015 0:15              2004   \n",
       "4           544  2/1/2015 0:01  2/1/2015 0:10               323   \n",
       "\n",
       "                  start station name  start station latitude  \\\n",
       "0                    8 Ave & W 31 St               40.750450   \n",
       "1                 E 17 St & Broadway               40.737050   \n",
       "2  Grand Army Plaza & Central Park S               40.764397   \n",
       "3                  6 Ave & Broome St               40.724399   \n",
       "4        Lawrence St & Willoughby St               40.692362   \n",
       "\n",
       "   start station longitude  end station id               end station name  \\\n",
       "0               -73.994811             423                W 54 St & 9 Ave   \n",
       "1               -73.990093             504                1 Ave & E 15 St   \n",
       "2               -73.973715             127          Barrow St & Hudson St   \n",
       "3               -74.004704             505                6 Ave & W 33 St   \n",
       "4               -73.986317              83  Atlantic Ave & Fort Greene Pl   \n",
       "\n",
       "   end station latitude  end station longitude  bikeid    usertype  \\\n",
       "0             40.765849             -73.986905   17131  Subscriber   \n",
       "1             40.732219             -73.981656   21289  Subscriber   \n",
       "2             40.731724             -74.006744   18903  Subscriber   \n",
       "3             40.749013             -73.988484   21044  Subscriber   \n",
       "4             40.683826             -73.976323   19868  Subscriber   \n",
       "\n",
       "   birth year  gender  \n",
       "0      1978.0       2  \n",
       "1      1993.0       1  \n",
       "2      1969.0       2  \n",
       "3      1985.0       2  \n",
       "4      1957.0       1  "
      ]
     },
     "execution_count": 229,
     "metadata": {},
     "output_type": "execute_result"
    }
   ],
   "source": [
    "df = pd.read_csv(os.getenv(\"PUIDATA\") + \"/\" + datestring + '-citibike-tripdata.csv')\n",
    "df.head()"
   ]
  },
  {
   "cell_type": "code",
   "execution_count": 230,
   "metadata": {
    "collapsed": false
   },
   "outputs": [
    {
     "data": {
      "text/html": [
       "<div>\n",
       "<table border=\"1\" class=\"dataframe\">\n",
       "  <thead>\n",
       "    <tr style=\"text-align: right;\">\n",
       "      <th></th>\n",
       "      <th>tripduration</th>\n",
       "      <th>starttime</th>\n",
       "      <th>stoptime</th>\n",
       "      <th>start station id</th>\n",
       "      <th>start station name</th>\n",
       "      <th>start station latitude</th>\n",
       "      <th>start station longitude</th>\n",
       "      <th>end station id</th>\n",
       "      <th>end station name</th>\n",
       "      <th>end station latitude</th>\n",
       "      <th>end station longitude</th>\n",
       "      <th>bikeid</th>\n",
       "      <th>usertype</th>\n",
       "      <th>birth year</th>\n",
       "      <th>gender</th>\n",
       "      <th>date</th>\n",
       "    </tr>\n",
       "  </thead>\n",
       "  <tbody>\n",
       "    <tr>\n",
       "      <th>0</th>\n",
       "      <td>801</td>\n",
       "      <td>2/1/2015 0:00</td>\n",
       "      <td>2/1/2015 0:14</td>\n",
       "      <td>521</td>\n",
       "      <td>8 Ave &amp; W 31 St</td>\n",
       "      <td>40.750450</td>\n",
       "      <td>-73.994811</td>\n",
       "      <td>423</td>\n",
       "      <td>W 54 St &amp; 9 Ave</td>\n",
       "      <td>40.765849</td>\n",
       "      <td>-73.986905</td>\n",
       "      <td>17131</td>\n",
       "      <td>Subscriber</td>\n",
       "      <td>1978.0</td>\n",
       "      <td>2</td>\n",
       "      <td>2015-02-01 00:00:00</td>\n",
       "    </tr>\n",
       "    <tr>\n",
       "      <th>1</th>\n",
       "      <td>379</td>\n",
       "      <td>2/1/2015 0:00</td>\n",
       "      <td>2/1/2015 0:07</td>\n",
       "      <td>497</td>\n",
       "      <td>E 17 St &amp; Broadway</td>\n",
       "      <td>40.737050</td>\n",
       "      <td>-73.990093</td>\n",
       "      <td>504</td>\n",
       "      <td>1 Ave &amp; E 15 St</td>\n",
       "      <td>40.732219</td>\n",
       "      <td>-73.981656</td>\n",
       "      <td>21289</td>\n",
       "      <td>Subscriber</td>\n",
       "      <td>1993.0</td>\n",
       "      <td>1</td>\n",
       "      <td>2015-02-01 00:00:00</td>\n",
       "    </tr>\n",
       "    <tr>\n",
       "      <th>2</th>\n",
       "      <td>2474</td>\n",
       "      <td>2/1/2015 0:01</td>\n",
       "      <td>2/1/2015 0:42</td>\n",
       "      <td>281</td>\n",
       "      <td>Grand Army Plaza &amp; Central Park S</td>\n",
       "      <td>40.764397</td>\n",
       "      <td>-73.973715</td>\n",
       "      <td>127</td>\n",
       "      <td>Barrow St &amp; Hudson St</td>\n",
       "      <td>40.731724</td>\n",
       "      <td>-74.006744</td>\n",
       "      <td>18903</td>\n",
       "      <td>Subscriber</td>\n",
       "      <td>1969.0</td>\n",
       "      <td>2</td>\n",
       "      <td>2015-02-01 00:01:00</td>\n",
       "    </tr>\n",
       "    <tr>\n",
       "      <th>3</th>\n",
       "      <td>818</td>\n",
       "      <td>2/1/2015 0:01</td>\n",
       "      <td>2/1/2015 0:15</td>\n",
       "      <td>2004</td>\n",
       "      <td>6 Ave &amp; Broome St</td>\n",
       "      <td>40.724399</td>\n",
       "      <td>-74.004704</td>\n",
       "      <td>505</td>\n",
       "      <td>6 Ave &amp; W 33 St</td>\n",
       "      <td>40.749013</td>\n",
       "      <td>-73.988484</td>\n",
       "      <td>21044</td>\n",
       "      <td>Subscriber</td>\n",
       "      <td>1985.0</td>\n",
       "      <td>2</td>\n",
       "      <td>2015-02-01 00:01:00</td>\n",
       "    </tr>\n",
       "    <tr>\n",
       "      <th>4</th>\n",
       "      <td>544</td>\n",
       "      <td>2/1/2015 0:01</td>\n",
       "      <td>2/1/2015 0:10</td>\n",
       "      <td>323</td>\n",
       "      <td>Lawrence St &amp; Willoughby St</td>\n",
       "      <td>40.692362</td>\n",
       "      <td>-73.986317</td>\n",
       "      <td>83</td>\n",
       "      <td>Atlantic Ave &amp; Fort Greene Pl</td>\n",
       "      <td>40.683826</td>\n",
       "      <td>-73.976323</td>\n",
       "      <td>19868</td>\n",
       "      <td>Subscriber</td>\n",
       "      <td>1957.0</td>\n",
       "      <td>1</td>\n",
       "      <td>2015-02-01 00:01:00</td>\n",
       "    </tr>\n",
       "  </tbody>\n",
       "</table>\n",
       "</div>"
      ],
      "text/plain": [
       "   tripduration      starttime       stoptime  start station id  \\\n",
       "0           801  2/1/2015 0:00  2/1/2015 0:14               521   \n",
       "1           379  2/1/2015 0:00  2/1/2015 0:07               497   \n",
       "2          2474  2/1/2015 0:01  2/1/2015 0:42               281   \n",
       "3           818  2/1/2015 0:01  2/1/2015 0:15              2004   \n",
       "4           544  2/1/2015 0:01  2/1/2015 0:10               323   \n",
       "\n",
       "                  start station name  start station latitude  \\\n",
       "0                    8 Ave & W 31 St               40.750450   \n",
       "1                 E 17 St & Broadway               40.737050   \n",
       "2  Grand Army Plaza & Central Park S               40.764397   \n",
       "3                  6 Ave & Broome St               40.724399   \n",
       "4        Lawrence St & Willoughby St               40.692362   \n",
       "\n",
       "   start station longitude  end station id               end station name  \\\n",
       "0               -73.994811             423                W 54 St & 9 Ave   \n",
       "1               -73.990093             504                1 Ave & E 15 St   \n",
       "2               -73.973715             127          Barrow St & Hudson St   \n",
       "3               -74.004704             505                6 Ave & W 33 St   \n",
       "4               -73.986317              83  Atlantic Ave & Fort Greene Pl   \n",
       "\n",
       "   end station latitude  end station longitude  bikeid    usertype  \\\n",
       "0             40.765849             -73.986905   17131  Subscriber   \n",
       "1             40.732219             -73.981656   21289  Subscriber   \n",
       "2             40.731724             -74.006744   18903  Subscriber   \n",
       "3             40.749013             -73.988484   21044  Subscriber   \n",
       "4             40.683826             -73.976323   19868  Subscriber   \n",
       "\n",
       "   birth year  gender                date  \n",
       "0      1978.0       2 2015-02-01 00:00:00  \n",
       "1      1993.0       1 2015-02-01 00:00:00  \n",
       "2      1969.0       2 2015-02-01 00:01:00  \n",
       "3      1985.0       2 2015-02-01 00:01:00  \n",
       "4      1957.0       1 2015-02-01 00:01:00  "
      ]
     },
     "execution_count": 230,
     "metadata": {},
     "output_type": "execute_result"
    }
   ],
   "source": [
    "df['date'] = pd.to_datetime(df['starttime']) \n",
    "df.head()"
   ]
  },
  {
   "cell_type": "code",
   "execution_count": 231,
   "metadata": {
    "collapsed": false
   },
   "outputs": [
    {
     "data": {
      "text/plain": [
       "Index([u'tripduration', u'starttime', u'stoptime', u'start station id',\n",
       "       u'start station name', u'start station latitude',\n",
       "       u'start station longitude', u'end station id', u'end station name',\n",
       "       u'end station latitude', u'end station longitude', u'bikeid',\n",
       "       u'usertype', u'birth year', u'gender', u'date'],\n",
       "      dtype='object')"
      ]
     },
     "execution_count": 231,
     "metadata": {},
     "output_type": "execute_result"
    }
   ],
   "source": [
    "df.columns"
   ]
  },
  {
   "cell_type": "markdown",
   "metadata": {},
   "source": [
    "# BY GENDER\n",
    "splitting data by gender and extracting the age happens in the cell below"
   ]
  },
  {
   "cell_type": "code",
   "execution_count": 232,
   "metadata": {
    "collapsed": true
   },
   "outputs": [],
   "source": [
    "#df is the dataframe where the content of the csv file is stored\n",
    "df['ageM'] = 2015 - df['birth year'][(df['usertype'] == 'Subscriber') & (df['gender'] == 1)]\n",
    "df['ageF'] = 2015 - df['birth year'][(df['usertype'] == 'Subscriber') & (df['gender'] == 2)]"
   ]
  },
  {
   "cell_type": "code",
   "execution_count": 233,
   "metadata": {
    "collapsed": true
   },
   "outputs": [],
   "source": [
    "#create df2 with selected attributes  (possibly worke????)\n",
    "#df2 = pd.DataFrame(df.gender,df.ageM,df.ageF)\n",
    "#df2.head()"
   ]
  },
  {
   "cell_type": "code",
   "execution_count": 234,
   "metadata": {
    "collapsed": false
   },
   "outputs": [
    {
     "data": {
      "text/html": [
       "<div>\n",
       "<table border=\"1\" class=\"dataframe\">\n",
       "  <thead>\n",
       "    <tr style=\"text-align: right;\">\n",
       "      <th></th>\n",
       "      <th>starttime</th>\n",
       "      <th>date</th>\n",
       "      <th>birth year</th>\n",
       "      <th>gender</th>\n",
       "      <th>ageM</th>\n",
       "      <th>ageF</th>\n",
       "    </tr>\n",
       "  </thead>\n",
       "  <tbody>\n",
       "    <tr>\n",
       "      <th>0</th>\n",
       "      <td>2/1/2015 0:00</td>\n",
       "      <td>2015-02-01 00:00:00</td>\n",
       "      <td>1978.0</td>\n",
       "      <td>2</td>\n",
       "      <td>NaN</td>\n",
       "      <td>37.0</td>\n",
       "    </tr>\n",
       "    <tr>\n",
       "      <th>1</th>\n",
       "      <td>2/1/2015 0:00</td>\n",
       "      <td>2015-02-01 00:00:00</td>\n",
       "      <td>1993.0</td>\n",
       "      <td>1</td>\n",
       "      <td>22.0</td>\n",
       "      <td>NaN</td>\n",
       "    </tr>\n",
       "    <tr>\n",
       "      <th>2</th>\n",
       "      <td>2/1/2015 0:01</td>\n",
       "      <td>2015-02-01 00:01:00</td>\n",
       "      <td>1969.0</td>\n",
       "      <td>2</td>\n",
       "      <td>NaN</td>\n",
       "      <td>46.0</td>\n",
       "    </tr>\n",
       "    <tr>\n",
       "      <th>3</th>\n",
       "      <td>2/1/2015 0:01</td>\n",
       "      <td>2015-02-01 00:01:00</td>\n",
       "      <td>1985.0</td>\n",
       "      <td>2</td>\n",
       "      <td>NaN</td>\n",
       "      <td>30.0</td>\n",
       "    </tr>\n",
       "    <tr>\n",
       "      <th>4</th>\n",
       "      <td>2/1/2015 0:01</td>\n",
       "      <td>2015-02-01 00:01:00</td>\n",
       "      <td>1957.0</td>\n",
       "      <td>1</td>\n",
       "      <td>58.0</td>\n",
       "      <td>NaN</td>\n",
       "    </tr>\n",
       "  </tbody>\n",
       "</table>\n",
       "</div>"
      ],
      "text/plain": [
       "       starttime                date  birth year  gender  ageM  ageF\n",
       "0  2/1/2015 0:00 2015-02-01 00:00:00      1978.0       2   NaN  37.0\n",
       "1  2/1/2015 0:00 2015-02-01 00:00:00      1993.0       1  22.0   NaN\n",
       "2  2/1/2015 0:01 2015-02-01 00:01:00      1969.0       2   NaN  46.0\n",
       "3  2/1/2015 0:01 2015-02-01 00:01:00      1985.0       2   NaN  30.0\n",
       "4  2/1/2015 0:01 2015-02-01 00:01:00      1957.0       1  58.0   NaN"
      ]
     },
     "execution_count": 234,
     "metadata": {},
     "output_type": "execute_result"
    }
   ],
   "source": [
    "#create df2 with selected attributes\n",
    "df2 = df.loc[:,('starttime','date','birth year','gender','ageM', 'ageF')]\n",
    "df2.head()"
   ]
  },
  {
   "cell_type": "code",
   "execution_count": 235,
   "metadata": {
    "collapsed": false,
    "scrolled": true
   },
   "outputs": [
    {
     "data": {
      "text/html": [
       "<div>\n",
       "<table border=\"1\" class=\"dataframe\">\n",
       "  <thead>\n",
       "    <tr style=\"text-align: right;\">\n",
       "      <th></th>\n",
       "      <th>birth year</th>\n",
       "      <th>gender</th>\n",
       "      <th>ageM</th>\n",
       "      <th>ageF</th>\n",
       "    </tr>\n",
       "  </thead>\n",
       "  <tbody>\n",
       "    <tr>\n",
       "      <th>count</th>\n",
       "      <td>194663.000000</td>\n",
       "      <td>196930.000000</td>\n",
       "      <td>161561.000000</td>\n",
       "      <td>33064.000000</td>\n",
       "    </tr>\n",
       "    <tr>\n",
       "      <th>mean</th>\n",
       "      <td>1975.288031</td>\n",
       "      <td>1.156203</td>\n",
       "      <td>39.915171</td>\n",
       "      <td>38.738326</td>\n",
       "    </tr>\n",
       "    <tr>\n",
       "      <th>std</th>\n",
       "      <td>11.734009</td>\n",
       "      <td>0.393946</td>\n",
       "      <td>11.755518</td>\n",
       "      <td>11.571452</td>\n",
       "    </tr>\n",
       "    <tr>\n",
       "      <th>min</th>\n",
       "      <td>1899.000000</td>\n",
       "      <td>0.000000</td>\n",
       "      <td>16.000000</td>\n",
       "      <td>17.000000</td>\n",
       "    </tr>\n",
       "    <tr>\n",
       "      <th>25%</th>\n",
       "      <td>NaN</td>\n",
       "      <td>1.000000</td>\n",
       "      <td>NaN</td>\n",
       "      <td>NaN</td>\n",
       "    </tr>\n",
       "    <tr>\n",
       "      <th>50%</th>\n",
       "      <td>NaN</td>\n",
       "      <td>1.000000</td>\n",
       "      <td>NaN</td>\n",
       "      <td>NaN</td>\n",
       "    </tr>\n",
       "    <tr>\n",
       "      <th>75%</th>\n",
       "      <td>NaN</td>\n",
       "      <td>1.000000</td>\n",
       "      <td>NaN</td>\n",
       "      <td>NaN</td>\n",
       "    </tr>\n",
       "    <tr>\n",
       "      <th>max</th>\n",
       "      <td>1999.000000</td>\n",
       "      <td>2.000000</td>\n",
       "      <td>116.000000</td>\n",
       "      <td>115.000000</td>\n",
       "    </tr>\n",
       "  </tbody>\n",
       "</table>\n",
       "</div>"
      ],
      "text/plain": [
       "          birth year         gender           ageM          ageF\n",
       "count  194663.000000  196930.000000  161561.000000  33064.000000\n",
       "mean     1975.288031       1.156203      39.915171     38.738326\n",
       "std        11.734009       0.393946      11.755518     11.571452\n",
       "min      1899.000000       0.000000      16.000000     17.000000\n",
       "25%              NaN       1.000000            NaN           NaN\n",
       "50%              NaN       1.000000            NaN           NaN\n",
       "75%              NaN       1.000000            NaN           NaN\n",
       "max      1999.000000       2.000000     116.000000    115.000000"
      ]
     },
     "execution_count": 235,
     "metadata": {},
     "output_type": "execute_result"
    }
   ],
   "source": [
    "df2.describe()"
   ]
  },
  {
   "cell_type": "code",
   "execution_count": 236,
   "metadata": {
    "collapsed": false
   },
   "outputs": [
    {
     "data": {
      "text/html": [
       "<div>\n",
       "<table border=\"1\" class=\"dataframe\">\n",
       "  <thead>\n",
       "    <tr style=\"text-align: right;\">\n",
       "      <th></th>\n",
       "      <th>starttime</th>\n",
       "      <th>date</th>\n",
       "      <th>birth year</th>\n",
       "      <th>gender</th>\n",
       "      <th>ageM</th>\n",
       "      <th>ageF</th>\n",
       "    </tr>\n",
       "  </thead>\n",
       "  <tbody>\n",
       "    <tr>\n",
       "      <th>0</th>\n",
       "      <td>2/1/2015 0:00</td>\n",
       "      <td>2015-02-01 00:00:00</td>\n",
       "      <td>1978.0</td>\n",
       "      <td>2</td>\n",
       "      <td>NaN</td>\n",
       "      <td>37.0</td>\n",
       "    </tr>\n",
       "    <tr>\n",
       "      <th>1</th>\n",
       "      <td>2/1/2015 0:00</td>\n",
       "      <td>2015-02-01 00:00:00</td>\n",
       "      <td>1993.0</td>\n",
       "      <td>1</td>\n",
       "      <td>22.0</td>\n",
       "      <td>NaN</td>\n",
       "    </tr>\n",
       "    <tr>\n",
       "      <th>2</th>\n",
       "      <td>2/1/2015 0:01</td>\n",
       "      <td>2015-02-01 00:01:00</td>\n",
       "      <td>1969.0</td>\n",
       "      <td>2</td>\n",
       "      <td>NaN</td>\n",
       "      <td>46.0</td>\n",
       "    </tr>\n",
       "    <tr>\n",
       "      <th>3</th>\n",
       "      <td>2/1/2015 0:01</td>\n",
       "      <td>2015-02-01 00:01:00</td>\n",
       "      <td>1985.0</td>\n",
       "      <td>2</td>\n",
       "      <td>NaN</td>\n",
       "      <td>30.0</td>\n",
       "    </tr>\n",
       "    <tr>\n",
       "      <th>4</th>\n",
       "      <td>2/1/2015 0:01</td>\n",
       "      <td>2015-02-01 00:01:00</td>\n",
       "      <td>1957.0</td>\n",
       "      <td>1</td>\n",
       "      <td>58.0</td>\n",
       "      <td>NaN</td>\n",
       "    </tr>\n",
       "  </tbody>\n",
       "</table>\n",
       "</div>"
      ],
      "text/plain": [
       "       starttime                date  birth year  gender  ageM  ageF\n",
       "0  2/1/2015 0:00 2015-02-01 00:00:00      1978.0       2   NaN  37.0\n",
       "1  2/1/2015 0:00 2015-02-01 00:00:00      1993.0       1  22.0   NaN\n",
       "2  2/1/2015 0:01 2015-02-01 00:01:00      1969.0       2   NaN  46.0\n",
       "3  2/1/2015 0:01 2015-02-01 00:01:00      1985.0       2   NaN  30.0\n",
       "4  2/1/2015 0:01 2015-02-01 00:01:00      1957.0       1  58.0   NaN"
      ]
     },
     "execution_count": 236,
     "metadata": {},
     "output_type": "execute_result"
    }
   ],
   "source": [
    "# dropping NaN values\n",
    "df2['ageM'].dropna(inplace= True)\n",
    "df2['ageF'].dropna(inplace= True)\n",
    "df2.head()"
   ]
  },
  {
   "cell_type": "markdown",
   "metadata": {},
   "source": [
    "# Figure 1: histogrammed distribution of riders' ages by gender"
   ]
  },
  {
   "cell_type": "markdown",
   "metadata": {},
   "source": [
    "lets split age in 10 year bins. the dataset is very large, so i could be split in smaller bins, but I will chose 10 years in the interest of time. \n",
    "the bin size choice should be a balance between properly sample the age space, have enough counts in each bin that the statistical noise is not significant (remember that is > sqrt(N)!) and the computational requirement to computatinal facilities ratio. "
   ]
  },
  {
   "cell_type": "markdown",
   "metadata": {},
   "source": [
    "the next several steps are needed if you want to code up the KS test from scratch. that is for extra credit, so if you do not want to do it you may not need to plot split the distribution in bins and create the cumulative HOWEVER it is a great idea to do it anyways to explore your data viaually! remember Ascombe's quartet!!"
   ]
  },
  {
   "cell_type": "code",
   "execution_count": 237,
   "metadata": {
    "collapsed": false
   },
   "outputs": [
    {
     "data": {
      "text/plain": [
       "<matplotlib.text.Text at 0x7f8e380adc10>"
      ]
     },
     "execution_count": 237,
     "metadata": {},
     "output_type": "execute_result"
    },
    {
     "data": {
      "image/png": "[encoded data removed]",
      "text/plain": [
       "<matplotlib.figure.Figure at 0x7f8e38904410>"
      ]
     },
     "metadata": {},
     "output_type": "display_data"
    },
    {
     "data": {
      "image/png": "[encoded data removed]",
      "text/plain": [
       "<matplotlib.figure.Figure at 0x7f8e36f7fc90>"
      ]
     },
     "metadata": {},
     "output_type": "display_data"
    }
   ],
   "source": [
    "# plotting histograms with pandas\n",
    "bins = np.arange(10, 99, 5)\n",
    "axM = df2.ageM.groupby(pd.cut(df2.ageM, bins)).agg([count_nonzero]).plot(kind='bar', legend=False)\n",
    "axM.set_title(\"Figure1a- male riders\", fontsize=15)\n",
    "\n",
    "axF = df2.ageF.groupby(pd.cut(df2.ageF, bins)).agg([count_nonzero]).plot(kind='bar', legend=False)\n",
    "axF.set_title(\"Figure1b- female riders\", fontsize=15)\n"
   ]
  },
  {
   "cell_type": "markdown",
   "metadata": {},
   "source": [
    "# Figure 2: the cumulative distribution of CitiBike riders' ages by gender"
   ]
  },
  {
   "cell_type": "markdown",
   "metadata": {},
   "source": [
    "this is how the cumulative distributions look like.  Notice that i am normalizing them! if i want to reat an observed distribution like a probablility distribution i have to normalize it"
   ]
  },
  {
   "cell_type": "code",
   "execution_count": 238,
   "metadata": {
    "collapsed": false
   },
   "outputs": [
    {
     "name": "stdout",
     "output_type": "stream",
     "text": [
      "1         22.0\n",
      "4         58.0\n",
      "5         36.0\n",
      "6         32.0\n",
      "7         60.0\n",
      "9         33.0\n",
      "14        38.0\n",
      "15        47.0\n",
      "16        25.0\n",
      "17        28.0\n",
      "18        35.0\n",
      "19        55.0\n",
      "20        29.0\n",
      "21        28.0\n",
      "22        46.0\n",
      "23        58.0\n",
      "24        34.0\n",
      "25        22.0\n",
      "26        40.0\n",
      "27        42.0\n",
      "29        38.0\n",
      "30        34.0\n",
      "31        24.0\n",
      "32        35.0\n",
      "33        44.0\n",
      "34        31.0\n",
      "35        20.0\n",
      "37        47.0\n",
      "38        22.0\n",
      "39        49.0\n",
      "          ... \n",
      "196892    27.0\n",
      "196893    61.0\n",
      "196896    34.0\n",
      "196897    33.0\n",
      "196898    49.0\n",
      "196899    23.0\n",
      "196900    30.0\n",
      "196901    24.0\n",
      "196903    27.0\n",
      "196904    27.0\n",
      "196905    32.0\n",
      "196906    51.0\n",
      "196907    20.0\n",
      "196908    34.0\n",
      "196909    50.0\n",
      "196912    33.0\n",
      "196913    58.0\n",
      "196914    60.0\n",
      "196915    32.0\n",
      "196916    39.0\n",
      "196917    38.0\n",
      "196918    32.0\n",
      "196919    40.0\n",
      "196920    43.0\n",
      "196921    35.0\n",
      "196923    55.0\n",
      "196924    25.0\n",
      "196925    25.0\n",
      "196926    44.0\n",
      "196927    30.0\n",
      "Name: ageM, dtype: float64 1              22.0\n",
      "4              80.0\n",
      "5             116.0\n",
      "6             148.0\n",
      "7             208.0\n",
      "9             241.0\n",
      "14            279.0\n",
      "15            326.0\n",
      "16            351.0\n",
      "17            379.0\n",
      "18            414.0\n",
      "19            469.0\n",
      "20            498.0\n",
      "21            526.0\n",
      "22            572.0\n",
      "23            630.0\n",
      "24            664.0\n",
      "25            686.0\n",
      "26            726.0\n",
      "27            768.0\n",
      "29            806.0\n",
      "30            840.0\n",
      "31            864.0\n",
      "32            899.0\n",
      "33            943.0\n",
      "34            974.0\n",
      "35            994.0\n",
      "37           1041.0\n",
      "38           1063.0\n",
      "39           1112.0\n",
      "            ...    \n",
      "196892    6447651.0\n",
      "196893    6447712.0\n",
      "196896    6447746.0\n",
      "196897    6447779.0\n",
      "196898    6447828.0\n",
      "196899    6447851.0\n",
      "196900    6447881.0\n",
      "196901    6447905.0\n",
      "196903    6447932.0\n",
      "196904    6447959.0\n",
      "196905    6447991.0\n",
      "196906    6448042.0\n",
      "196907    6448062.0\n",
      "196908    6448096.0\n",
      "196909    6448146.0\n",
      "196912    6448179.0\n",
      "196913    6448237.0\n",
      "196914    6448297.0\n",
      "196915    6448329.0\n",
      "196916    6448368.0\n",
      "196917    6448406.0\n",
      "196918    6448438.0\n",
      "196919    6448478.0\n",
      "196920    6448521.0\n",
      "196921    6448556.0\n",
      "196923    6448611.0\n",
      "196924    6448636.0\n",
      "196925    6448661.0\n",
      "196926    6448705.0\n",
      "196927    6448735.0\n",
      "Name: ageM, dtype: float64\n"
     ]
    }
   ],
   "source": [
    "print df2.ageM, df2.ageM.cumsum() \n"
   ]
  },
  {
   "cell_type": "code",
   "execution_count": 239,
   "metadata": {
    "collapsed": false,
    "scrolled": false
   },
   "outputs": [
    {
     "name": "stdout",
     "output_type": "stream",
     "text": [
      "          count_nonzero\n",
      "ageM                   \n",
      "(10, 15]       0.000000\n",
      "(15, 20]       0.002159\n",
      "(20, 25]       0.013054\n",
      "(25, 30]       0.052331\n",
      "(30, 35]       0.056668\n",
      "(35, 40]       0.044718\n",
      "(40, 45]       0.026353\n",
      "(45, 50]       0.012632\n",
      "(50, 55]       0.007243\n",
      "(55, 60]       0.008507\n",
      "(60, 65]       0.007611\n",
      "(65, 70]       0.003617\n",
      "(70, 75]       0.000761\n",
      "(75, 80]       0.000282\n",
      "(80, 85]       0.000032\n",
      "(85, 90]       0.000074\n",
      "(90, 95]       0.000000\n"
     ]
    },
    {
     "data": {
      "text/plain": [
       "<matplotlib.legend.Legend at 0x7f8e37f3d610>"
      ]
     },
     "execution_count": 239,
     "metadata": {},
     "output_type": "execute_result"
    },
    {
     "data": {
      "image/png": "[encoded data removed]",
      "text/plain": [
       "<matplotlib.figure.Figure at 0x7f8e3914fed0>"
      ]
     },
     "metadata": {},
     "output_type": "display_data"
    }
   ],
   "source": [
    "csM=df2.ageM.groupby(pd.cut(df2.ageM, bins)).agg([count_nonzero]).cumsum()\n",
    "csF=df2.ageF.groupby(pd.cut(df2.ageF, bins)).agg([count_nonzero]).cumsum()\n",
    " \n",
    "print (np.abs(csM/csM.max() - csF/csF.max()))  #|proportions of cumsum M - proportions of cumsom F|\n",
    "\n",
    "pl.plot(bins[:-1] + 5, csM/csM.max(), label = 'Male')\n",
    "pl.plot(bins[:-1] + 5, csF/csF.max(), label = 'Female')\n",
    "pl.plot(bins[:-1] + 5, np.sqrt((csF/csF.max() - csM/csM.max())**2), 'r-',\n",
    "        label = \"difference\")\n",
    "pl.title('Fig2- Normalized Cumulative Count Proportions by Age',fontsize=15)\n",
    "pl.xlabel(\"Age\")\n",
    "pl.ylabel(\"Normalized Cumulative Number\")\n",
    "pl.legend()"
   ]
  },
  {
   "cell_type": "markdown",
   "metadata": {},
   "source": [
    "They look similar! But the difference gets to 10%. If I wanted to code the KS test by hand I woud have everything I need: the normalized cumulative distributions can be subtracted from each other and the max distance can calculated. \n",
    "\n",
    "Notice that there amay be Nan values you are gonna have to deal with! \n",
    "You can do that for example with a Boolean statementsuch as  df.ageF[~np.isnan(df.ageF)] or you can use numpy functions that deal with Nan values: nansum, nanmean, nanstd..."
   ]
  },
  {
   "cell_type": "markdown",
   "metadata": {},
   "source": [
    "lets run the scipy KS test"
   ]
  },
  {
   "cell_type": "markdown",
   "metadata": {
    "collapsed": true
   },
   "source": [
    "# KS tests to compare 2 samples\n",
    "\n",
    "http://docs.scipy.org/doc/scipy-0.15.1/reference/generated/scipy.stats.ks_2samp.html\n"
   ]
  },
  {
   "cell_type": "markdown",
   "metadata": {},
   "source": [
    "### $\\alpha$ = 0.05\n",
    "## H0: There is no significant difference between the age distributions of Female and Male riders sample. "
   ]
  },
  {
   "cell_type": "code",
   "execution_count": 240,
   "metadata": {
    "collapsed": false
   },
   "outputs": [
    {
     "name": "stdout",
     "output_type": "stream",
     "text": [
      "Ks_2sampResult(statistic=0.08478881431969218, pvalue=4.5875015783108826e-172)\n"
     ]
    }
   ],
   "source": [
    "ks = scipy.stats.ks_2samp(df2.ageM[~np.isnan(df2.ageM)], df2.ageF[~np.isnan(df2.ageF)])\n",
    "print (ks)"
   ]
  },
  {
   "cell_type": "markdown",
   "metadata": {},
   "source": [
    "The scipy.stats KS test already tells me the significance and the p-value. I recalculate it for a reality check.\n",
    "\n",
    "Remember: the Null hypothesis is rejected if \n",
    "\n",
    "$D_KS(n1,n2) > c(\\alpha) \\sqrt{\\frac{(n1 + n2)}{n1n2}}$\n",
    "\n",
    "where $c(\\alpha$) is the inverse of the KS distribution, and you do not have to know how to get that cause there are tables that list critical values!! \n",
    "\n",
    "http://www.real-statistics.com/tests-normality-and-symmetry/statistical-tests-normality-symmetry/kolmogorov-smirnov-test/kolmogorov-distribution/\n",
    "\n"
   ]
  },
  {
   "cell_type": "code",
   "execution_count": 241,
   "metadata": {
    "collapsed": false,
    "scrolled": true
   },
   "outputs": [
    {
     "name": "stdout",
     "output_type": "stream",
     "text": [
      "0.0\n"
     ]
    }
   ],
   "source": [
    "# notice that the factor is very large!! its gonna be hard to get a stat larger than that!\n",
    "sqr_nratio = np.sqrt((len(df2['ageF']) + len(df2['ageM'])) / (len(df2['ageF']) * len(df2['ageM'])))\n",
    "print '{}'.format(sqr_nratio)\n",
    "# this ratio too small that approaches to zero"
   ]
  },
  {
   "cell_type": "code",
   "execution_count": 242,
   "metadata": {
    "collapsed": false
   },
   "outputs": [
    {
     "data": {
      "image/png": "[encoded data removed]",
      "text/plain": [
       "<IPython.core.display.Image object>"
      ]
     },
     "execution_count": 242,
     "metadata": {},
     "output_type": "execute_result"
    }
   ],
   "source": [
    "#here is the critical values tablel. Have you chosen your significance level yet?? you should do it first thing!\n",
    "# Image Reference: http://www.real-statistics.com/statistics-tables/kolmogorov-smirnov-table/\n",
    "from IPython.display import Image\n",
    "Image(filename=\"ks2sample_table.png\")"
   ]
  },
  {
   "cell_type": "markdown",
   "metadata": {},
   "source": [
    "## Calculating critical value using the c($\\alpha$) value"
   ]
  },
  {
   "cell_type": "code",
   "execution_count": 243,
   "metadata": {
    "collapsed": false
   },
   "outputs": [
    {
     "name": "stdout",
     "output_type": "stream",
     "text": [
      "0.0\n"
     ]
    }
   ],
   "source": [
    "### **c(a) = 1.36** as n>50, alpha=0.05 which means that \n",
    "c_a = 1.36\n",
    "criti_value = c_a * sqr_nratio\n",
    "print criti_value"
   ]
  },
  {
   "cell_type": "markdown",
   "metadata": {},
   "source": [
    "### the sample KS statistics = 0.0848 > critical value that is ≈ 0  \n",
    "(the sample p-value = 4.5875015783108826e-172 ≈ 0 **<** 0.05 = $\\alpha$)\n",
    "### So we reject the null hypothesis, concluding that there is a significant difference between the female and the male age group (they are not from the same distribution)"
   ]
  },
  {
   "cell_type": "markdown",
   "metadata": {},
   "source": [
    "# Redo the test with a subsample of the data: take only 1 ride every of 200 "
   ]
  },
  {
   "cell_type": "code",
   "execution_count": 244,
   "metadata": {
    "collapsed": false
   },
   "outputs": [
    {
     "data": {
      "text/plain": [
       "196930"
      ]
     },
     "execution_count": 244,
     "metadata": {},
     "output_type": "execute_result"
    }
   ],
   "source": [
    "# Number of rows(index length)\n",
    "df2.shape[0]"
   ]
  },
  {
   "cell_type": "code",
   "execution_count": 245,
   "metadata": {
    "collapsed": false
   },
   "outputs": [
    {
     "data": {
      "text/html": [
       "<div>\n",
       "<table border=\"1\" class=\"dataframe\">\n",
       "  <thead>\n",
       "    <tr style=\"text-align: right;\">\n",
       "      <th></th>\n",
       "      <th>starttime</th>\n",
       "      <th>date</th>\n",
       "      <th>birth year</th>\n",
       "      <th>gender</th>\n",
       "      <th>ageM</th>\n",
       "      <th>ageF</th>\n",
       "    </tr>\n",
       "  </thead>\n",
       "  <tbody>\n",
       "    <tr>\n",
       "      <th>0</th>\n",
       "      <td>2/1/2015 0:00</td>\n",
       "      <td>2015-02-01 00:00:00</td>\n",
       "      <td>1978.0</td>\n",
       "      <td>2</td>\n",
       "      <td>NaN</td>\n",
       "      <td>37.0</td>\n",
       "    </tr>\n",
       "    <tr>\n",
       "      <th>200</th>\n",
       "      <td>2/1/2015 3:57</td>\n",
       "      <td>2015-02-01 03:57:00</td>\n",
       "      <td>1982.0</td>\n",
       "      <td>1</td>\n",
       "      <td>33.0</td>\n",
       "      <td>NaN</td>\n",
       "    </tr>\n",
       "    <tr>\n",
       "      <th>400</th>\n",
       "      <td>2/1/2015 8:42</td>\n",
       "      <td>2015-02-01 08:42:00</td>\n",
       "      <td>1981.0</td>\n",
       "      <td>2</td>\n",
       "      <td>NaN</td>\n",
       "      <td>34.0</td>\n",
       "    </tr>\n",
       "    <tr>\n",
       "      <th>600</th>\n",
       "      <td>2/1/2015 9:40</td>\n",
       "      <td>2015-02-01 09:40:00</td>\n",
       "      <td>1985.0</td>\n",
       "      <td>2</td>\n",
       "      <td>NaN</td>\n",
       "      <td>30.0</td>\n",
       "    </tr>\n",
       "    <tr>\n",
       "      <th>800</th>\n",
       "      <td>2/1/2015 10:19</td>\n",
       "      <td>2015-02-01 10:19:00</td>\n",
       "      <td>1973.0</td>\n",
       "      <td>1</td>\n",
       "      <td>42.0</td>\n",
       "      <td>NaN</td>\n",
       "    </tr>\n",
       "    <tr>\n",
       "      <th>1000</th>\n",
       "      <td>2/1/2015 10:45</td>\n",
       "      <td>2015-02-01 10:45:00</td>\n",
       "      <td>1965.0</td>\n",
       "      <td>2</td>\n",
       "      <td>NaN</td>\n",
       "      <td>50.0</td>\n",
       "    </tr>\n",
       "    <tr>\n",
       "      <th>1200</th>\n",
       "      <td>2/1/2015 11:10</td>\n",
       "      <td>2015-02-01 11:10:00</td>\n",
       "      <td>1990.0</td>\n",
       "      <td>2</td>\n",
       "      <td>NaN</td>\n",
       "      <td>25.0</td>\n",
       "    </tr>\n",
       "    <tr>\n",
       "      <th>1400</th>\n",
       "      <td>2/1/2015 11:35</td>\n",
       "      <td>2015-02-01 11:35:00</td>\n",
       "      <td>1980.0</td>\n",
       "      <td>2</td>\n",
       "      <td>NaN</td>\n",
       "      <td>35.0</td>\n",
       "    </tr>\n",
       "    <tr>\n",
       "      <th>1600</th>\n",
       "      <td>2/1/2015 11:55</td>\n",
       "      <td>2015-02-01 11:55:00</td>\n",
       "      <td>1994.0</td>\n",
       "      <td>2</td>\n",
       "      <td>NaN</td>\n",
       "      <td>21.0</td>\n",
       "    </tr>\n",
       "    <tr>\n",
       "      <th>1800</th>\n",
       "      <td>2/1/2015 12:19</td>\n",
       "      <td>2015-02-01 12:19:00</td>\n",
       "      <td>1980.0</td>\n",
       "      <td>1</td>\n",
       "      <td>35.0</td>\n",
       "      <td>NaN</td>\n",
       "    </tr>\n",
       "  </tbody>\n",
       "</table>\n",
       "</div>"
      ],
      "text/plain": [
       "           starttime                date  birth year  gender  ageM  ageF\n",
       "0      2/1/2015 0:00 2015-02-01 00:00:00      1978.0       2   NaN  37.0\n",
       "200    2/1/2015 3:57 2015-02-01 03:57:00      1982.0       1  33.0   NaN\n",
       "400    2/1/2015 8:42 2015-02-01 08:42:00      1981.0       2   NaN  34.0\n",
       "600    2/1/2015 9:40 2015-02-01 09:40:00      1985.0       2   NaN  30.0\n",
       "800   2/1/2015 10:19 2015-02-01 10:19:00      1973.0       1  42.0   NaN\n",
       "1000  2/1/2015 10:45 2015-02-01 10:45:00      1965.0       2   NaN  50.0\n",
       "1200  2/1/2015 11:10 2015-02-01 11:10:00      1990.0       2   NaN  25.0\n",
       "1400  2/1/2015 11:35 2015-02-01 11:35:00      1980.0       2   NaN  35.0\n",
       "1600  2/1/2015 11:55 2015-02-01 11:55:00      1994.0       2   NaN  21.0\n",
       "1800  2/1/2015 12:19 2015-02-01 12:19:00      1980.0       1  35.0   NaN"
      ]
     },
     "execution_count": 245,
     "metadata": {},
     "output_type": "execute_result"
    }
   ],
   "source": [
    "## your words here!...\n",
    "## this cell is for you to redo the test with reducted dataset \n",
    "## and tell me what the scipy KS test returned and what it means in terms of NULL HYPOTHESIS\n",
    "\n",
    "#create sub samples that are every 200 observations\n",
    "row_ind200 = np.arange(0,df2.shape[0], 200 )\n",
    "df2_sub = df2.iloc[row_ind200, :]\n",
    "df2_sub.head(10)"
   ]
  },
  {
   "cell_type": "code",
   "execution_count": 246,
   "metadata": {
    "collapsed": false
   },
   "outputs": [
    {
     "data": {
      "text/plain": [
       "<matplotlib.text.Text at 0x7f8e37d7aa50>"
      ]
     },
     "execution_count": 246,
     "metadata": {},
     "output_type": "execute_result"
    },
    {
     "data": {
      "image/png": "[encoded data removed]",
      "text/plain": [
       "<matplotlib.figure.Figure at 0x7f8e37f49e50>"
      ]
     },
     "metadata": {},
     "output_type": "display_data"
    },
    {
     "data": {
      "image/png": "[encoded data removed]",
      "text/plain": [
       "<matplotlib.figure.Figure at 0x7f8e37f1d310>"
      ]
     },
     "metadata": {},
     "output_type": "display_data"
    }
   ],
   "source": [
    "# plotting histograms for sub samples\n",
    "bins = np.arange(10, 99, 5)\n",
    "\n",
    "axM = df2_sub.ageM.groupby(pd.cut(df2_sub.ageM, bins)).agg([count_nonzero]).plot(kind='bar', legend=False)\n",
    "axM.set_title(\"Figure3a- male riders\", fontsize=15)\n",
    "\n",
    "axF = df2_sub.ageF.groupby(pd.cut(df2_sub.ageF, bins)).agg([count_nonzero]).plot(kind='bar', legend=False)\n",
    "axF.set_title(\"Figure3b- female riders\", fontsize=15)\n"
   ]
  },
  {
   "cell_type": "code",
   "execution_count": 247,
   "metadata": {
    "collapsed": false,
    "scrolled": true
   },
   "outputs": [
    {
     "name": "stdout",
     "output_type": "stream",
     "text": [
      "          count_nonzero\n",
      "ageM                   \n",
      "(10, 15]       0.000000\n",
      "(15, 20]       0.007403\n",
      "(20, 25]       0.009009\n",
      "(25, 30]       0.081691\n",
      "(30, 35]       0.071198\n",
      "(35, 40]       0.049267\n",
      "(40, 45]       0.008625\n",
      "(45, 50]       0.003259\n",
      "(50, 55]       0.014483\n",
      "(55, 60]       0.014713\n",
      "(60, 65]       0.002544\n",
      "(65, 70]       0.003713\n",
      "(70, 75]       0.002475\n",
      "(75, 80]       0.001238\n",
      "(80, 85]       0.000000\n",
      "(85, 90]       0.000000\n",
      "(90, 95]       0.000000\n"
     ]
    },
    {
     "data": {
      "text/plain": [
       "<matplotlib.legend.Legend at 0x7f8e37bb1ed0>"
      ]
     },
     "execution_count": 247,
     "metadata": {},
     "output_type": "execute_result"
    },
    {
     "data": {
      "image/png": "[encoded data removed]",
      "text/plain": [
       "<matplotlib.figure.Figure at 0x7f8e38fbd2d0>"
      ]
     },
     "metadata": {},
     "output_type": "display_data"
    }
   ],
   "source": [
    "csM_sub=df2_sub.ageM.groupby(pd.cut(df2_sub.ageM, bins)).agg([count_nonzero]).cumsum()\n",
    "csF_sub=df2_sub.ageF.groupby(pd.cut(df2_sub.ageF, bins)).agg([count_nonzero]).cumsum()\n",
    " \n",
    "print (np.abs(csM_sub/csM_sub.max() - csF_sub/csF_sub.max()))  #|proportions of cumsum M - proportions of cumsom F|\n",
    "\n",
    "pl.plot(bins[:-1] + 5, csM_sub/csM_sub.max(), label = 'Male')\n",
    "pl.plot(bins[:-1] + 5, csF_sub/csF_sub.max(), label = 'Female')\n",
    "pl.plot(bins[:-1] + 5, np.sqrt((csF_sub/csF_sub.max() - csM_sub/csM_sub.max())**2), 'r-',\n",
    "        label = \"difference\")\n",
    "pl.title('Fig4- Normalized Cumulative Count Proportions by Age(subsample)',fontsize=15)\n",
    "pl.xlabel(\"Age\")\n",
    "pl.ylabel(\"Normalized Cumulative Number\")\n",
    "pl.legend()"
   ]
  },
  {
   "cell_type": "code",
   "execution_count": 248,
   "metadata": {
    "collapsed": false,
    "scrolled": true
   },
   "outputs": [
    {
     "name": "stdout",
     "output_type": "stream",
     "text": [
      "Ks_2sampResult(statistic=0.1168300716320274, pvalue=0.047131100671457538)\n"
     ]
    }
   ],
   "source": [
    "# KS Test\n",
    "ks_sub = scipy.stats.ks_2samp(df2_sub.ageM[~np.isnan(df2_sub.ageM)], df2_sub.ageF[~np.isnan(df2_sub.ageF)])\n",
    "print (ks_sub)"
   ]
  },
  {
   "cell_type": "code",
   "execution_count": 249,
   "metadata": {
    "collapsed": false
   },
   "outputs": [
    {
     "name": "stdout",
     "output_type": "stream",
     "text": [
      "Male sub-Sample Size: 161561.0; \n",
      "Female sub-Sample Size: 33064.0\n"
     ]
    },
    {
     "data": {
      "text/html": [
       "<div>\n",
       "<table border=\"1\" class=\"dataframe\">\n",
       "  <thead>\n",
       "    <tr style=\"text-align: right;\">\n",
       "      <th></th>\n",
       "      <th>birth year</th>\n",
       "      <th>gender</th>\n",
       "      <th>ageM</th>\n",
       "      <th>ageF</th>\n",
       "    </tr>\n",
       "  </thead>\n",
       "  <tbody>\n",
       "    <tr>\n",
       "      <th>count</th>\n",
       "      <td>970.000000</td>\n",
       "      <td>985.000000</td>\n",
       "      <td>809.000000</td>\n",
       "      <td>161.000000</td>\n",
       "    </tr>\n",
       "    <tr>\n",
       "      <th>mean</th>\n",
       "      <td>1975.250515</td>\n",
       "      <td>1.148223</td>\n",
       "      <td>39.951792</td>\n",
       "      <td>38.732919</td>\n",
       "    </tr>\n",
       "    <tr>\n",
       "      <th>std</th>\n",
       "      <td>11.919585</td>\n",
       "      <td>0.396067</td>\n",
       "      <td>11.897516</td>\n",
       "      <td>12.015489</td>\n",
       "    </tr>\n",
       "    <tr>\n",
       "      <th>min</th>\n",
       "      <td>1910.000000</td>\n",
       "      <td>0.000000</td>\n",
       "      <td>17.000000</td>\n",
       "      <td>19.000000</td>\n",
       "    </tr>\n",
       "    <tr>\n",
       "      <th>25%</th>\n",
       "      <td>NaN</td>\n",
       "      <td>1.000000</td>\n",
       "      <td>NaN</td>\n",
       "      <td>NaN</td>\n",
       "    </tr>\n",
       "    <tr>\n",
       "      <th>50%</th>\n",
       "      <td>NaN</td>\n",
       "      <td>1.000000</td>\n",
       "      <td>NaN</td>\n",
       "      <td>NaN</td>\n",
       "    </tr>\n",
       "    <tr>\n",
       "      <th>75%</th>\n",
       "      <td>NaN</td>\n",
       "      <td>1.000000</td>\n",
       "      <td>NaN</td>\n",
       "      <td>NaN</td>\n",
       "    </tr>\n",
       "    <tr>\n",
       "      <th>max</th>\n",
       "      <td>1998.000000</td>\n",
       "      <td>2.000000</td>\n",
       "      <td>105.000000</td>\n",
       "      <td>69.000000</td>\n",
       "    </tr>\n",
       "  </tbody>\n",
       "</table>\n",
       "</div>"
      ],
      "text/plain": [
       "        birth year      gender        ageM        ageF\n",
       "count   970.000000  985.000000  809.000000  161.000000\n",
       "mean   1975.250515    1.148223   39.951792   38.732919\n",
       "std      11.919585    0.396067   11.897516   12.015489\n",
       "min    1910.000000    0.000000   17.000000   19.000000\n",
       "25%            NaN    1.000000         NaN         NaN\n",
       "50%            NaN    1.000000         NaN         NaN\n",
       "75%            NaN    1.000000         NaN         NaN\n",
       "max    1998.000000    2.000000  105.000000   69.000000"
      ]
     },
     "execution_count": 249,
     "metadata": {},
     "output_type": "execute_result"
    }
   ],
   "source": [
    "# Check size\n",
    "size_M_sub = df2_sub.ageM[~isnan(df2_sub.ageM)].shape[0]\n",
    "size_F_sub = df2_sub.ageF[~isnan(df2_sub.ageF)].shape[0]\n",
    "print 'Male sub-Sample Size: {};'.format(size_M), '\\nFemale sub-Sample Size: {}'.format(size_F)\n",
    "\n",
    "df2_sub.describe()"
   ]
  },
  {
   "cell_type": "markdown",
   "metadata": {},
   "source": [
    "### the sample KS p-value = 0.0471 **<** 0.05 = $\\alpha$  \n",
    "### So we reject the null hypothesis, concluding that there is a significant difference between the female and the male age sub group (they are not from the same distribution)"
   ]
  },
  {
   "cell_type": "markdown",
   "metadata": {},
   "source": [
    "# Pearson's  test for correlation\n",
    "\n",
    "## notice that the Pearson's is a pairwise test: the samples need to be \n",
    "#### a. sorted and \n",
    "#### b. the same size!\n",
    "\n",
    "http://docs.scipy.org/doc/scipy/reference/generated/scipy.stats.pearsonr.html#scipy.stats.pearsonr\n",
    "\n"
   ]
  },
  {
   "cell_type": "markdown",
   "metadata": {},
   "source": [
    "### $\\alpha$ = 0.05\n",
    "## H0: There is no significant difference between the age distributions of Female and Male riders sample. "
   ]
  },
  {
   "cell_type": "code",
   "execution_count": 250,
   "metadata": {
    "collapsed": false,
    "scrolled": false
   },
   "outputs": [
    {
     "name": "stdout",
     "output_type": "stream",
     "text": [
      "161561.0 33064.0\n",
      "161561 33064\n"
     ]
    }
   ],
   "source": [
    "# your code here!\n",
    "\n",
    "size_M = df2.ageM.describe()[0]\n",
    "size_F = df2.ageF.describe()[0]\n",
    "print size_M,size_F\n",
    "\n",
    "arr_M = np.array(df2.ageM[~isnan(df2.ageM)]) \n",
    "arr_F = np.array(df2.ageF[~isnan(df2.ageF)])\n",
    "#check size\n",
    "print len(arr_M), len(arr_F)"
   ]
  },
  {
   "cell_type": "code",
   "execution_count": 251,
   "metadata": {
    "collapsed": false
   },
   "outputs": [
    {
     "name": "stdout",
     "output_type": "stream",
     "text": [
      "[     0      4      9 ..., 161550 161555 161560]\n",
      "33064\n"
     ]
    }
   ],
   "source": [
    "# size of Male is far more larger than size of female. \n",
    "# So we pick some male observations so it has the same size as Female sample.\n",
    "\n",
    "row_ind_M = np.linspace(0, size_M-1, num=size_F).astype(int)\n",
    "print row_ind_M\n",
    "arr_M = arr_M[row_ind_M]\n",
    "print len(arr_M)\n"
   ]
  },
  {
   "cell_type": "code",
   "execution_count": 252,
   "metadata": {
    "collapsed": false
   },
   "outputs": [
    {
     "name": "stdout",
     "output_type": "stream",
     "text": [
      "[  16.   16.   16. ...,  115.  115.  115.] [  17.   17.   17. ...,   89.   89.  115.]\n"
     ]
    }
   ],
   "source": [
    "#sort\n",
    "sort_M, sort_F = sort(arr_M), sort(arr_F)\n",
    "print sort_M, sort_F"
   ]
  },
  {
   "cell_type": "code",
   "execution_count": 253,
   "metadata": {
    "collapsed": false
   },
   "outputs": [
    {
     "data": {
      "text/plain": [
       "(0.99379127334484851, 0.0)"
      ]
     },
     "execution_count": 253,
     "metadata": {},
     "output_type": "execute_result"
    }
   ],
   "source": [
    "# perform Peason Test\n",
    "scipy.stats.pearsonr(sort_M, sort_F)"
   ]
  },
  {
   "cell_type": "markdown",
   "metadata": {},
   "source": [
    "## Insight from Pearson's Test\n",
    "### the sample  p-value ≈ 0 **<** 0.05 = $\\alpha$  \n",
    "### So we reject the null hypothesis, concluding that the difference between the female and the male rider's age group is statistically significant\n",
    "#### This can also be seen from the correlation coeficient 0.9938--there is quite a strong positive correlation between these two sample groups."
   ]
  },
  {
   "cell_type": "code",
   "execution_count": null,
   "metadata": {
    "collapsed": true
   },
   "outputs": [],
   "source": []
  },
  {
   "cell_type": "markdown",
   "metadata": {},
   "source": [
    "# Spearman's  test for correlation\n",
    "\n",
    "http://docs.scipy.org/doc/scipy/reference/generated/scipy.stats.spearmanr.html#scipy.stats.spearmanr"
   ]
  },
  {
   "cell_type": "markdown",
   "metadata": {},
   "source": [
    "### $\\alpha$ = 0.05\n",
    "## H0: There is no significant difference between the age distributions of Female and Male riders sample. "
   ]
  },
  {
   "cell_type": "code",
   "execution_count": 254,
   "metadata": {
    "collapsed": false
   },
   "outputs": [
    {
     "data": {
      "text/plain": [
       "SpearmanrResult(correlation=0.99914285611284825, pvalue=0.0)"
      ]
     },
     "execution_count": 254,
     "metadata": {},
     "output_type": "execute_result"
    }
   ],
   "source": [
    "# The data wrangling stage I use the same method as the resizing and sorting of that for Pearson's test\n",
    "# I am using the sort_M and sort_F I got from above, and perfrom the test\n",
    "\n",
    "scipy.stats.spearmanr(sort_M, sort_F)"
   ]
  },
  {
   "cell_type": "markdown",
   "metadata": {},
   "source": [
    "## Insight from Spearman's Test\n",
    "### the sample  p-value ≈ 0 **<** 0.05 = $\\alpha$  \n",
    "### So we reject the null hypothesis, concluding that there is a significant difference between the female and the male rider's gender group(by age)\n",
    "### This can also be seen from the correlation coeficient 0.9991--there is a pretty strong and positive correlation between these two sample groups."
   ]
  },
  {
   "cell_type": "markdown",
   "metadata": {},
   "source": [
    "\n",
    "## EXTRA CREDIT:  CHOOSE ONE OF THE TESTS, AND TEST THE CORRELATION OF AGES  OF RIDERS DURING THE DAY VS DURING THE NIGHT!\n"
   ]
  },
  {
   "cell_type": "code",
   "execution_count": 255,
   "metadata": {
    "collapsed": false
   },
   "outputs": [
    {
     "data": {
      "text/html": [
       "<div>\n",
       "<table border=\"1\" class=\"dataframe\">\n",
       "  <thead>\n",
       "    <tr style=\"text-align: right;\">\n",
       "      <th></th>\n",
       "      <th>starttime</th>\n",
       "      <th>date</th>\n",
       "      <th>birth year</th>\n",
       "      <th>gender</th>\n",
       "      <th>ageM</th>\n",
       "      <th>ageF</th>\n",
       "    </tr>\n",
       "  </thead>\n",
       "  <tbody>\n",
       "    <tr>\n",
       "      <th>0</th>\n",
       "      <td>2/1/2015 0:00</td>\n",
       "      <td>2015-02-01 00:00:00</td>\n",
       "      <td>1978.0</td>\n",
       "      <td>2</td>\n",
       "      <td>NaN</td>\n",
       "      <td>37.0</td>\n",
       "    </tr>\n",
       "    <tr>\n",
       "      <th>1</th>\n",
       "      <td>2/1/2015 0:00</td>\n",
       "      <td>2015-02-01 00:00:00</td>\n",
       "      <td>1993.0</td>\n",
       "      <td>1</td>\n",
       "      <td>22.0</td>\n",
       "      <td>NaN</td>\n",
       "    </tr>\n",
       "    <tr>\n",
       "      <th>2</th>\n",
       "      <td>2/1/2015 0:01</td>\n",
       "      <td>2015-02-01 00:01:00</td>\n",
       "      <td>1969.0</td>\n",
       "      <td>2</td>\n",
       "      <td>NaN</td>\n",
       "      <td>46.0</td>\n",
       "    </tr>\n",
       "    <tr>\n",
       "      <th>3</th>\n",
       "      <td>2/1/2015 0:01</td>\n",
       "      <td>2015-02-01 00:01:00</td>\n",
       "      <td>1985.0</td>\n",
       "      <td>2</td>\n",
       "      <td>NaN</td>\n",
       "      <td>30.0</td>\n",
       "    </tr>\n",
       "    <tr>\n",
       "      <th>4</th>\n",
       "      <td>2/1/2015 0:01</td>\n",
       "      <td>2015-02-01 00:01:00</td>\n",
       "      <td>1957.0</td>\n",
       "      <td>1</td>\n",
       "      <td>58.0</td>\n",
       "      <td>NaN</td>\n",
       "    </tr>\n",
       "  </tbody>\n",
       "</table>\n",
       "</div>"
      ],
      "text/plain": [
       "       starttime                date  birth year  gender  ageM  ageF\n",
       "0  2/1/2015 0:00 2015-02-01 00:00:00      1978.0       2   NaN  37.0\n",
       "1  2/1/2015 0:00 2015-02-01 00:00:00      1993.0       1  22.0   NaN\n",
       "2  2/1/2015 0:01 2015-02-01 00:01:00      1969.0       2   NaN  46.0\n",
       "3  2/1/2015 0:01 2015-02-01 00:01:00      1985.0       2   NaN  30.0\n",
       "4  2/1/2015 0:01 2015-02-01 00:01:00      1957.0       1  58.0   NaN"
      ]
     },
     "execution_count": 255,
     "metadata": {},
     "output_type": "execute_result"
    }
   ],
   "source": [
    "#I am using the df2 I modified earlier for start.\n",
    "df2.head()"
   ]
  },
  {
   "cell_type": "code",
   "execution_count": 256,
   "metadata": {
    "collapsed": false
   },
   "outputs": [
    {
     "data": {
      "text/html": [
       "<div>\n",
       "<table border=\"1\" class=\"dataframe\">\n",
       "  <thead>\n",
       "    <tr style=\"text-align: right;\">\n",
       "      <th></th>\n",
       "      <th>starttime</th>\n",
       "      <th>date</th>\n",
       "      <th>birth year</th>\n",
       "      <th>gender</th>\n",
       "      <th>ageM</th>\n",
       "      <th>ageF</th>\n",
       "      <th>Day_Night</th>\n",
       "    </tr>\n",
       "  </thead>\n",
       "  <tbody>\n",
       "    <tr>\n",
       "      <th>0</th>\n",
       "      <td>2/1/2015 0:00</td>\n",
       "      <td>2015-02-01 00:00:00</td>\n",
       "      <td>1978.0</td>\n",
       "      <td>2</td>\n",
       "      <td>NaN</td>\n",
       "      <td>37.0</td>\n",
       "      <td>0</td>\n",
       "    </tr>\n",
       "    <tr>\n",
       "      <th>1</th>\n",
       "      <td>2/1/2015 0:00</td>\n",
       "      <td>2015-02-01 00:00:00</td>\n",
       "      <td>1993.0</td>\n",
       "      <td>1</td>\n",
       "      <td>22.0</td>\n",
       "      <td>NaN</td>\n",
       "      <td>0</td>\n",
       "    </tr>\n",
       "    <tr>\n",
       "      <th>2</th>\n",
       "      <td>2/1/2015 0:01</td>\n",
       "      <td>2015-02-01 00:01:00</td>\n",
       "      <td>1969.0</td>\n",
       "      <td>2</td>\n",
       "      <td>NaN</td>\n",
       "      <td>46.0</td>\n",
       "      <td>0</td>\n",
       "    </tr>\n",
       "    <tr>\n",
       "      <th>3</th>\n",
       "      <td>2/1/2015 0:01</td>\n",
       "      <td>2015-02-01 00:01:00</td>\n",
       "      <td>1985.0</td>\n",
       "      <td>2</td>\n",
       "      <td>NaN</td>\n",
       "      <td>30.0</td>\n",
       "      <td>0</td>\n",
       "    </tr>\n",
       "    <tr>\n",
       "      <th>4</th>\n",
       "      <td>2/1/2015 0:01</td>\n",
       "      <td>2015-02-01 00:01:00</td>\n",
       "      <td>1957.0</td>\n",
       "      <td>1</td>\n",
       "      <td>58.0</td>\n",
       "      <td>NaN</td>\n",
       "      <td>0</td>\n",
       "    </tr>\n",
       "  </tbody>\n",
       "</table>\n",
       "</div>"
      ],
      "text/plain": [
       "       starttime                date  birth year  gender  ageM  ageF  \\\n",
       "0  2/1/2015 0:00 2015-02-01 00:00:00      1978.0       2   NaN  37.0   \n",
       "1  2/1/2015 0:00 2015-02-01 00:00:00      1993.0       1  22.0   NaN   \n",
       "2  2/1/2015 0:01 2015-02-01 00:01:00      1969.0       2   NaN  46.0   \n",
       "3  2/1/2015 0:01 2015-02-01 00:01:00      1985.0       2   NaN  30.0   \n",
       "4  2/1/2015 0:01 2015-02-01 00:01:00      1957.0       1  58.0   NaN   \n",
       "\n",
       "   Day_Night  \n",
       "0          0  \n",
       "1          0  \n",
       "2          0  \n",
       "3          0  \n",
       "4          0  "
      ]
     },
     "execution_count": 256,
     "metadata": {},
     "output_type": "execute_result"
    }
   ],
   "source": [
    "# define \"day\": riding from 07:00:00 to 18:59:59; \" night\": riding from 19:00:00 to 06:59:59\n",
    "# Day: 1; Night: 0\n",
    "\n",
    "D_N = lambda t: 1 if (int(t[-5:-3])>6 and int(t[-5:-3])<19) else 0\n",
    "df2['Day_Night'] = df2.starttime.apply(D_N)\n",
    "\n",
    "df2.head()"
   ]
  },
  {
   "cell_type": "code",
   "execution_count": 257,
   "metadata": {
    "collapsed": false
   },
   "outputs": [
    {
     "data": {
      "text/html": [
       "<div>\n",
       "<table border=\"1\" class=\"dataframe\">\n",
       "  <thead>\n",
       "    <tr style=\"text-align: right;\">\n",
       "      <th></th>\n",
       "      <th>starttime</th>\n",
       "      <th>date</th>\n",
       "      <th>birth year</th>\n",
       "      <th>gender</th>\n",
       "      <th>ageM</th>\n",
       "      <th>ageF</th>\n",
       "      <th>Day_Night</th>\n",
       "      <th>age_D</th>\n",
       "      <th>age_N</th>\n",
       "    </tr>\n",
       "  </thead>\n",
       "  <tbody>\n",
       "    <tr>\n",
       "      <th>0</th>\n",
       "      <td>2/1/2015 0:00</td>\n",
       "      <td>2015-02-01 00:00:00</td>\n",
       "      <td>1978.0</td>\n",
       "      <td>2</td>\n",
       "      <td>NaN</td>\n",
       "      <td>37.0</td>\n",
       "      <td>0</td>\n",
       "      <td>NaN</td>\n",
       "      <td>37.0</td>\n",
       "    </tr>\n",
       "    <tr>\n",
       "      <th>1</th>\n",
       "      <td>2/1/2015 0:00</td>\n",
       "      <td>2015-02-01 00:00:00</td>\n",
       "      <td>1993.0</td>\n",
       "      <td>1</td>\n",
       "      <td>22.0</td>\n",
       "      <td>NaN</td>\n",
       "      <td>0</td>\n",
       "      <td>NaN</td>\n",
       "      <td>22.0</td>\n",
       "    </tr>\n",
       "    <tr>\n",
       "      <th>2</th>\n",
       "      <td>2/1/2015 0:01</td>\n",
       "      <td>2015-02-01 00:01:00</td>\n",
       "      <td>1969.0</td>\n",
       "      <td>2</td>\n",
       "      <td>NaN</td>\n",
       "      <td>46.0</td>\n",
       "      <td>0</td>\n",
       "      <td>NaN</td>\n",
       "      <td>46.0</td>\n",
       "    </tr>\n",
       "    <tr>\n",
       "      <th>3</th>\n",
       "      <td>2/1/2015 0:01</td>\n",
       "      <td>2015-02-01 00:01:00</td>\n",
       "      <td>1985.0</td>\n",
       "      <td>2</td>\n",
       "      <td>NaN</td>\n",
       "      <td>30.0</td>\n",
       "      <td>0</td>\n",
       "      <td>NaN</td>\n",
       "      <td>30.0</td>\n",
       "    </tr>\n",
       "    <tr>\n",
       "      <th>4</th>\n",
       "      <td>2/1/2015 0:01</td>\n",
       "      <td>2015-02-01 00:01:00</td>\n",
       "      <td>1957.0</td>\n",
       "      <td>1</td>\n",
       "      <td>58.0</td>\n",
       "      <td>NaN</td>\n",
       "      <td>0</td>\n",
       "      <td>NaN</td>\n",
       "      <td>58.0</td>\n",
       "    </tr>\n",
       "  </tbody>\n",
       "</table>\n",
       "</div>"
      ],
      "text/plain": [
       "       starttime                date  birth year  gender  ageM  ageF  \\\n",
       "0  2/1/2015 0:00 2015-02-01 00:00:00      1978.0       2   NaN  37.0   \n",
       "1  2/1/2015 0:00 2015-02-01 00:00:00      1993.0       1  22.0   NaN   \n",
       "2  2/1/2015 0:01 2015-02-01 00:01:00      1969.0       2   NaN  46.0   \n",
       "3  2/1/2015 0:01 2015-02-01 00:01:00      1985.0       2   NaN  30.0   \n",
       "4  2/1/2015 0:01 2015-02-01 00:01:00      1957.0       1  58.0   NaN   \n",
       "\n",
       "   Day_Night  age_D  age_N  \n",
       "0          0    NaN   37.0  \n",
       "1          0    NaN   22.0  \n",
       "2          0    NaN   46.0  \n",
       "3          0    NaN   30.0  \n",
       "4          0    NaN   58.0  "
      ]
     },
     "execution_count": 257,
     "metadata": {},
     "output_type": "execute_result"
    }
   ],
   "source": [
    "# Create columns for age of day riders and age of night riders\n",
    "df2['age_D'] = 2015 - df2['birth year'][(df2.Day_Night == 1)]\n",
    "df2['age_N'] = 2015 - df2['birth year'][(df2.Day_Night == 0)]\n",
    "df2.head()"
   ]
  },
  {
   "cell_type": "code",
   "execution_count": 261,
   "metadata": {
    "collapsed": false
   },
   "outputs": [
    {
     "data": {
      "text/plain": [
       "<matplotlib.text.Text at 0x7f8e41c47650>"
      ]
     },
     "execution_count": 261,
     "metadata": {},
     "output_type": "execute_result"
    },
    {
     "data": {
      "image/png": "[encoded data removed]",
      "text/plain": [
       "<matplotlib.figure.Figure at 0x7f8e41f9d450>"
      ]
     },
     "metadata": {},
     "output_type": "display_data"
    },
    {
     "data": {
      "image/png": "[encoded data removed]",
      "text/plain": [
       "<matplotlib.figure.Figure at 0x7f8e41ea2650>"
      ]
     },
     "metadata": {},
     "output_type": "display_data"
    }
   ],
   "source": [
    "# plotting histograms for day riders and night riders\n",
    "bins = np.arange(10, 99, 5)\n",
    "axD = df2.age_D.groupby(pd.cut(df2.age_D, bins)).agg([count_nonzero]).plot(kind='bar', legend=False)\n",
    "axD.set_title(\"Figure 5a- Day Riders\", fontsize=15)\n",
    "\n",
    "axN = df2.age_N.groupby(pd.cut(df2.age_N, bins)).agg([count_nonzero]).plot(kind='bar', legend=False)\n",
    "axN.set_title(\"Figure 5b- Night Riders\", fontsize=15)"
   ]
  },
  {
   "cell_type": "code",
   "execution_count": 262,
   "metadata": {
    "collapsed": false
   },
   "outputs": [
    {
     "name": "stdout",
     "output_type": "stream",
     "text": [
      "          count_nonzero\n",
      "age_D                  \n",
      "(10, 15]       0.000000\n",
      "(15, 20]       0.003410\n",
      "(20, 25]       0.031309\n",
      "(25, 30]       0.077655\n",
      "(30, 35]       0.097990\n",
      "(35, 40]       0.084038\n",
      "(40, 45]       0.059443\n",
      "(45, 50]       0.045239\n",
      "(50, 55]       0.032973\n",
      "(55, 60]       0.015375\n",
      "(60, 65]       0.006215\n",
      "(65, 70]       0.002425\n",
      "(70, 75]       0.000414\n",
      "(75, 80]       0.000036\n",
      "(80, 85]       0.000022\n",
      "(85, 90]       0.000019\n",
      "(90, 95]       0.000000\n"
     ]
    },
    {
     "data": {
      "text/plain": [
       "<matplotlib.legend.Legend at 0x7f8e41a7cb90>"
      ]
     },
     "execution_count": 262,
     "metadata": {},
     "output_type": "execute_result"
    },
    {
     "data": {
      "image/png": "[encoded data removed]",
      "text/plain": [
       "<matplotlib.figure.Figure at 0x7f8e36cf0c10>"
      ]
     },
     "metadata": {},
     "output_type": "display_data"
    }
   ],
   "source": [
    "csD=df2.age_D.groupby(pd.cut(df2.age_D, bins)).agg([count_nonzero]).cumsum()\n",
    "csN=df2.age_N.groupby(pd.cut(df2.age_N, bins)).agg([count_nonzero]).cumsum()\n",
    " \n",
    "print (np.abs(csD/csD.max() - csN/csN.max()))  #|proportions of cumsum D - proportions of cumsom N|\n",
    "\n",
    "pl.plot(bins[:-1] + 5, csD/csD.max(), label = 'Day')\n",
    "pl.plot(bins[:-1] + 5, csN/csN.max(), label = 'Night')\n",
    "pl.plot(bins[:-1] + 5, np.sqrt((csN/csN.max() - csD/csD.max())**2), 'r-',\n",
    "        label = \"difference\")\n",
    "pl.title('Fig 6- Normalized Cumulative Count Proportions by Age(subsample)',fontsize=15)\n",
    "pl.xlabel(\"Age\")\n",
    "pl.ylabel(\"Normalized Cumulative Number\")\n",
    "pl.legend()"
   ]
  },
  {
   "cell_type": "markdown",
   "metadata": {},
   "source": [
    "## KS Test\n",
    "### $\\alpha$ = 0.05\n",
    "## H0: There is no significant difference between the age distributions of Day rider and Night rider samples. "
   ]
  },
  {
   "cell_type": "code",
   "execution_count": 263,
   "metadata": {
    "collapsed": false
   },
   "outputs": [
    {
     "name": "stdout",
     "output_type": "stream",
     "text": [
      "Ks_2sampResult(statistic=0.12058895453169556, pvalue=0.0)\n"
     ]
    }
   ],
   "source": [
    "ks_DN = scipy.stats.ks_2samp(df2.age_D[~isnan(df2.age_D)], df2.age_N[~isnan(df2.age_N)])\n",
    "print ks_DN"
   ]
  },
  {
   "cell_type": "markdown",
   "metadata": {},
   "source": [
    "### the sample  p-value ≈ 0 **<** 0.05 = $\\alpha$  \n",
    "### So we reject the null hypothesis, concluding that the difference between the day and the night riders' age group is statistically significant\n"
   ]
  },
  {
   "cell_type": "code",
   "execution_count": null,
   "metadata": {
    "collapsed": true
   },
   "outputs": [],
   "source": []
  }
 ],
 "metadata": {
  "kernelspec": {
   "display_name": "PUI2016_Python2",
   "language": "python",
   "name": "pui2016_python2"
  },
  "language_info": {
   "codemirror_mode": {
    "name": "ipython",
    "version": 2
   },
   "file_extension": ".py",
   "mimetype": "text/x-python",
   "name": "python",
   "nbconvert_exporter": "python",
   "pygments_lexer": "ipython2",
   "version": "2.7.12"
  }
 },
 "nbformat": 4,
 "nbformat_minor": 0
}
