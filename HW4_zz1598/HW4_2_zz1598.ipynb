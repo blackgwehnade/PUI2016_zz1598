{
 "cells": [
  {
   "cell_type": "markdown",
   "metadata": {
    "collapsed": true
   },
   "source": [
    "## PUI2016_HW4__zz1598\n",
    "\n",
    "### Assignment 2\n",
    "\n",
    "Statistical Analyses Table\n",
    "\n",
    "| Statistical Analysis | # of IV  | IV Data Types | # of DV | DV Data Types | Control Variables | Question Answered by the Statistics      | H0 | alpha | link to paper **                         |\n",
    "| -------------------- | :--------------------------------------: | ------------: | ---------------------------------------- | ------------- | ----------------- | ---------------------------------------- | ---------------------------------------- | ----- | ------------------------- |\n",
    "| MANCOVA              | 4, Conditions (Music Tartet, Prosody Target, Music Prime, Prosody Prime) | Categorical | 2, Priming effect of Congruence, Priming Effect of Valence [measured by Reaction Time] | Continuous    | alexithymia score | Sensitivity to emotional qualities of speech and music in alexithymia **reduces** at a neurophysiological level during affective categorization | There is no difference in reaction time for effect of congruence, nor in reaction time for effect of valence among the 4 condition groups | 0.05  | http://journals.plos.org/plosone/article?id=10.1371/journal.pone.0019501 |\n",
    "| Multiple Regression  | 87 polymorphisms (on 7 genes) +  2 environmenal factors(stressful life events and parental warmth) |   Dichotomous | 1, Effect on Highly Sensitive Personality [measured by total score of 27 quesions each at a 7.0 Scale) | Continuous    | --                | Genetic: 10 polymorphsims show effects Environmental: highly sensitive personality was not correlated with parental warmth, but was significantly positively correlated with the number of stressful life events during secondary school and college years. | Neither genetic polymorgphsim nor environmental factors has significant effect on forming of Highly sensitive personality | 0.05  | http://journals.plos.org/plosone/article?id=10.1371/journal.pone.0021636 |\n",
    "\n"
   ]
  },
  {
   "cell_type": "code",
   "execution_count": null,
   "metadata": {
    "collapsed": true
   },
   "outputs": [],
   "source": []
  }
 ],
 "metadata": {
  "kernelspec": {
   "display_name": "Python 3",
   "language": "python",
   "name": "python3"
  },
  "language_info": {
   "codemirror_mode": {
    "name": "ipython",
    "version": 3
   },
   "file_extension": ".py",
   "mimetype": "text/x-python",
   "name": "python",
   "nbconvert_exporter": "python",
   "pygments_lexer": "ipython3",
   "version": "3.4.2"
  }
 },
 "nbformat": 4,
 "nbformat_minor": 0
}
