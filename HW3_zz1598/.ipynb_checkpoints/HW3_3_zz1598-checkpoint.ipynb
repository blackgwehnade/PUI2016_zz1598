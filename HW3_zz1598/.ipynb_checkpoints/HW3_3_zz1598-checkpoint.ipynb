{
 "cells": [
  {
   "cell_type": "markdown",
   "metadata": {},
   "source": [
    "## HW3_zz1598\n",
    "### Assignment 3\n",
    "#### Complete Lab"
   ]
  },
  {
   "cell_type": "markdown",
   "metadata": {},
   "source": [
    "### Question: \n",
    "#### Whether or not the new bus route reduces the average commute time?\n",
    "### Information:\n",
    "#### Population mean = 36\n",
    "#### Population standard distribution = 6\n",
    "#### Population Distribution: N~(36, 36)\n",
    "\n",
    "#### H0: The average commute time of the new bus route is the same or greater than that of the old route \n",
    "#### H1: The average commute time of the new bus route is less than that of the old route \n",
    "### Significance Level \n",
    "$alpha$ = 0.05"
   ]
  },
  {
   "cell_type": "code",
   "execution_count": 1,
   "metadata": {
    "collapsed": false
   },
   "outputs": [],
   "source": [
    "import numpy as np\n",
    "\n",
    "# get the data of the sample bus commute times \n",
    "bus_data = []\n",
    "fh = open('times.txt', 'r')\n",
    "for num in fh:\n",
    "    bus_data.append(float(num))"
   ]
  },
  {
   "cell_type": "code",
   "execution_count": 2,
   "metadata": {
    "collapsed": false
   },
   "outputs": [
    {
     "name": "stdout",
     "output_type": "stream",
     "text": [
      "Z-score = 2.55639718617 ≈ 2.56\n"
     ]
    }
   ],
   "source": [
    "bus_pop_mean = 36\n",
    "bus_pop_std = 6\n",
    "\n",
    "bus_sample_mean = np.mean(bus_data)\n",
    "N = len(bus_data)\n",
    "\n",
    "Z = (bus_pop_mean - bus_sample_mean)/(bus_pop_std/np.sqrt(N))\n",
    "print ('Z-score = {} ≈ {:.2f}'.format(Z, Z))"
   ]
  },
  {
   "cell_type": "markdown",
   "metadata": {},
   "source": [
    "### Interpretation of Z-score and its meaning to the test:\n",
    "\n",
    "#### The calculated Z-score indicates that the sample mean is \n",
    "#### deviated from the population mean by approx. 2.56 standard deviations.\n",
    "#### From the table(http://www.sjsu.edu/faculty/gerstman/StatPrimer/z-two-tails.pdf) for Z-score: \n",
    "### Z = 2.56 --> p-value = 0.01047 < 0.025 (our significance level for a two tailed test)\n",
    "#### From the table(http://www.normaltable.com/ztable-righttailed.html) for Z-score:\n",
    "### Z = 2.56 --> p-value = 0.0052 < 0.05 (our significance level for a one tailed(right tailed test)\n",
    "### Therefore, we reject the Null hypothesis H0, and accept the alternative hypothesis Ha.\n",
    "\n",
    "### Conclusion:\n",
    "#### The average commute time of the new bus route is statistically significantly lower than that of the previous route."
   ]
  },
  {
   "cell_type": "code",
   "execution_count": null,
   "metadata": {
    "collapsed": true
   },
   "outputs": [],
   "source": []
  }
 ],
 "metadata": {
  "kernelspec": {
   "display_name": "PUI2016_Python2",
   "language": "python",
   "name": "pui2016_python2"
  },
  "language_info": {
   "codemirror_mode": {
    "name": "ipython",
    "version": 2
   },
   "file_extension": ".py",
   "mimetype": "text/x-python",
   "name": "python",
   "nbconvert_exporter": "python",
   "pygments_lexer": "ipython2",
   "version": "2.7.12"
  }
 },
 "nbformat": 4,
 "nbformat_minor": 0
}
