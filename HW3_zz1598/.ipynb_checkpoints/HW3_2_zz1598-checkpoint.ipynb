{
 "cells": [
  {
   "cell_type": "code",
   "execution_count": null,
   "metadata": {
    "collapsed": true
   },
   "outputs": [],
   "source": [
    "# Questions\n",
    "# 1. Markdown-- formulae!\n",
    "# 1. How to know if weekdays are labled as Mon-Sun, not Sun to Mon. Wanna change?"
   ]
  },
  {
   "cell_type": "markdown",
   "metadata": {},
   "source": [
    "## HW3_zz1598\n",
    "## Assignment 2\n",
    "#### Group: Dongjie Fan, Ziman zhou\n",
    "\n",
    "### Approach Outline:\n",
    "1. Question\n",
    "2. Hypothesis: set H0,H1 and Significant Level $\\alpha$\n",
    "3. Data Wrangling\n",
    "4. Plots\n",
    "5. (to be continued...)\n",
    "\n",
    "### 1.Question\n",
    "Young people are more often to use citi bikes for commuting on weekends than that of middle-age people. \n",
    "\n",
    "Defined Notes: \n",
    "Young: 18 <= age < 40 \n",
    "Middle-age: 40 <= age <= 60 \n",
    "\n",
    "weekends: Saturday and Sunday \n",
    "week days: All days of a week\n",
    "\n",
    "### 2.Hypoythesis\n",
    "#### NULL HYPOTHESIS: H0\n",
    "The ratio of the number of young people biking on weekends to those biking on week days(7 days) is the same or lower than the ratio of the number older people biking on weekekdns to those biking on week days.\n",
    "\n",
    "$$H_{0}:  \\frac{\\# \\,of\\,YOUNG\\, on\\, weekends}{\\#\\,of\\,YOUNG\\, on \\,week \\,days};= \\frac{\\# \\,of\\,MIDDLE\\,AGE\\, on\\, weekends}{\\#\\,of\\,MIDDLE\\,AGE\\, on \\,week \\,days}$$\n",
    "\n",
    "#### ALTERNATIVE HYPOTHESIS: H1\n",
    "The ratio of the number of young people biking on weekends to those biking on week days(7 days) is the higher than the ratio of the number older people biking on weekekdns to those biking on week days.\n",
    "\n",
    "$$H_{1}:  \\frac{\\# \\,of\\,YOUNG\\, on\\, weekends}{\\#\\,of\\,YOUNG\\, on \\,week \\,days}; \\frac{\\# \\,of\\,MIDDLE\\,AGE\\, on\\, weekends}{\\#\\,of\\,MIDDLE\\,AGE\\, on \\,week \\,days}$$\n",
    "Significant Level: $\\alpha=0.05$\n",
    "\n",
    "\n",
    "\n",
    "#### Confidence Interval: 95%  (significance level a=0.05)\n"
   ]
  },
  {
   "cell_type": "code",
   "execution_count": 2,
   "metadata": {
    "collapsed": false
   },
   "outputs": [
    {
     "name": "stdout",
     "output_type": "stream",
     "text": [
      "Populating the interactive namespace from numpy and matplotlib\n",
      "/home/cusp/zz1598/PUIdata\n"
     ]
    }
   ],
   "source": [
    "from __future__  import print_function, division\n",
    "import pylab as pl\n",
    "#import seaborn\n",
    "import pandas as pd\n",
    "import numpy as np\n",
    "import os\n",
    "\n",
    "%pylab inline\n",
    "\n",
    "if os.getenv ('PUI2016') is None:\n",
    "    print (\"Must set env variable PUI2016\")\n",
    "if os.getenv ('PUIDATA') is None:\n",
    "    print (\"Must set env variable PUIDATA\")\n",
    "\n",
    "print (os.environ['PUIDATA'])  #print the path of desired directory PUIDATA"
   ]
  },
  {
   "cell_type": "code",
   "execution_count": 3,
   "metadata": {
    "collapsed": false,
    "scrolled": true
   },
   "outputs": [],
   "source": [
    "#s I need to make a new directory\n",
    "if not os.path.isdir(os.environ['PUIDATA']):\n",
    "    os.system('mkdir ' + os.environ['PUIDATA'])"
   ]
  },
  {
   "cell_type": "code",
   "execution_count": 4,
   "metadata": {
    "collapsed": false
   },
   "outputs": [],
   "source": [
    "def getCitiBikeCSV(datestring):\n",
    "    print(\"Try downloading...\", datestring)\n",
    "\n",
    "    #check if it is in the folder already\n",
    "    if not os.path.isfile(os.getenv('PUIDATA') + \"/\" + datestring + '-citibike-tripdata.csv'):\n",
    "        if not os.path.isfile(os.getenv('PUIDATA') + '/' + datestring + '-citibike-tripdata.zip'):\n",
    "            #if not exists, then download the zip file from website\n",
    "            os.system('curl -O https://s3.amazonaws.com/tripdata/'+ datestring + \"-citibike-tripdata.zip\")\n",
    "        # Move the file into PUIDATA directory\n",
    "        os.system('mv ' + datestring + '-citibike-tripdata.zip ' + os.getenv('PUIDATA'))\n",
    "        #unzip the file, and move from current dir to PUIDATA\n",
    "        os.system('unzip ' + os.getenv('PUIDATA') + '/' + datestring + '-citibike-tripdata.zip')\n",
    "        os.system('mv ' + datestring + '-citibike-tripdata.csv ' + os.getenv('PUIDATA'))\n",
    "    \n",
    "    if 201307 <= int(datestring) < 201409:\n",
    "        os.system(\"mv \" + datestring[:4] + '-' +  datestring[4:] + \n",
    "                \"\\ -\\ Citi\\ Bike\\ trip\\ data.csv \" + datestring + \"-citibike-tripdata.csv\")\n",
    "        os.system(\"mv \" + datestring + \"-citibike-tripdata.csv \" + os.getenv(\"PUIDATA\"))\n",
    "    elif int(datestring) < 201307:\n",
    "        print ('No data earlier than 201307')\n",
    "        \n",
    "    print (\"file in place, you can continue\")"
   ]
  },
  {
   "cell_type": "code",
   "execution_count": 7,
   "metadata": {
    "collapsed": false
   },
   "outputs": [
    {
     "name": "stdout",
     "output_type": "stream",
     "text": [
      "Enter datestring(i.e.201308): 201502\n",
      "Try downloading... 201502\n",
      "file in place, you can continue\n"
     ]
    }
   ],
   "source": [
    "datestring = raw_input(\"Enter datestring(i.e.201308): \")\n",
    "getCitiBikeCSV(datestring)\n",
    "# We use 201512 data"
   ]
  },
  {
   "cell_type": "code",
   "execution_count": 9,
   "metadata": {
    "collapsed": false
   },
   "outputs": [
    {
     "data": {
      "text/html": [
       "<div>\n",
       "<table border=\"1\" class=\"dataframe\">\n",
       "  <thead>\n",
       "    <tr style=\"text-align: right;\">\n",
       "      <th></th>\n",
       "      <th>tripduration</th>\n",
       "      <th>starttime</th>\n",
       "      <th>stoptime</th>\n",
       "      <th>start station id</th>\n",
       "      <th>start station name</th>\n",
       "      <th>start station latitude</th>\n",
       "      <th>start station longitude</th>\n",
       "      <th>end station id</th>\n",
       "      <th>end station name</th>\n",
       "      <th>end station latitude</th>\n",
       "      <th>end station longitude</th>\n",
       "      <th>bikeid</th>\n",
       "      <th>usertype</th>\n",
       "      <th>birth year</th>\n",
       "      <th>gender</th>\n",
       "    </tr>\n",
       "  </thead>\n",
       "  <tbody>\n",
       "    <tr>\n",
       "      <th>0</th>\n",
       "      <td>801</td>\n",
       "      <td>2/1/2015 0:00</td>\n",
       "      <td>2/1/2015 0:14</td>\n",
       "      <td>521</td>\n",
       "      <td>8 Ave &amp; W 31 St</td>\n",
       "      <td>40.750450</td>\n",
       "      <td>-73.994811</td>\n",
       "      <td>423</td>\n",
       "      <td>W 54 St &amp; 9 Ave</td>\n",
       "      <td>40.765849</td>\n",
       "      <td>-73.986905</td>\n",
       "      <td>17131</td>\n",
       "      <td>Subscriber</td>\n",
       "      <td>1978.0</td>\n",
       "      <td>2</td>\n",
       "    </tr>\n",
       "    <tr>\n",
       "      <th>1</th>\n",
       "      <td>379</td>\n",
       "      <td>2/1/2015 0:00</td>\n",
       "      <td>2/1/2015 0:07</td>\n",
       "      <td>497</td>\n",
       "      <td>E 17 St &amp; Broadway</td>\n",
       "      <td>40.737050</td>\n",
       "      <td>-73.990093</td>\n",
       "      <td>504</td>\n",
       "      <td>1 Ave &amp; E 15 St</td>\n",
       "      <td>40.732219</td>\n",
       "      <td>-73.981656</td>\n",
       "      <td>21289</td>\n",
       "      <td>Subscriber</td>\n",
       "      <td>1993.0</td>\n",
       "      <td>1</td>\n",
       "    </tr>\n",
       "    <tr>\n",
       "      <th>2</th>\n",
       "      <td>2474</td>\n",
       "      <td>2/1/2015 0:01</td>\n",
       "      <td>2/1/2015 0:42</td>\n",
       "      <td>281</td>\n",
       "      <td>Grand Army Plaza &amp; Central Park S</td>\n",
       "      <td>40.764397</td>\n",
       "      <td>-73.973715</td>\n",
       "      <td>127</td>\n",
       "      <td>Barrow St &amp; Hudson St</td>\n",
       "      <td>40.731724</td>\n",
       "      <td>-74.006744</td>\n",
       "      <td>18903</td>\n",
       "      <td>Subscriber</td>\n",
       "      <td>1969.0</td>\n",
       "      <td>2</td>\n",
       "    </tr>\n",
       "    <tr>\n",
       "      <th>3</th>\n",
       "      <td>818</td>\n",
       "      <td>2/1/2015 0:01</td>\n",
       "      <td>2/1/2015 0:15</td>\n",
       "      <td>2004</td>\n",
       "      <td>6 Ave &amp; Broome St</td>\n",
       "      <td>40.724399</td>\n",
       "      <td>-74.004704</td>\n",
       "      <td>505</td>\n",
       "      <td>6 Ave &amp; W 33 St</td>\n",
       "      <td>40.749013</td>\n",
       "      <td>-73.988484</td>\n",
       "      <td>21044</td>\n",
       "      <td>Subscriber</td>\n",
       "      <td>1985.0</td>\n",
       "      <td>2</td>\n",
       "    </tr>\n",
       "    <tr>\n",
       "      <th>4</th>\n",
       "      <td>544</td>\n",
       "      <td>2/1/2015 0:01</td>\n",
       "      <td>2/1/2015 0:10</td>\n",
       "      <td>323</td>\n",
       "      <td>Lawrence St &amp; Willoughby St</td>\n",
       "      <td>40.692362</td>\n",
       "      <td>-73.986317</td>\n",
       "      <td>83</td>\n",
       "      <td>Atlantic Ave &amp; Fort Greene Pl</td>\n",
       "      <td>40.683826</td>\n",
       "      <td>-73.976323</td>\n",
       "      <td>19868</td>\n",
       "      <td>Subscriber</td>\n",
       "      <td>1957.0</td>\n",
       "      <td>1</td>\n",
       "    </tr>\n",
       "    <tr>\n",
       "      <th>5</th>\n",
       "      <td>717</td>\n",
       "      <td>2/1/2015 0:02</td>\n",
       "      <td>2/1/2015 0:14</td>\n",
       "      <td>373</td>\n",
       "      <td>Willoughby Ave &amp; Walworth St</td>\n",
       "      <td>40.693317</td>\n",
       "      <td>-73.953820</td>\n",
       "      <td>2002</td>\n",
       "      <td>Wythe Ave &amp; Metropolitan Ave</td>\n",
       "      <td>40.716887</td>\n",
       "      <td>-73.963198</td>\n",
       "      <td>15854</td>\n",
       "      <td>Subscriber</td>\n",
       "      <td>1979.0</td>\n",
       "      <td>1</td>\n",
       "    </tr>\n",
       "    <tr>\n",
       "      <th>6</th>\n",
       "      <td>1306</td>\n",
       "      <td>2/1/2015 0:04</td>\n",
       "      <td>2/1/2015 0:26</td>\n",
       "      <td>352</td>\n",
       "      <td>W 56 St &amp; 6 Ave</td>\n",
       "      <td>40.763406</td>\n",
       "      <td>-73.977225</td>\n",
       "      <td>504</td>\n",
       "      <td>1 Ave &amp; E 15 St</td>\n",
       "      <td>40.732219</td>\n",
       "      <td>-73.981656</td>\n",
       "      <td>15173</td>\n",
       "      <td>Subscriber</td>\n",
       "      <td>1983.0</td>\n",
       "      <td>1</td>\n",
       "    </tr>\n",
       "    <tr>\n",
       "      <th>7</th>\n",
       "      <td>913</td>\n",
       "      <td>2/1/2015 0:04</td>\n",
       "      <td>2/1/2015 0:19</td>\n",
       "      <td>439</td>\n",
       "      <td>E 4 St &amp; 2 Ave</td>\n",
       "      <td>40.726281</td>\n",
       "      <td>-73.989780</td>\n",
       "      <td>116</td>\n",
       "      <td>W 17 St &amp; 8 Ave</td>\n",
       "      <td>40.741776</td>\n",
       "      <td>-74.001497</td>\n",
       "      <td>17862</td>\n",
       "      <td>Subscriber</td>\n",
       "      <td>1955.0</td>\n",
       "      <td>1</td>\n",
       "    </tr>\n",
       "    <tr>\n",
       "      <th>8</th>\n",
       "      <td>759</td>\n",
       "      <td>2/1/2015 0:04</td>\n",
       "      <td>2/1/2015 0:17</td>\n",
       "      <td>335</td>\n",
       "      <td>Washington Pl &amp; Broadway</td>\n",
       "      <td>40.729039</td>\n",
       "      <td>-73.994046</td>\n",
       "      <td>2012</td>\n",
       "      <td>E 27 St &amp; 1 Ave</td>\n",
       "      <td>40.739445</td>\n",
       "      <td>-73.976806</td>\n",
       "      <td>21183</td>\n",
       "      <td>Subscriber</td>\n",
       "      <td>1985.0</td>\n",
       "      <td>2</td>\n",
       "    </tr>\n",
       "    <tr>\n",
       "      <th>9</th>\n",
       "      <td>585</td>\n",
       "      <td>2/1/2015 0:05</td>\n",
       "      <td>2/1/2015 0:15</td>\n",
       "      <td>284</td>\n",
       "      <td>Greenwich Ave &amp; 8 Ave</td>\n",
       "      <td>40.739017</td>\n",
       "      <td>-74.002638</td>\n",
       "      <td>444</td>\n",
       "      <td>Broadway &amp; W 24 St</td>\n",
       "      <td>40.742354</td>\n",
       "      <td>-73.989151</td>\n",
       "      <td>14843</td>\n",
       "      <td>Subscriber</td>\n",
       "      <td>1982.0</td>\n",
       "      <td>1</td>\n",
       "    </tr>\n",
       "  </tbody>\n",
       "</table>\n",
       "</div>"
      ],
      "text/plain": [
       "   tripduration      starttime       stoptime  start station id  \\\n",
       "0           801  2/1/2015 0:00  2/1/2015 0:14               521   \n",
       "1           379  2/1/2015 0:00  2/1/2015 0:07               497   \n",
       "2          2474  2/1/2015 0:01  2/1/2015 0:42               281   \n",
       "3           818  2/1/2015 0:01  2/1/2015 0:15              2004   \n",
       "4           544  2/1/2015 0:01  2/1/2015 0:10               323   \n",
       "5           717  2/1/2015 0:02  2/1/2015 0:14               373   \n",
       "6          1306  2/1/2015 0:04  2/1/2015 0:26               352   \n",
       "7           913  2/1/2015 0:04  2/1/2015 0:19               439   \n",
       "8           759  2/1/2015 0:04  2/1/2015 0:17               335   \n",
       "9           585  2/1/2015 0:05  2/1/2015 0:15               284   \n",
       "\n",
       "                  start station name  start station latitude  \\\n",
       "0                    8 Ave & W 31 St               40.750450   \n",
       "1                 E 17 St & Broadway               40.737050   \n",
       "2  Grand Army Plaza & Central Park S               40.764397   \n",
       "3                  6 Ave & Broome St               40.724399   \n",
       "4        Lawrence St & Willoughby St               40.692362   \n",
       "5       Willoughby Ave & Walworth St               40.693317   \n",
       "6                    W 56 St & 6 Ave               40.763406   \n",
       "7                     E 4 St & 2 Ave               40.726281   \n",
       "8           Washington Pl & Broadway               40.729039   \n",
       "9              Greenwich Ave & 8 Ave               40.739017   \n",
       "\n",
       "   start station longitude  end station id               end station name  \\\n",
       "0               -73.994811             423                W 54 St & 9 Ave   \n",
       "1               -73.990093             504                1 Ave & E 15 St   \n",
       "2               -73.973715             127          Barrow St & Hudson St   \n",
       "3               -74.004704             505                6 Ave & W 33 St   \n",
       "4               -73.986317              83  Atlantic Ave & Fort Greene Pl   \n",
       "5               -73.953820            2002   Wythe Ave & Metropolitan Ave   \n",
       "6               -73.977225             504                1 Ave & E 15 St   \n",
       "7               -73.989780             116                W 17 St & 8 Ave   \n",
       "8               -73.994046            2012                E 27 St & 1 Ave   \n",
       "9               -74.002638             444             Broadway & W 24 St   \n",
       "\n",
       "   end station latitude  end station longitude  bikeid    usertype  \\\n",
       "0             40.765849             -73.986905   17131  Subscriber   \n",
       "1             40.732219             -73.981656   21289  Subscriber   \n",
       "2             40.731724             -74.006744   18903  Subscriber   \n",
       "3             40.749013             -73.988484   21044  Subscriber   \n",
       "4             40.683826             -73.976323   19868  Subscriber   \n",
       "5             40.716887             -73.963198   15854  Subscriber   \n",
       "6             40.732219             -73.981656   15173  Subscriber   \n",
       "7             40.741776             -74.001497   17862  Subscriber   \n",
       "8             40.739445             -73.976806   21183  Subscriber   \n",
       "9             40.742354             -73.989151   14843  Subscriber   \n",
       "\n",
       "   birth year  gender  \n",
       "0      1978.0       2  \n",
       "1      1993.0       1  \n",
       "2      1969.0       2  \n",
       "3      1985.0       2  \n",
       "4      1957.0       1  \n",
       "5      1979.0       1  \n",
       "6      1983.0       1  \n",
       "7      1955.0       1  \n",
       "8      1985.0       2  \n",
       "9      1982.0       1  "
      ]
     },
     "execution_count": 9,
     "metadata": {},
     "output_type": "execute_result"
    }
   ],
   "source": [
    "df=pd.read_csv(os.getenv(\"PUIDATA\") + \"/\" + datestring + '-citibike-tripdata.csv')\n",
    "df.head(10)"
   ]
  },
  {
   "cell_type": "code",
   "execution_count": 10,
   "metadata": {
    "collapsed": false
   },
   "outputs": [
    {
     "data": {
      "text/plain": [
       "Index([u'tripduration', u'starttime', u'stoptime', u'start station id',\n",
       "       u'start station name', u'start station latitude',\n",
       "       u'start station longitude', u'end station id', u'end station name',\n",
       "       u'end station latitude', u'end station longitude', u'bikeid',\n",
       "       u'usertype', u'birth year', u'gender'],\n",
       "      dtype='object')"
      ]
     },
     "execution_count": 10,
     "metadata": {},
     "output_type": "execute_result"
    }
   ],
   "source": [
    "df.columns"
   ]
  },
  {
   "cell_type": "code",
   "execution_count": 11,
   "metadata": {
    "collapsed": false
   },
   "outputs": [
    {
     "data": {
      "text/html": [
       "<div>\n",
       "<table border=\"1\" class=\"dataframe\">\n",
       "  <thead>\n",
       "    <tr style=\"text-align: right;\">\n",
       "      <th></th>\n",
       "      <th>starttime</th>\n",
       "      <th>birth year</th>\n",
       "    </tr>\n",
       "  </thead>\n",
       "  <tbody>\n",
       "    <tr>\n",
       "      <th>0</th>\n",
       "      <td>2/1/2015 0:00</td>\n",
       "      <td>1978.0</td>\n",
       "    </tr>\n",
       "    <tr>\n",
       "      <th>1</th>\n",
       "      <td>2/1/2015 0:00</td>\n",
       "      <td>1993.0</td>\n",
       "    </tr>\n",
       "    <tr>\n",
       "      <th>2</th>\n",
       "      <td>2/1/2015 0:01</td>\n",
       "      <td>1969.0</td>\n",
       "    </tr>\n",
       "    <tr>\n",
       "      <th>3</th>\n",
       "      <td>2/1/2015 0:01</td>\n",
       "      <td>1985.0</td>\n",
       "    </tr>\n",
       "    <tr>\n",
       "      <th>4</th>\n",
       "      <td>2/1/2015 0:01</td>\n",
       "      <td>1957.0</td>\n",
       "    </tr>\n",
       "    <tr>\n",
       "      <th>5</th>\n",
       "      <td>2/1/2015 0:02</td>\n",
       "      <td>1979.0</td>\n",
       "    </tr>\n",
       "    <tr>\n",
       "      <th>6</th>\n",
       "      <td>2/1/2015 0:04</td>\n",
       "      <td>1983.0</td>\n",
       "    </tr>\n",
       "    <tr>\n",
       "      <th>7</th>\n",
       "      <td>2/1/2015 0:04</td>\n",
       "      <td>1955.0</td>\n",
       "    </tr>\n",
       "    <tr>\n",
       "      <th>8</th>\n",
       "      <td>2/1/2015 0:04</td>\n",
       "      <td>1985.0</td>\n",
       "    </tr>\n",
       "    <tr>\n",
       "      <th>9</th>\n",
       "      <td>2/1/2015 0:05</td>\n",
       "      <td>1982.0</td>\n",
       "    </tr>\n",
       "  </tbody>\n",
       "</table>\n",
       "</div>"
      ],
      "text/plain": [
       "       starttime  birth year\n",
       "0  2/1/2015 0:00      1978.0\n",
       "1  2/1/2015 0:00      1993.0\n",
       "2  2/1/2015 0:01      1969.0\n",
       "3  2/1/2015 0:01      1985.0\n",
       "4  2/1/2015 0:01      1957.0\n",
       "5  2/1/2015 0:02      1979.0\n",
       "6  2/1/2015 0:04      1983.0\n",
       "7  2/1/2015 0:04      1955.0\n",
       "8  2/1/2015 0:04      1985.0\n",
       "9  2/1/2015 0:05      1982.0"
      ]
     },
     "execution_count": 11,
     "metadata": {},
     "output_type": "execute_result"
    }
   ],
   "source": [
    "df.drop([u'tripduration', u'stoptime', u'start station id',\n",
    "       u'start station name', u'start station latitude',\n",
    "       u'start station longitude', u'end station id', u'end station name',\n",
    "       u'end station latitude', u'end station longitude', u'bikeid',\n",
    "       u'usertype', u'gender'],axis=1, inplace=True)\n",
    "df.head(10)"
   ]
  },
  {
   "cell_type": "code",
   "execution_count": null,
   "metadata": {
    "collapsed": false
   },
   "outputs": [],
   "source": [
    "df['date'] = pd.to_datetime(df['starttime'])\n",
    "df.head(10)"
   ]
  },
  {
   "cell_type": "code",
   "execution_count": null,
   "metadata": {
    "collapsed": false
   },
   "outputs": [],
   "source": [
    "df.loc[:,'age'] = 2016 - df['birth year'] + 1\n",
    "df['age_group'] = df.age < 40\n",
    "df['age_group'] = df.age_group * 1\n",
    "df.head(10)"
   ]
  },
  {
   "cell_type": "code",
   "execution_count": null,
   "metadata": {
    "collapsed": false,
    "scrolled": false
   },
   "outputs": [],
   "source": [
    "#drop rows with age > 60\n",
    "df = df.drop(df[df.age > 60].index)\n",
    "df.head(10)"
   ]
  },
  {
   "cell_type": "code",
   "execution_count": null,
   "metadata": {
    "collapsed": true
   },
   "outputs": [],
   "source": [
    "df = df.iloc[:,(2,4)]"
   ]
  },
  {
   "cell_type": "code",
   "execution_count": null,
   "metadata": {
    "collapsed": false,
    "scrolled": true
   },
   "outputs": [],
   "source": [
    "df.head(10)"
   ]
  },
  {
   "cell_type": "code",
   "execution_count": null,
   "metadata": {
    "collapsed": false
   },
   "outputs": [],
   "source": [
    "fig=pl.figure(figsize(6,6))\n",
    "\n",
    "# young people bike ridings on each days of a week\n",
    "norm_yon = 1\n",
    "count1 = (df['date'][df['age_group'] == 1].groupby([df['date'].dt.weekday]).count()) / norm_yon\n",
    "count1.plot(kind=\"bar\", color='IndianRed', alpha=0.5, label='young bikers')\n",
    "\n",
    "# count mid-age people bike ridings on each day of a week\n",
    "norm_mid = 1\n",
    "count0 = (df['date'][df['age_group'] == 0].groupby([df['date'].dt.weekday]).count()) / norm_mid\n",
    "ax = count0.plot(kind=\"bar\", alpha=0.5, label='mid-age bikers')\n",
    "\n",
    "tmp = ax.xaxis.set_ticklabels(['Mon','Tue','Wed','Thu','Fri','Sat','Sun'], fontsize=13, rotation=30)\n",
    "ax.set_title('Figure 1 - Weekly Counts of Citi-Bike Ridings', fontsize=15)\n",
    "ax.set_xlabel('Days of a Week', fontsize=13)\n",
    "ax.set_ylabel('Number of rides', fontsize=13)\n",
    "pl.legend(loc='best', fontsize=12)"
   ]
  },
  {
   "cell_type": "code",
   "execution_count": null,
   "metadata": {
    "collapsed": false
   },
   "outputs": [],
   "source": [
    "fig=pl.figure(figsize(6,6))\n",
    "\n",
    "counts_y = df.date[df.age_group == 1].groupby([df.date.dt.weekday]).count()\n",
    "norm_y = 1\n",
    "error_y = np.sqrt(counts_y)\n",
    "ax=((counts_y) / norm_y).plot(kind=\"bar\",color='IndianRed', alpha=0.5, \n",
    "                              yerr=[((error_y) / norm_y, (error_y) / norm_y)], label='young bikers')\n",
    "\n",
    "\n",
    "counts_m = df.date[df.age_group == 0 ].groupby([df.date.dt.weekday]).count()\n",
    "norm_m = 1\n",
    "error_m = np.sqrt(counts_m)\n",
    "((counts_m) / norm_m).plot(kind=\"bar\", alpha=0.5, yerr=[((error_m) / norm_m, (error_m) / norm_m)], label='mid-age bikers')\n",
    "\n",
    "ax.xaxis.set_ticklabels(['Mon','Tue','Wed','Thu','Fri','Sat','Sun'], fontsize=13, rotation=30)\n",
    "ax.set_title('Figure 2 - Weekly Counts of Citi-Bike Ridings', fontsize=15)\n",
    "ax.set_ylabel (\"Number of rides\", fontsize=13)\n",
    "ax.set_xlabel (\"Days of the week\", fontsize=13)\n",
    "pl.legend(loc='best',fontsize=12)"
   ]
  },
  {
   "cell_type": "code",
   "execution_count": null,
   "metadata": {
    "collapsed": false
   },
   "outputs": [],
   "source": [
    "fig = pl.figure(figsize(8,5))\n",
    "\n",
    "norm_y = counts_y.sum()\n",
    "error_y = np.sqrt(counts_y)\n",
    "((counts_y) / norm_y).plot(kind=\"bar\", alpha=0.5, color='IndianRed', \n",
    "                           yerr=[((error_y) / norm_y, (error_y) / norm_y)], label='young bikers')\n",
    "\n",
    "norm_m = counts_m.sum()\n",
    "ax = ((counts_m) / norm_m).plot(kind=\"bar\", alpha=0.5, yerr=[((error_m)/norm_m,(error_m)/norm_m)], label='mid-age bikers')\n",
    "\n",
    "ax.xaxis.set_ticklabels(['Mon','Tue','Wed','Thu','Fri','Sat','Sun'], fontsize=13, rotation=30)\n",
    "ax.set_title('Figure 3 - Fraction of Citi-Bike Rides', fontsize=15)\n",
    "ax.set_ylabel (\"Fraction of rides\", fontsize=13)\n",
    "ax.set_xlabel (\"Days of the week\", fontsize=13)\n",
    "pl.legend(loc='best',fontsize=12)\n",
    "\n",
    "#the rates of the mid-age group gets higher. Is it because its total sum of ridings is lower compared to the young group? "
   ]
  },
  {
   "cell_type": "code",
   "execution_count": null,
   "metadata": {
    "collapsed": false
   },
   "outputs": [],
   "source": [
    "# Set up the test proportion\n",
    "\n",
    "fig = pl.figure(figsize(10,5))\n",
    "ax1 = fig.add_subplot(121)\n",
    "ax2 = fig.add_subplot(122)\n",
    "ax1.set_xticks([])\n",
    "ax2.set_xticks([])\n",
    "week_y = sum(counts_y[:]) * 1.0 / norm_y\n",
    "weekend_y = sum(counts_y[-2:]) * 1.0 / norm_y\n",
    "eweek_y = np.sqrt(sum(error_y[:]**2)) / norm_y\n",
    "eweekend_y = np.sqrt(sum(error_y[-2:]**2)) / norm_y\n",
    "\n",
    "week_m = sum(counts_m[:]) * 1.0 / norm_m\n",
    "weekend_m = sum(counts_m[-2:]) * 1.0 / norm_m\n",
    "eweek_m = np.sqrt(sum(error_m[:]**2)) / norm_m\n",
    "eweekend_m = np.sqrt(sum(error_m[-2:]**2)) / norm_m\n",
    "\n",
    "print(\"Young: week:{0:.3f}, weekend:{1:.3f}, week error:{2:.3f}, weekend error:{3:.3f}\"\\\n",
    "      .format(week_y, weekend_y, eweek_y, eweekend_y))\n",
    "print(\"Mid-age: week:{0:.3f}, weekend:{1:.3f}, week error:{2:.3f}, weekend error:{3:.3f}\"\\\n",
    "      .format(week_m, weekend_m, eweek_m, eweekend_m))\n",
    "\n",
    "ax1.errorbar([0.2], [week_y], yerr=[eweek_y], fmt='o', label='young bikers')\n",
    "ax1.errorbar([0.4], [week_m], yerr=[eweek_m], fmt='o', label='mid-age bikers')\n",
    "ax1.set_xlim(0, 0.5)\n",
    "#ax1.set_ylim(0,0.02)\n",
    "\n",
    "ax2.errorbar([0.2], [weekend_y], yerr=[eweekend_y], fmt='o', label='young bikers')\n",
    "ax2.errorbar([0.4], [weekend_m], yerr=[eweekend_m], fmt='o', label='mid-age bikers')\n",
    "ax2.set_xlim(0, 0.5)\n",
    "\n",
    "\n",
    "ax1.set_title(\"week days(7 days)\")\n",
    "ax1.set_ylabel(\"Fraction of normalized rides by age group\")\n",
    "ax1.legend(loc='best', fontsize = 12)\n",
    "ax2.set_title(\"weekends\")\n",
    "ax2.set_ylabel(\"Fraction of normalized rides by age group\")\n",
    "ax2.legend(loc='best',fontsize = 12)\n"
   ]
  },
  {
   "cell_type": "code",
   "execution_count": 48,
   "metadata": {
    "collapsed": false
   },
   "outputs": [
    {
     "name": "stdout",
     "output_type": "stream",
     "text": [
      "date\n",
      "0     8795\n",
      "1    13112\n",
      "2    19010\n",
      "3    17622\n",
      "4    15095\n",
      "5    10782\n",
      "6    10868\n",
      "Name: date, dtype: int64\n"
     ]
    }
   ],
   "source": [
    "counts_test_y = df.date[df.age_group == 1].groupby([df.date.dt.weekday]).count()\n",
    "print (counts_test_y)"
   ]
  },
  {
   "cell_type": "code",
   "execution_count": null,
   "metadata": {
    "collapsed": true
   },
   "outputs": [],
   "source": []
  }
 ],
 "metadata": {
  "kernelspec": {
   "display_name": "PUI2016_Python2",
   "language": "python",
   "name": "pui2016_python2"
  },
  "language_info": {
   "codemirror_mode": {
    "name": "ipython",
    "version": 2
   },
   "file_extension": ".py",
   "mimetype": "text/x-python",
   "name": "python",
   "nbconvert_exporter": "python",
   "pygments_lexer": "ipython2",
   "version": "2.7.12"
  }
 },
 "nbformat": 4,
 "nbformat_minor": 0
}
